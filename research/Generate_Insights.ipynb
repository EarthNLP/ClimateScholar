{
 "cells": [
  {
   "cell_type": "code",
   "execution_count": null,
   "metadata": {},
   "outputs": [],
   "source": []
  },
  {
   "attachments": {},
   "cell_type": "markdown",
   "metadata": {},
   "source": [
    "Identify papers with overlapping keywords between two topics:\n",
    "\n",
    "This query can help you find papers that share keywords between two topics, which might be interesting to study for potential interdisciplinary research or hypothesis generation.\n",
    "\n",
    "```\n",
    "MATCH (p:Paper)-[:IN_TOPIC]->(t1:Topic)\n",
    "WHERE t1.topic_name = 'co2_climate_ice_arctic_model_data_sea_atmospheric_global_weather'\n",
    "MATCH (p)-[:HAS_KEYWORD]->(k:Keyword)<-[:HAS_KEYWORD]-(p2:Paper)-[:IN_TOPIC]->(t2:Topic)\n",
    "WHERE t2.topic_name = 'species_rockfish_sharks_shark_change_climate_fish_climate change_reef_habitat' AND t1 <> t2\n",
    "RETURN p, p2, k\n",
    "```"
   ]
  },
  {
   "cell_type": "code",
   "execution_count": null,
   "metadata": {},
   "outputs": [],
   "source": []
  }
 ],
 "metadata": {
  "kernelspec": {
   "display_name": "venv",
   "language": "python",
   "name": "python3"
  },
  "language_info": {
   "name": "python",
   "version": "3.8.8"
  },
  "orig_nbformat": 4,
  "vscode": {
   "interpreter": {
    "hash": "e1eabbc9a406c53db59c49ebe6f40286eabb20418c59c68041ab7ce3464042c4"
   }
  }
 },
 "nbformat": 4,
 "nbformat_minor": 2
}
