{
 "cells": [
  {
   "cell_type": "code",
   "execution_count": null,
   "metadata": {},
   "outputs": [],
   "source": [
    "%pip install git+https://github.com/boudinfl/pke.git"
   ]
  },
  {
   "cell_type": "code",
   "execution_count": null,
   "metadata": {},
   "outputs": [],
   "source": [
    "%pip install spacy"
   ]
  },
  {
   "cell_type": "code",
   "execution_count": null,
   "metadata": {},
   "outputs": [],
   "source": [
    "!python -m spacy download en_core_web_sm"
   ]
  },
  {
   "cell_type": "code",
   "execution_count": 1,
   "metadata": {},
   "outputs": [
    {
     "name": "stderr",
     "output_type": "stream",
     "text": [
      "d:\\code\\ClimateScholar\\wvenv\\lib\\site-packages\\tqdm\\auto.py:22: TqdmWarning: IProgress not found. Please update jupyter and ipywidgets. See https://ipywidgets.readthedocs.io/en/stable/user_install.html\n",
      "  from .autonotebook import tqdm as notebook_tqdm\n"
     ]
    }
   ],
   "source": [
    "import pke\n",
    "import json\n",
    "import spacy"
   ]
  },
  {
   "cell_type": "code",
   "execution_count": 2,
   "metadata": {},
   "outputs": [],
   "source": [
    "with open('./data/sample/rockfish.jsonl', 'r') as json_file:\n",
    "    json_list = list(json_file)"
   ]
  },
  {
   "cell_type": "code",
   "execution_count": 3,
   "metadata": {},
   "outputs": [
    {
     "data": {
      "text/plain": [
       "'The black rockfish (Sebastes schlegelii) is a teleost in which eggs are fertilized internally and retained in the maternal reproductive system, where they undergo development until live birth (viviparity). In the present study, we report a chromosome‐level black rockfish genome assembly. High‐throughput transcriptome analysis (RNA‐seq and ATAC‐seq) coupled with in situ hybridization (ISH) and immunofluorescence reveal several candidate genes for maternal preparation, sperm storage and release, and hatching. We propose that zona pellucida (ZP) proteins retain sperm at the oocyte envelope, while genes in two distinct astacin metalloproteinase subfamilies serve to release sperm from the ZP and free the embryo from chorion at prehatching stage. We present a model of black rockfish reproduction, and propose that the rockfish ovarian wall has a similar function to the uterus of mammals. Together, these genomic data reveal unprecedented insights into the evolution of an unusual teleost life history strategy, and provide a sound foundation for studying viviparity in nonmammalian vertebrates and an invaluable resource for rockfish ecological and evolutionary research.'"
      ]
     },
     "execution_count": 3,
     "metadata": {},
     "output_type": "execute_result"
    }
   ],
   "source": [
    "result = json.loads(json_list[0])\n",
    "result[\"data\"][0]['abstract']"
   ]
  },
  {
   "cell_type": "code",
   "execution_count": 4,
   "metadata": {},
   "outputs": [],
   "source": [
    "abstracts = []\n",
    "\n",
    "for result_dict in result[\"data\"]:\n",
    "    abstracts.append(result_dict['abstract'])"
   ]
  },
  {
   "cell_type": "code",
   "execution_count": 5,
   "metadata": {},
   "outputs": [
    {
     "data": {
      "text/plain": [
       "50"
      ]
     },
     "execution_count": 5,
     "metadata": {},
     "output_type": "execute_result"
    }
   ],
   "source": [
    "len(abstracts)"
   ]
  },
  {
   "cell_type": "code",
   "execution_count": 6,
   "metadata": {},
   "outputs": [
    {
     "name": "stdout",
     "output_type": "stream",
     "text": [
      "Found a none!\n",
      "Found a none!\n",
      "Found a none!\n",
      "Found a none!\n",
      "Found a none!\n",
      "Found a none!\n",
      "Found a none!\n",
      "Found a none!\n",
      "Found a none!\n",
      "Found a none!\n",
      "Found a none!\n",
      "Found a none!\n",
      "Found a none!\n",
      "Found a none!\n",
      "Found a none!\n",
      "Found a none!\n",
      "Found a none!\n",
      "Found a none!\n",
      "Found a none!\n"
     ]
    }
   ],
   "source": [
    "# initialize keyphrase extraction model, here TopicRank\n",
    "extractor = pke.unsupervised.TopicRank()\n",
    "\n",
    "keyphrases = []\n",
    "\n",
    "for abstract in abstracts:\n",
    "    if abstract is None:\n",
    "        print(\"Found a none!\")\n",
    "    else:\n",
    "        extractor.load_document(input=abstract, language='en')\n",
    "        extractor.candidate_selection()\n",
    "        extractor.candidate_weighting()\n",
    "        keyphrases.append(extractor.get_n_best(n=5))"
   ]
  },
  {
   "cell_type": "code",
   "execution_count": 10,
   "metadata": {},
   "outputs": [
    {
     "data": {
      "text/plain": [
       "['sperm storage',\n",
       " 'black rockfish',\n",
       " 'viviparity',\n",
       " 'uterus',\n",
       " 'unprecedented insights']"
      ]
     },
     "execution_count": 10,
     "metadata": {},
     "output_type": "execute_result"
    }
   ],
   "source": [
    "[x[0] for x in keyphrases[0]]"
   ]
  },
  {
   "cell_type": "code",
   "execution_count": null,
   "metadata": {},
   "outputs": [],
   "source": []
  }
 ],
 "metadata": {
  "kernelspec": {
   "display_name": "Python 3.8.8 ('venv': venv)",
   "language": "python",
   "name": "python3"
  },
  "language_info": {
   "codemirror_mode": {
    "name": "ipython",
    "version": 3
   },
   "file_extension": ".py",
   "mimetype": "text/x-python",
   "name": "python",
   "nbconvert_exporter": "python",
   "pygments_lexer": "ipython3",
   "version": "3.8.8"
  },
  "orig_nbformat": 4,
  "vscode": {
   "interpreter": {
    "hash": "e1eabbc9a406c53db59c49ebe6f40286eabb20418c59c68041ab7ce3464042c4"
   }
  }
 },
 "nbformat": 4,
 "nbformat_minor": 2
}
