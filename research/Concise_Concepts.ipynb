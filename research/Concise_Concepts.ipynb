{
 "cells": [
  {
   "cell_type": "code",
   "execution_count": 1,
   "metadata": {},
   "outputs": [
    {
     "name": "stdout",
     "output_type": "stream",
     "text": [
      "Requirement already satisfied: concise_concepts in d:\\code\\climatescholar\\wvenv\\lib\\site-packages (0.5.4)\n",
      "Requirement already satisfied: gensim<5,>=4 in d:\\code\\climatescholar\\wvenv\\lib\\site-packages (from concise_concepts) (4.2.0)\n",
      "Requirement already satisfied: spacy<4,>=3 in d:\\code\\climatescholar\\wvenv\\lib\\site-packages (from concise_concepts) (3.4.1)\n",
      "Requirement already satisfied: smart-open>=1.8.1 in d:\\code\\climatescholar\\wvenv\\lib\\site-packages (from gensim<5,>=4->concise_concepts) (5.2.1)\n",
      "Requirement already satisfied: Cython==0.29.28 in d:\\code\\climatescholar\\wvenv\\lib\\site-packages (from gensim<5,>=4->concise_concepts) (0.29.28)\n",
      "Requirement already satisfied: scipy>=0.18.1 in d:\\code\\climatescholar\\wvenv\\lib\\site-packages (from gensim<5,>=4->concise_concepts) (1.7.3)\n",
      "Requirement already satisfied: numpy>=1.17.0 in d:\\code\\climatescholar\\wvenv\\lib\\site-packages (from gensim<5,>=4->concise_concepts) (1.21.6)\n",
      "Requirement already satisfied: pydantic!=1.8,!=1.8.1,<1.10.0,>=1.7.4 in d:\\code\\climatescholar\\wvenv\\lib\\site-packages (from spacy<4,>=3->concise_concepts) (1.9.2)\n",
      "Requirement already satisfied: spacy-loggers<2.0.0,>=1.0.0 in d:\\code\\climatescholar\\wvenv\\lib\\site-packages (from spacy<4,>=3->concise_concepts) (1.0.3)\n",
      "Requirement already satisfied: thinc<8.2.0,>=8.1.0 in d:\\code\\climatescholar\\wvenv\\lib\\site-packages (from spacy<4,>=3->concise_concepts) (8.1.1)\n",
      "Requirement already satisfied: murmurhash<1.1.0,>=0.28.0 in d:\\code\\climatescholar\\wvenv\\lib\\site-packages (from spacy<4,>=3->concise_concepts) (1.0.8)\n",
      "Requirement already satisfied: catalogue<2.1.0,>=2.0.6 in d:\\code\\climatescholar\\wvenv\\lib\\site-packages (from spacy<4,>=3->concise_concepts) (2.0.8)\n",
      "Requirement already satisfied: packaging>=20.0 in d:\\code\\climatescholar\\wvenv\\lib\\site-packages (from spacy<4,>=3->concise_concepts) (21.3)\n",
      "Requirement already satisfied: preshed<3.1.0,>=3.0.2 in d:\\code\\climatescholar\\wvenv\\lib\\site-packages (from spacy<4,>=3->concise_concepts) (3.0.7)\n",
      "Requirement already satisfied: typer<0.5.0,>=0.3.0 in d:\\code\\climatescholar\\wvenv\\lib\\site-packages (from spacy<4,>=3->concise_concepts) (0.4.2)\n",
      "Requirement already satisfied: pathy>=0.3.5 in d:\\code\\climatescholar\\wvenv\\lib\\site-packages (from spacy<4,>=3->concise_concepts) (0.6.2)\n",
      "Requirement already satisfied: langcodes<4.0.0,>=3.2.0 in d:\\code\\climatescholar\\wvenv\\lib\\site-packages (from spacy<4,>=3->concise_concepts) (3.3.0)\n",
      "Requirement already satisfied: cymem<2.1.0,>=2.0.2 in d:\\code\\climatescholar\\wvenv\\lib\\site-packages (from spacy<4,>=3->concise_concepts) (2.0.6)\n",
      "Requirement already satisfied: requests<3.0.0,>=2.13.0 in d:\\code\\climatescholar\\wvenv\\lib\\site-packages (from spacy<4,>=3->concise_concepts) (2.28.1)\n",
      "Requirement already satisfied: wasabi<1.1.0,>=0.9.1 in d:\\code\\climatescholar\\wvenv\\lib\\site-packages (from spacy<4,>=3->concise_concepts) (0.10.1)\n",
      "Requirement already satisfied: srsly<3.0.0,>=2.4.3 in d:\\code\\climatescholar\\wvenv\\lib\\site-packages (from spacy<4,>=3->concise_concepts) (2.4.4)\n",
      "Requirement already satisfied: typing-extensions<4.2.0,>=3.7.4; python_version < \"3.8\" in d:\\code\\climatescholar\\wvenv\\lib\\site-packages (from spacy<4,>=3->concise_concepts) (4.1.1)\n",
      "Requirement already satisfied: tqdm<5.0.0,>=4.38.0 in d:\\code\\climatescholar\\wvenv\\lib\\site-packages (from spacy<4,>=3->concise_concepts) (4.64.1)\n",
      "Requirement already satisfied: jinja2 in d:\\code\\climatescholar\\wvenv\\lib\\site-packages (from spacy<4,>=3->concise_concepts) (3.1.2)\n",
      "Requirement already satisfied: spacy-legacy<3.1.0,>=3.0.9 in d:\\code\\climatescholar\\wvenv\\lib\\site-packages (from spacy<4,>=3->concise_concepts) (3.0.10)\n",
      "Requirement already satisfied: setuptools in d:\\code\\climatescholar\\wvenv\\lib\\site-packages (from spacy<4,>=3->concise_concepts) (47.1.0)\n",
      "Requirement already satisfied: blis<0.10.0,>=0.7.8 in d:\\code\\climatescholar\\wvenv\\lib\\site-packages (from thinc<8.2.0,>=8.1.0->spacy<4,>=3->concise_concepts) (0.9.1)\n",
      "Requirement already satisfied: confection<1.0.0,>=0.0.1 in d:\\code\\climatescholar\\wvenv\\lib\\site-packages (from thinc<8.2.0,>=8.1.0->spacy<4,>=3->concise_concepts) (0.0.1)\n",
      "Requirement already satisfied: zipp>=0.5; python_version < \"3.8\" in d:\\code\\climatescholar\\wvenv\\lib\\site-packages (from catalogue<2.1.0,>=2.0.6->spacy<4,>=3->concise_concepts) (3.8.1)\n",
      "Requirement already satisfied: pyparsing!=3.0.5,>=2.0.2 in d:\\code\\climatescholar\\wvenv\\lib\\site-packages (from packaging>=20.0->spacy<4,>=3->concise_concepts) (3.0.9)\n",
      "Requirement already satisfied: click<9.0.0,>=7.1.1 in d:\\code\\climatescholar\\wvenv\\lib\\site-packages (from typer<0.5.0,>=0.3.0->spacy<4,>=3->concise_concepts) (8.1.3)\n",
      "Requirement already satisfied: urllib3<1.27,>=1.21.1 in d:\\code\\climatescholar\\wvenv\\lib\\site-packages (from requests<3.0.0,>=2.13.0->spacy<4,>=3->concise_concepts) (1.26.12)\n",
      "Requirement already satisfied: certifi>=2017.4.17 in d:\\code\\climatescholar\\wvenv\\lib\\site-packages (from requests<3.0.0,>=2.13.0->spacy<4,>=3->concise_concepts) (2022.9.14)\n",
      "Requirement already satisfied: idna<4,>=2.5 in d:\\code\\climatescholar\\wvenv\\lib\\site-packages (from requests<3.0.0,>=2.13.0->spacy<4,>=3->concise_concepts) (3.4)\n",
      "Requirement already satisfied: charset-normalizer<3,>=2 in d:\\code\\climatescholar\\wvenv\\lib\\site-packages (from requests<3.0.0,>=2.13.0->spacy<4,>=3->concise_concepts) (2.1.1)\n",
      "Requirement already satisfied: colorama; platform_system == \"Windows\" in d:\\code\\climatescholar\\wvenv\\lib\\site-packages (from tqdm<5.0.0,>=4.38.0->spacy<4,>=3->concise_concepts) (0.4.5)\n",
      "Requirement already satisfied: MarkupSafe>=2.0 in d:\\code\\climatescholar\\wvenv\\lib\\site-packages (from jinja2->spacy<4,>=3->concise_concepts) (2.1.1)\n",
      "Requirement already satisfied: importlib-metadata; python_version < \"3.8\" in d:\\code\\climatescholar\\wvenv\\lib\\site-packages (from click<9.0.0,>=7.1.1->typer<0.5.0,>=0.3.0->spacy<4,>=3->concise_concepts) (4.12.0)\n",
      "Note: you may need to restart the kernel to use updated packages.\n"
     ]
    },
    {
     "name": "stderr",
     "output_type": "stream",
     "text": [
      "WARNING: You are using pip version 20.1.1; however, version 22.2.2 is available.\n",
      "You should consider upgrading via the 'd:\\Code\\ClimateScholar\\wvenv\\Scripts\\python.exe -m pip install --upgrade pip' command.\n"
     ]
    }
   ],
   "source": [
    "%pip install concise_concepts"
   ]
  },
  {
   "cell_type": "code",
   "execution_count": 2,
   "metadata": {},
   "outputs": [
    {
     "name": "stdout",
     "output_type": "stream",
     "text": [
      "Requirement already satisfied: en-core-web-lg==3.4.0 from https://github.com/explosion/spacy-models/releases/download/en_core_web_lg-3.4.0/en_core_web_lg-3.4.0-py3-none-any.whl#egg=en_core_web_lg==3.4.0 in d:\\code\\climatescholar\\wvenv\\lib\\site-packages (3.4.0)\n",
      "Requirement already satisfied: spacy<3.5.0,>=3.4.0 in d:\\code\\climatescholar\\wvenv\\lib\\site-packages (from en-core-web-lg==3.4.0) (3.4.1)\n",
      "Requirement already satisfied: setuptools in d:\\code\\climatescholar\\wvenv\\lib\\site-packages (from spacy<3.5.0,>=3.4.0->en-core-web-lg==3.4.0) (47.1.0)\n",
      "Requirement already satisfied: spacy-loggers<2.0.0,>=1.0.0 in d:\\code\\climatescholar\\wvenv\\lib\\site-packages (from spacy<3.5.0,>=3.4.0->en-core-web-lg==3.4.0) (1.0.3)\n",
      "Requirement already satisfied: thinc<8.2.0,>=8.1.0 in d:\\code\\climatescholar\\wvenv\\lib\\site-packages (from spacy<3.5.0,>=3.4.0->en-core-web-lg==3.4.0) (8.1.1)\n",
      "Requirement already satisfied: catalogue<2.1.0,>=2.0.6 in d:\\code\\climatescholar\\wvenv\\lib\\site-packages (from spacy<3.5.0,>=3.4.0->en-core-web-lg==3.4.0) (2.0.8)\n",
      "Requirement already satisfied: wasabi<1.1.0,>=0.9.1 in d:\\code\\climatescholar\\wvenv\\lib\\site-packages (from spacy<3.5.0,>=3.4.0->en-core-web-lg==3.4.0) (0.10.1)\n",
      "Requirement already satisfied: jinja2 in d:\\code\\climatescholar\\wvenv\\lib\\site-packages (from spacy<3.5.0,>=3.4.0->en-core-web-lg==3.4.0) (3.1.2)\n",
      "Requirement already satisfied: packaging>=20.0 in d:\\code\\climatescholar\\wvenv\\lib\\site-packages (from spacy<3.5.0,>=3.4.0->en-core-web-lg==3.4.0) (21.3)\n",
      "Requirement already satisfied: pydantic!=1.8,!=1.8.1,<1.10.0,>=1.7.4 in d:\\code\\climatescholar\\wvenv\\lib\\site-packages (from spacy<3.5.0,>=3.4.0->en-core-web-lg==3.4.0) (1.9.2)\n",
      "Requirement already satisfied: pathy>=0.3.5 in d:\\code\\climatescholar\\wvenv\\lib\\site-packages (from spacy<3.5.0,>=3.4.0->en-core-web-lg==3.4.0) (0.6.2)\n",
      "Requirement already satisfied: spacy-legacy<3.1.0,>=3.0.9 in d:\\code\\climatescholar\\wvenv\\lib\\site-packages (from spacy<3.5.0,>=3.4.0->en-core-web-lg==3.4.0) (3.0.10)\n",
      "Requirement already satisfied: typer<0.5.0,>=0.3.0 in d:\\code\\climatescholar\\wvenv\\lib\\site-packages (from spacy<3.5.0,>=3.4.0->en-core-web-lg==3.4.0) (0.4.2)\n",
      "Requirement already satisfied: tqdm<5.0.0,>=4.38.0 in d:\\code\\climatescholar\\wvenv\\lib\\site-packages (from spacy<3.5.0,>=3.4.0->en-core-web-lg==3.4.0) (4.64.1)\n",
      "Requirement already satisfied: cymem<2.1.0,>=2.0.2 in d:\\code\\climatescholar\\wvenv\\lib\\site-packages (from spacy<3.5.0,>=3.4.0->en-core-web-lg==3.4.0) (2.0.6)\n",
      "Requirement already satisfied: preshed<3.1.0,>=3.0.2 in d:\\code\\climatescholar\\wvenv\\lib\\site-packages (from spacy<3.5.0,>=3.4.0->en-core-web-lg==3.4.0) (3.0.7)\n",
      "Requirement already satisfied: murmurhash<1.1.0,>=0.28.0 in d:\\code\\climatescholar\\wvenv\\lib\\site-packages (from spacy<3.5.0,>=3.4.0->en-core-web-lg==3.4.0) (1.0.8)\n",
      "Requirement already satisfied: numpy>=1.15.0 in d:\\code\\climatescholar\\wvenv\\lib\\site-packages (from spacy<3.5.0,>=3.4.0->en-core-web-lg==3.4.0) (1.21.6)\n",
      "Requirement already satisfied: requests<3.0.0,>=2.13.0 in d:\\code\\climatescholar\\wvenv\\lib\\site-packages (from spacy<3.5.0,>=3.4.0->en-core-web-lg==3.4.0) (2.28.1)\n",
      "Requirement already satisfied: srsly<3.0.0,>=2.4.3 in d:\\code\\climatescholar\\wvenv\\lib\\site-packages (from spacy<3.5.0,>=3.4.0->en-core-web-lg==3.4.0) (2.4.4)\n",
      "Requirement already satisfied: typing-extensions<4.2.0,>=3.7.4; python_version < \"3.8\" in d:\\code\\climatescholar\\wvenv\\lib\\site-packages (from spacy<3.5.0,>=3.4.0->en-core-web-lg==3.4.0) (4.1.1)\n",
      "Requirement already satisfied: langcodes<4.0.0,>=3.2.0 in d:\\code\\climatescholar\\wvenv\\lib\\site-packages (from spacy<3.5.0,>=3.4.0->en-core-web-lg==3.4.0) (3.3.0)\n",
      "Requirement already satisfied: confection<1.0.0,>=0.0.1 in d:\\code\\climatescholar\\wvenv\\lib\\site-packages (from thinc<8.2.0,>=8.1.0->spacy<3.5.0,>=3.4.0->en-core-web-lg==3.4.0) (0.0.1)\n",
      "Requirement already satisfied: blis<0.10.0,>=0.7.8 in d:\\code\\climatescholar\\wvenv\\lib\\site-packages (from thinc<8.2.0,>=8.1.0->spacy<3.5.0,>=3.4.0->en-core-web-lg==3.4.0) (0.9.1)\n",
      "Requirement already satisfied: zipp>=0.5; python_version < \"3.8\" in d:\\code\\climatescholar\\wvenv\\lib\\site-packages (from catalogue<2.1.0,>=2.0.6->spacy<3.5.0,>=3.4.0->en-core-web-lg==3.4.0) (3.8.1)\n",
      "Requirement already satisfied: MarkupSafe>=2.0 in d:\\code\\climatescholar\\wvenv\\lib\\site-packages (from jinja2->spacy<3.5.0,>=3.4.0->en-core-web-lg==3.4.0) (2.1.1)\n",
      "Requirement already satisfied: pyparsing!=3.0.5,>=2.0.2 in d:\\code\\climatescholar\\wvenv\\lib\\site-packages (from packaging>=20.0->spacy<3.5.0,>=3.4.0->en-core-web-lg==3.4.0) (3.0.9)\n",
      "Requirement already satisfied: smart-open<6.0.0,>=5.2.1 in d:\\code\\climatescholar\\wvenv\\lib\\site-packages (from pathy>=0.3.5->spacy<3.5.0,>=3.4.0->en-core-web-lg==3.4.0) (5.2.1)\n",
      "Requirement already satisfied: click<9.0.0,>=7.1.1 in d:\\code\\climatescholar\\wvenv\\lib\\site-packages (from typer<0.5.0,>=0.3.0->spacy<3.5.0,>=3.4.0->en-core-web-lg==3.4.0) (8.1.3)\n",
      "Requirement already satisfied: colorama; platform_system == \"Windows\" in d:\\code\\climatescholar\\wvenv\\lib\\site-packages (from tqdm<5.0.0,>=4.38.0->spacy<3.5.0,>=3.4.0->en-core-web-lg==3.4.0) (0.4.5)\n",
      "Requirement already satisfied: urllib3<1.27,>=1.21.1 in d:\\code\\climatescholar\\wvenv\\lib\\site-packages (from requests<3.0.0,>=2.13.0->spacy<3.5.0,>=3.4.0->en-core-web-lg==3.4.0) (1.26.12)\n",
      "Requirement already satisfied: certifi>=2017.4.17 in d:\\code\\climatescholar\\wvenv\\lib\\site-packages (from requests<3.0.0,>=2.13.0->spacy<3.5.0,>=3.4.0->en-core-web-lg==3.4.0) (2022.9.14)\n",
      "Requirement already satisfied: idna<4,>=2.5 in d:\\code\\climatescholar\\wvenv\\lib\\site-packages (from requests<3.0.0,>=2.13.0->spacy<3.5.0,>=3.4.0->en-core-web-lg==3.4.0) (3.4)\n",
      "Requirement already satisfied: charset-normalizer<3,>=2 in d:\\code\\climatescholar\\wvenv\\lib\\site-packages (from requests<3.0.0,>=2.13.0->spacy<3.5.0,>=3.4.0->en-core-web-lg==3.4.0) (2.1.1)\n",
      "Requirement already satisfied: importlib-metadata; python_version < \"3.8\" in d:\\code\\climatescholar\\wvenv\\lib\\site-packages (from click<9.0.0,>=7.1.1->typer<0.5.0,>=0.3.0->spacy<3.5.0,>=3.4.0->en-core-web-lg==3.4.0) (4.12.0)\n",
      "✔ Download and installation successful\n",
      "You can now load the package via spacy.load('en_core_web_lg')\n"
     ]
    },
    {
     "name": "stderr",
     "output_type": "stream",
     "text": [
      "WARNING: You are using pip version 20.1.1; however, version 22.2.2 is available.\n",
      "You should consider upgrading via the 'd:\\Code\\ClimateScholar\\wvenv\\Scripts\\python.exe -m pip install --upgrade pip' command.\n"
     ]
    }
   ],
   "source": [
    "!python -m spacy download en_core_web_lg"
   ]
  },
  {
   "cell_type": "code",
   "execution_count": 1,
   "metadata": {},
   "outputs": [
    {
     "name": "stderr",
     "output_type": "stream",
     "text": [
      "d:\\code\\climatescholar\\venv\\lib\\site-packages\\tqdm\\auto.py:22: TqdmWarning: IProgress not found. Please update jupyter and ipywidgets. See https://ipywidgets.readthedocs.io/en/stable/user_install.html\n",
      "  from .autonotebook import tqdm as notebook_tqdm\n"
     ]
    }
   ],
   "source": [
    "import spacy\n",
    "from spacy import displacy\n",
    "import concise_concepts\n",
    "import pke\n",
    "import json\n"
   ]
  },
  {
   "cell_type": "code",
   "execution_count": 2,
   "metadata": {},
   "outputs": [
    {
     "data": {
      "text/plain": [
       "350"
      ]
     },
     "execution_count": 2,
     "metadata": {},
     "output_type": "execute_result"
    }
   ],
   "source": [
    "abstracts = []\n",
    "root_path = \"./data/sample\"\n",
    "sample_data = [\"weather_CO2.jsonl\", \"paleoclimate.jsonl\", \"rewilding.jsonl\", \"rockfish.jsonl\", \"arctic.jsonl\", \"climate.jsonl\", \"shark_climate.jsonl\"]\n",
    "\n",
    "for data_path in sample_data:\n",
    "    with open(f'{root_path}/{data_path}', 'r') as json_file:\n",
    "        json_list = list(json_file)\n",
    "\n",
    "    result = json.loads(json_list[0])\n",
    "\n",
    "    for result_dict in result[\"data\"]:\n",
    "        abstracts.append(result_dict)\n",
    "\n",
    "len(abstracts)"
   ]
  },
  {
   "cell_type": "code",
   "execution_count": 10,
   "metadata": {},
   "outputs": [
    {
     "data": {
      "text/plain": [
       "222"
      ]
     },
     "execution_count": 10,
     "metadata": {},
     "output_type": "execute_result"
    }
   ],
   "source": [
    "data = [y for y in (x for x in abstracts) if y[\"abstract\"] is not None]\n",
    "len(data)"
   ]
  },
  {
   "cell_type": "code",
   "execution_count": 4,
   "metadata": {},
   "outputs": [],
   "source": [
    "# initialize keyphrase extraction model, here TopicRank\n",
    "extractor = pke.unsupervised.TopicRank()"
   ]
  },
  {
   "cell_type": "code",
   "execution_count": 6,
   "metadata": {},
   "outputs": [],
   "source": [
    "entities = []\n",
    "for item in data:\n",
    "    abstract = item['abstract']\n",
    "\n",
    "    if abstract is None:\n",
    "        print(\"Found a none!\")\n",
    "    else:\n",
    "        extractor.load_document(input=abstract, language='en')\n",
    "        extractor.candidate_selection()\n",
    "        extractor.candidate_weighting()\n",
    "        ents = [x[0] for x in extractor.get_n_best(n=3)]\n",
    "        for ent in ents:\n",
    "            entities.append(ent)"
   ]
  },
  {
   "cell_type": "code",
   "execution_count": null,
   "metadata": {},
   "outputs": [],
   "source": [
    "entities"
   ]
  },
  {
   "cell_type": "code",
   "execution_count": null,
   "metadata": {},
   "outputs": [],
   "source": [
    "ent_data = {\n",
    "    \"entity\": entities,\n",
    "}\n",
    "\n",
    "nlp = spacy.load(\"en_core_web_lg\", disable=[\"ner\"])\n",
    "# ent_score for entity condifence scoring\n",
    "nlp.add_pipe(\"concise_concepts\", config={\"data\": data, \"ent_score\": True})\n",
    "\n",
    "options = {\"colors\": {\"entity\": \"darkorange\"}, \"ents\": [\"entity\"]}"
   ]
  },
  {
   "cell_type": "code",
   "execution_count": null,
   "metadata": {},
   "outputs": [],
   "source": [
    "ent_data"
   ]
  },
  {
   "cell_type": "code",
   "execution_count": null,
   "metadata": {},
   "outputs": [],
   "source": [
    "concise_ents = []\n",
    "for item in data:\n",
    "    abstract = item['abstract']\n",
    "\n",
    "    if abstract is None:\n",
    "        print(\"Found a none!\")\n",
    "    else:\n",
    "        doc = nlp(abstract)\n",
    "        concise_ents.append(doc.ents)\n"
   ]
  },
  {
   "cell_type": "code",
   "execution_count": 11,
   "metadata": {},
   "outputs": [],
   "source": [
    "abstract = data[0]['abstract']"
   ]
  },
  {
   "cell_type": "code",
   "execution_count": 12,
   "metadata": {},
   "outputs": [
    {
     "name": "stderr",
     "output_type": "stream",
     "text": [
      "Entity ´pCO2´ and/or label ´['co2', 'phases', 'co2', 'parameterizations', 'megacities', 'co2', 'model', 'sites', 'co2', 'density', 'evapotranspiration', 'atmosphere', 'years', 'elevated', 'things', 'internet', 'world', 'co2', 'ppmv', 'climate', 'earth', 'observations', 'network', 'reservoirs', 'weather', 'yields', 'sri', 'basmati', 'models', 'plume', 'march', 'errors', 'observations', 'microgrids', 'beijing', 'co2', 'emissions', 'prices', 'loam', 'ecosystems', 'utilization', 'data', 'standardization', 'relative', 'ebm', 'climate', 'biodiversity', 'march', 'scenarios', 'model', 'noise', 'regularity', 'risk', 'paleosols', 'nao', 'application', 'data', 'data', 'landscape', 'geosciences', 'department', 'regressors', 'map', 'mat', 'precipitation', 'models', 'changes', 'model', 'speleothems', 'glacial', 'equilibrium', 'climate', 'warm', 'dry', 'rewilding', 'invertebrates', 'microbes', 'herbivores', 'wilding', 'expansion', 'ecosystems', 'active', 'rivers', 'progress', 'framework', 'edtech', 'rewilding', 'london', 'languages', 'practices', 'cultural', 'population', 'china', 'elephants', 'captivity', 'seed', 'policy', 'success', 'components', 'systemic', 'rewilding', 'lorises', 'chapters', 'roles', 'natural', 'research', 'carrion', 'effects', 'rewilding', 'threats', 'ent', 'elephants', 'rewilding', 'nature', 'viviparity', 'abundance', 'genes', 'metabolic', 'male', 'raptor', 'attractiveness', 'sqm', 'behavior', 'rockfish', 'values', 'anxiety', 'behavioural', 'alterations', 'exposure', 'gills', 'gulf', 'chelated', 'diets', 'areas', 'yoy', 'recruitment', 'alaska', 'gulf', 'rockfishes', 'goa', 'years', 'rockfish', 'rockfish', 'rate', 'lifespan', 'rockfish', 'fish', 'livers', 'welfare', 'recovery', 'species', 'volume', 'sie', 'changes', 'clouds', 'evident', 'effects', 'decline', 'km3', 'volume', 'microplastics', 'models', 'loss', 'arctic', 'issues', 'models', 'system', 'climate', 'observations', 'climate', 'basis', 'observations', 'atmosphere', 'chemistry', 'projections', 'changes', 'assessment', 'global', 'period', 'changes', 'climate', 'years', 'species', 'cause', 'pattern', 'reversals', 'climate', 'forests', 'analysis', 'sst', 'individuals', 'knowledge', 'larger', 'places', 'carbon', 'crops', 'years', 'soc', 'climate', 'information', 'operational', 'researchers', 'sharks', 'nsw', 'atlantic', 'populations', 'distribution', 'sharks', 'populations', 'timing', 'seagrass', 'mhw', 'cluster', 'activities', 'sharks', 'species', 'sharks', 'extinction', 'clades', 'area', 'correlation', 'exports', 'mhw', 'species', 'properties', 'changes', 'abundance', 'sharks', 'forage', 'sst', 'mexico', 'influenza', 'data', 'ecosystems', 'recovery', 'males', 'females', 'stressors', 'ecosystems', 'rays', 'sharks', 'territory', 'bodies', 'chapter', 'species', 'seagrasses', 'sharks', 'rays']´ not found in vector model. Nothing to compare to, so setting ent._.ent_score to 0.\n",
      "Entity ´pCO2´ and/or label ´['co2', 'phases', 'co2', 'parameterizations', 'megacities', 'co2', 'model', 'sites', 'co2', 'density', 'evapotranspiration', 'atmosphere', 'years', 'elevated', 'things', 'internet', 'world', 'co2', 'ppmv', 'climate', 'earth', 'observations', 'network', 'reservoirs', 'weather', 'yields', 'sri', 'basmati', 'models', 'plume', 'march', 'errors', 'observations', 'microgrids', 'beijing', 'co2', 'emissions', 'prices', 'loam', 'ecosystems', 'utilization', 'data', 'standardization', 'relative', 'ebm', 'climate', 'biodiversity', 'march', 'scenarios', 'model', 'noise', 'regularity', 'risk', 'paleosols', 'nao', 'application', 'data', 'data', 'landscape', 'geosciences', 'department', 'regressors', 'map', 'mat', 'precipitation', 'models', 'changes', 'model', 'speleothems', 'glacial', 'equilibrium', 'climate', 'warm', 'dry', 'rewilding', 'invertebrates', 'microbes', 'herbivores', 'wilding', 'expansion', 'ecosystems', 'active', 'rivers', 'progress', 'framework', 'edtech', 'rewilding', 'london', 'languages', 'practices', 'cultural', 'population', 'china', 'elephants', 'captivity', 'seed', 'policy', 'success', 'components', 'systemic', 'rewilding', 'lorises', 'chapters', 'roles', 'natural', 'research', 'carrion', 'effects', 'rewilding', 'threats', 'ent', 'elephants', 'rewilding', 'nature', 'viviparity', 'abundance', 'genes', 'metabolic', 'male', 'raptor', 'attractiveness', 'sqm', 'behavior', 'rockfish', 'values', 'anxiety', 'behavioural', 'alterations', 'exposure', 'gills', 'gulf', 'chelated', 'diets', 'areas', 'yoy', 'recruitment', 'alaska', 'gulf', 'rockfishes', 'goa', 'years', 'rockfish', 'rockfish', 'rate', 'lifespan', 'rockfish', 'fish', 'livers', 'welfare', 'recovery', 'species', 'volume', 'sie', 'changes', 'clouds', 'evident', 'effects', 'decline', 'km3', 'volume', 'microplastics', 'models', 'loss', 'arctic', 'issues', 'models', 'system', 'climate', 'observations', 'climate', 'basis', 'observations', 'atmosphere', 'chemistry', 'projections', 'changes', 'assessment', 'global', 'period', 'changes', 'climate', 'years', 'species', 'cause', 'pattern', 'reversals', 'climate', 'forests', 'analysis', 'sst', 'individuals', 'knowledge', 'larger', 'places', 'carbon', 'crops', 'years', 'soc', 'climate', 'information', 'operational', 'researchers', 'sharks', 'nsw', 'atlantic', 'populations', 'distribution', 'sharks', 'populations', 'timing', 'seagrass', 'mhw', 'cluster', 'activities', 'sharks', 'species', 'sharks', 'extinction', 'clades', 'area', 'correlation', 'exports', 'mhw', 'species', 'properties', 'changes', 'abundance', 'sharks', 'forage', 'sst', 'mexico', 'influenza', 'data', 'ecosystems', 'recovery', 'males', 'females', 'stressors', 'ecosystems', 'rays', 'sharks', 'territory', 'bodies', 'chapter', 'species', 'seagrasses', 'sharks', 'rays']´ not found in vector model. Nothing to compare to, so setting ent._.ent_score to 0.\n",
      "Entity ´TCO2´ and/or label ´['co2', 'phases', 'co2', 'parameterizations', 'megacities', 'co2', 'model', 'sites', 'co2', 'density', 'evapotranspiration', 'atmosphere', 'years', 'elevated', 'things', 'internet', 'world', 'co2', 'ppmv', 'climate', 'earth', 'observations', 'network', 'reservoirs', 'weather', 'yields', 'sri', 'basmati', 'models', 'plume', 'march', 'errors', 'observations', 'microgrids', 'beijing', 'co2', 'emissions', 'prices', 'loam', 'ecosystems', 'utilization', 'data', 'standardization', 'relative', 'ebm', 'climate', 'biodiversity', 'march', 'scenarios', 'model', 'noise', 'regularity', 'risk', 'paleosols', 'nao', 'application', 'data', 'data', 'landscape', 'geosciences', 'department', 'regressors', 'map', 'mat', 'precipitation', 'models', 'changes', 'model', 'speleothems', 'glacial', 'equilibrium', 'climate', 'warm', 'dry', 'rewilding', 'invertebrates', 'microbes', 'herbivores', 'wilding', 'expansion', 'ecosystems', 'active', 'rivers', 'progress', 'framework', 'edtech', 'rewilding', 'london', 'languages', 'practices', 'cultural', 'population', 'china', 'elephants', 'captivity', 'seed', 'policy', 'success', 'components', 'systemic', 'rewilding', 'lorises', 'chapters', 'roles', 'natural', 'research', 'carrion', 'effects', 'rewilding', 'threats', 'ent', 'elephants', 'rewilding', 'nature', 'viviparity', 'abundance', 'genes', 'metabolic', 'male', 'raptor', 'attractiveness', 'sqm', 'behavior', 'rockfish', 'values', 'anxiety', 'behavioural', 'alterations', 'exposure', 'gills', 'gulf', 'chelated', 'diets', 'areas', 'yoy', 'recruitment', 'alaska', 'gulf', 'rockfishes', 'goa', 'years', 'rockfish', 'rockfish', 'rate', 'lifespan', 'rockfish', 'fish', 'livers', 'welfare', 'recovery', 'species', 'volume', 'sie', 'changes', 'clouds', 'evident', 'effects', 'decline', 'km3', 'volume', 'microplastics', 'models', 'loss', 'arctic', 'issues', 'models', 'system', 'climate', 'observations', 'climate', 'basis', 'observations', 'atmosphere', 'chemistry', 'projections', 'changes', 'assessment', 'global', 'period', 'changes', 'climate', 'years', 'species', 'cause', 'pattern', 'reversals', 'climate', 'forests', 'analysis', 'sst', 'individuals', 'knowledge', 'larger', 'places', 'carbon', 'crops', 'years', 'soc', 'climate', 'information', 'operational', 'researchers', 'sharks', 'nsw', 'atlantic', 'populations', 'distribution', 'sharks', 'populations', 'timing', 'seagrass', 'mhw', 'cluster', 'activities', 'sharks', 'species', 'sharks', 'extinction', 'clades', 'area', 'correlation', 'exports', 'mhw', 'species', 'properties', 'changes', 'abundance', 'sharks', 'forage', 'sst', 'mexico', 'influenza', 'data', 'ecosystems', 'recovery', 'males', 'females', 'stressors', 'ecosystems', 'rays', 'sharks', 'territory', 'bodies', 'chapter', 'species', 'seagrasses', 'sharks', 'rays']´ not found in vector model. Nothing to compare to, so setting ent._.ent_score to 0.\n",
      "Entity ´pCO2´ and/or label ´['co2', 'phases', 'co2', 'parameterizations', 'megacities', 'co2', 'model', 'sites', 'co2', 'density', 'evapotranspiration', 'atmosphere', 'years', 'elevated', 'things', 'internet', 'world', 'co2', 'ppmv', 'climate', 'earth', 'observations', 'network', 'reservoirs', 'weather', 'yields', 'sri', 'basmati', 'models', 'plume', 'march', 'errors', 'observations', 'microgrids', 'beijing', 'co2', 'emissions', 'prices', 'loam', 'ecosystems', 'utilization', 'data', 'standardization', 'relative', 'ebm', 'climate', 'biodiversity', 'march', 'scenarios', 'model', 'noise', 'regularity', 'risk', 'paleosols', 'nao', 'application', 'data', 'data', 'landscape', 'geosciences', 'department', 'regressors', 'map', 'mat', 'precipitation', 'models', 'changes', 'model', 'speleothems', 'glacial', 'equilibrium', 'climate', 'warm', 'dry', 'rewilding', 'invertebrates', 'microbes', 'herbivores', 'wilding', 'expansion', 'ecosystems', 'active', 'rivers', 'progress', 'framework', 'edtech', 'rewilding', 'london', 'languages', 'practices', 'cultural', 'population', 'china', 'elephants', 'captivity', 'seed', 'policy', 'success', 'components', 'systemic', 'rewilding', 'lorises', 'chapters', 'roles', 'natural', 'research', 'carrion', 'effects', 'rewilding', 'threats', 'ent', 'elephants', 'rewilding', 'nature', 'viviparity', 'abundance', 'genes', 'metabolic', 'male', 'raptor', 'attractiveness', 'sqm', 'behavior', 'rockfish', 'values', 'anxiety', 'behavioural', 'alterations', 'exposure', 'gills', 'gulf', 'chelated', 'diets', 'areas', 'yoy', 'recruitment', 'alaska', 'gulf', 'rockfishes', 'goa', 'years', 'rockfish', 'rockfish', 'rate', 'lifespan', 'rockfish', 'fish', 'livers', 'welfare', 'recovery', 'species', 'volume', 'sie', 'changes', 'clouds', 'evident', 'effects', 'decline', 'km3', 'volume', 'microplastics', 'models', 'loss', 'arctic', 'issues', 'models', 'system', 'climate', 'observations', 'climate', 'basis', 'observations', 'atmosphere', 'chemistry', 'projections', 'changes', 'assessment', 'global', 'period', 'changes', 'climate', 'years', 'species', 'cause', 'pattern', 'reversals', 'climate', 'forests', 'analysis', 'sst', 'individuals', 'knowledge', 'larger', 'places', 'carbon', 'crops', 'years', 'soc', 'climate', 'information', 'operational', 'researchers', 'sharks', 'nsw', 'atlantic', 'populations', 'distribution', 'sharks', 'populations', 'timing', 'seagrass', 'mhw', 'cluster', 'activities', 'sharks', 'species', 'sharks', 'extinction', 'clades', 'area', 'correlation', 'exports', 'mhw', 'species', 'properties', 'changes', 'abundance', 'sharks', 'forage', 'sst', 'mexico', 'influenza', 'data', 'ecosystems', 'recovery', 'males', 'females', 'stressors', 'ecosystems', 'rays', 'sharks', 'territory', 'bodies', 'chapter', 'species', 'seagrasses', 'sharks', 'rays']´ not found in vector model. Nothing to compare to, so setting ent._.ent_score to 0.\n"
     ]
    },
    {
     "data": {
      "text/html": [
       "<span class=\"tex2jax_ignore\"><div class=\"entities\" style=\"line-height: 2.5; direction: ltr\">Marine \n",
       "<mark class=\"entity\" style=\"background: darkorange; padding: 0.45em 0.6em; margin: 0 0.25em; line-height: 1; border-radius: 0.35em;\">\n",
       "    carbon\n",
       "    <span style=\"font-size: 0.8em; font-weight: bold; line-height: 1; border-radius: 0.35em; vertical-align: middle; margin-left: 0.5rem\">ENTITY (53%)</span>\n",
       "</mark>\n",
       " dioxide (\n",
       "<mark class=\"entity\" style=\"background: darkorange; padding: 0.45em 0.6em; margin: 0 0.25em; line-height: 1; border-radius: 0.35em;\">\n",
       "    CO2\n",
       "    <span style=\"font-size: 0.8em; font-weight: bold; line-height: 1; border-radius: 0.35em; vertical-align: middle; margin-left: 0.5rem\">ENTITY (35%)</span>\n",
       "</mark>\n",
       ") \n",
       "<mark class=\"entity\" style=\"background: darkorange; padding: 0.45em 0.6em; margin: 0 0.25em; line-height: 1; border-radius: 0.35em;\">\n",
       "    system\n",
       "    <span style=\"font-size: 0.8em; font-weight: bold; line-height: 1; border-radius: 0.35em; vertical-align: middle; margin-left: 0.5rem\">ENTITY (62%)</span>\n",
       "</mark>\n",
       " \n",
       "<mark class=\"entity\" style=\"background: darkorange; padding: 0.45em 0.6em; margin: 0 0.25em; line-height: 1; border-radius: 0.35em;\">\n",
       "    data\n",
       "    <span style=\"font-size: 0.8em; font-weight: bold; line-height: 1; border-radius: 0.35em; vertical-align: middle; margin-left: 0.5rem\">ENTITY (58%)</span>\n",
       "</mark>\n",
       " has been collected from December 2014 to June 2018 in the northern Salish Sea (NSS; British Columbia, Canada) and consisted of continuous \n",
       "<mark class=\"entity\" style=\"background: darkorange; padding: 0.45em 0.6em; margin: 0 0.25em; line-height: 1; border-radius: 0.35em;\">\n",
       "    measurements\n",
       "    <span style=\"font-size: 0.8em; font-weight: bold; line-height: 1; border-radius: 0.35em; vertical-align: middle; margin-left: 0.5rem\">ENTITY (79%)</span>\n",
       "</mark>\n",
       " at two \n",
       "<mark class=\"entity\" style=\"background: darkorange; padding: 0.45em 0.6em; margin: 0 0.25em; line-height: 1; border-radius: 0.35em;\">\n",
       "    sites\n",
       "    <span style=\"font-size: 0.8em; font-weight: bold; line-height: 1; border-radius: 0.35em; vertical-align: middle; margin-left: 0.5rem\">ENTITY (58%)</span>\n",
       "</mark>\n",
       " as well as spatially- and seasonally-distributed discrete seawater samples. The \n",
       "<mark class=\"entity\" style=\"background: darkorange; padding: 0.45em 0.6em; margin: 0 0.25em; line-height: 1; border-radius: 0.35em;\">\n",
       "    array\n",
       "    <span style=\"font-size: 0.8em; font-weight: bold; line-height: 1; border-radius: 0.35em; vertical-align: middle; margin-left: 0.5rem\">ENTITY (34%)</span>\n",
       "</mark>\n",
       " of \n",
       "<mark class=\"entity\" style=\"background: darkorange; padding: 0.45em 0.6em; margin: 0 0.25em; line-height: 1; border-radius: 0.35em;\">\n",
       "    CO2\n",
       "    <span style=\"font-size: 0.8em; font-weight: bold; line-height: 1; border-radius: 0.35em; vertical-align: middle; margin-left: 0.5rem\">ENTITY (35%)</span>\n",
       "</mark>\n",
       " observing \n",
       "<mark class=\"entity\" style=\"background: darkorange; padding: 0.45em 0.6em; margin: 0 0.25em; line-height: 1; border-radius: 0.35em;\">\n",
       "    activities\n",
       "    <span style=\"font-size: 0.8em; font-weight: bold; line-height: 1; border-radius: 0.35em; vertical-align: middle; margin-left: 0.5rem\">ENTITY (71%)</span>\n",
       "</mark>\n",
       " included high-\n",
       "<mark class=\"entity\" style=\"background: darkorange; padding: 0.45em 0.6em; margin: 0 0.25em; line-height: 1; border-radius: 0.35em;\">\n",
       "    resolution\n",
       "    <span style=\"font-size: 0.8em; font-weight: bold; line-height: 1; border-radius: 0.35em; vertical-align: middle; margin-left: 0.5rem\">ENTITY (66%)</span>\n",
       "</mark>\n",
       " \n",
       "<mark class=\"entity\" style=\"background: darkorange; padding: 0.45em 0.6em; margin: 0 0.25em; line-height: 1; border-radius: 0.35em;\">\n",
       "    CO2\n",
       "    <span style=\"font-size: 0.8em; font-weight: bold; line-height: 1; border-radius: 0.35em; vertical-align: middle; margin-left: 0.5rem\">ENTITY (35%)</span>\n",
       "</mark>\n",
       " partial pressure (\n",
       "<mark class=\"entity\" style=\"background: darkorange; padding: 0.45em 0.6em; margin: 0 0.25em; line-height: 1; border-radius: 0.35em;\">\n",
       "    pCO2\n",
       "    <span style=\"font-size: 0.8em; font-weight: bold; line-height: 1; border-radius: 0.35em; vertical-align: middle; margin-left: 0.5rem\">ENTITY (0%)</span>\n",
       "</mark>\n",
       ") and pHT (total scale) \n",
       "<mark class=\"entity\" style=\"background: darkorange; padding: 0.45em 0.6em; margin: 0 0.25em; line-height: 1; border-radius: 0.35em;\">\n",
       "    measurements\n",
       "    <span style=\"font-size: 0.8em; font-weight: bold; line-height: 1; border-radius: 0.35em; vertical-align: middle; margin-left: 0.5rem\">ENTITY (79%)</span>\n",
       "</mark>\n",
       " made at the Hakai Institute’s Quadra Island Field \n",
       "<mark class=\"entity\" style=\"background: darkorange; padding: 0.45em 0.6em; margin: 0 0.25em; line-height: 1; border-radius: 0.35em;\">\n",
       "    Station\n",
       "    <span style=\"font-size: 0.8em; font-weight: bold; line-height: 1; border-radius: 0.35em; vertical-align: middle; margin-left: 0.5rem\">ENTITY (44%)</span>\n",
       "</mark>\n",
       " (QIFS) and from an \n",
       "<mark class=\"entity\" style=\"background: darkorange; padding: 0.45em 0.6em; margin: 0 0.25em; line-height: 1; border-radius: 0.35em;\">\n",
       "    Environment\n",
       "    <span style=\"font-size: 0.8em; font-weight: bold; line-height: 1; border-radius: 0.35em; vertical-align: middle; margin-left: 0.5rem\">ENTITY (62%)</span>\n",
       "</mark>\n",
       " Canada \n",
       "<mark class=\"entity\" style=\"background: darkorange; padding: 0.45em 0.6em; margin: 0 0.25em; line-height: 1; border-radius: 0.35em;\">\n",
       "    weather\n",
       "    <span style=\"font-size: 0.8em; font-weight: bold; line-height: 1; border-radius: 0.35em; vertical-align: middle; margin-left: 0.5rem\">ENTITY (59%)</span>\n",
       "</mark>\n",
       " buoy, respectively, as well as discrete seawater \n",
       "<mark class=\"entity\" style=\"background: darkorange; padding: 0.45em 0.6em; margin: 0 0.25em; line-height: 1; border-radius: 0.35em;\">\n",
       "    measurements\n",
       "    <span style=\"font-size: 0.8em; font-weight: bold; line-height: 1; border-radius: 0.35em; vertical-align: middle; margin-left: 0.5rem\">ENTITY (79%)</span>\n",
       "</mark>\n",
       " of \n",
       "<mark class=\"entity\" style=\"background: darkorange; padding: 0.45em 0.6em; margin: 0 0.25em; line-height: 1; border-radius: 0.35em;\">\n",
       "    pCO2\n",
       "    <span style=\"font-size: 0.8em; font-weight: bold; line-height: 1; border-radius: 0.35em; vertical-align: middle; margin-left: 0.5rem\">ENTITY (0%)</span>\n",
       "</mark>\n",
       " and total dissolved inorganic \n",
       "<mark class=\"entity\" style=\"background: darkorange; padding: 0.45em 0.6em; margin: 0 0.25em; line-height: 1; border-radius: 0.35em;\">\n",
       "    carbon\n",
       "    <span style=\"font-size: 0.8em; font-weight: bold; line-height: 1; border-radius: 0.35em; vertical-align: middle; margin-left: 0.5rem\">ENTITY (53%)</span>\n",
       "</mark>\n",
       " (\n",
       "<mark class=\"entity\" style=\"background: darkorange; padding: 0.45em 0.6em; margin: 0 0.25em; line-height: 1; border-radius: 0.35em;\">\n",
       "    TCO2\n",
       "    <span style=\"font-size: 0.8em; font-weight: bold; line-height: 1; border-radius: 0.35em; vertical-align: middle; margin-left: 0.5rem\">ENTITY (0%)</span>\n",
       "</mark>\n",
       ") obtained during a number of field campaigns. A \n",
       "<mark class=\"entity\" style=\"background: darkorange; padding: 0.45em 0.6em; margin: 0 0.25em; line-height: 1; border-radius: 0.35em;\">\n",
       "    relationship\n",
       "    <span style=\"font-size: 0.8em; font-weight: bold; line-height: 1; border-radius: 0.35em; vertical-align: middle; margin-left: 0.5rem\">ENTITY (65%)</span>\n",
       "</mark>\n",
       " between NSS alkalinity and \n",
       "<mark class=\"entity\" style=\"background: darkorange; padding: 0.45em 0.6em; margin: 0 0.25em; line-height: 1; border-radius: 0.35em;\">\n",
       "    salinity\n",
       "    <span style=\"font-size: 0.8em; font-weight: bold; line-height: 1; border-radius: 0.35em; vertical-align: middle; margin-left: 0.5rem\">ENTITY (60%)</span>\n",
       "</mark>\n",
       " was developed with the discrete datasets and used with the continuous \n",
       "<mark class=\"entity\" style=\"background: darkorange; padding: 0.45em 0.6em; margin: 0 0.25em; line-height: 1; border-radius: 0.35em;\">\n",
       "    measurements\n",
       "    <span style=\"font-size: 0.8em; font-weight: bold; line-height: 1; border-radius: 0.35em; vertical-align: middle; margin-left: 0.5rem\">ENTITY (79%)</span>\n",
       "</mark>\n",
       " to highly resolve the marine \n",
       "<mark class=\"entity\" style=\"background: darkorange; padding: 0.45em 0.6em; margin: 0 0.25em; line-height: 1; border-radius: 0.35em;\">\n",
       "    CO2\n",
       "    <span style=\"font-size: 0.8em; font-weight: bold; line-height: 1; border-radius: 0.35em; vertical-align: middle; margin-left: 0.5rem\">ENTITY (35%)</span>\n",
       "</mark>\n",
       " \n",
       "<mark class=\"entity\" style=\"background: darkorange; padding: 0.45em 0.6em; margin: 0 0.25em; line-height: 1; border-radius: 0.35em;\">\n",
       "    system\n",
       "    <span style=\"font-size: 0.8em; font-weight: bold; line-height: 1; border-radius: 0.35em; vertical-align: middle; margin-left: 0.5rem\">ENTITY (62%)</span>\n",
       "</mark>\n",
       ". Collectively, these datasets provided insights into the seasonality in this historically under-sampled region and detail the \n",
       "<mark class=\"entity\" style=\"background: darkorange; padding: 0.45em 0.6em; margin: 0 0.25em; line-height: 1; border-radius: 0.35em;\">\n",
       "    area\n",
       "    <span style=\"font-size: 0.8em; font-weight: bold; line-height: 1; border-radius: 0.35em; vertical-align: middle; margin-left: 0.5rem\">ENTITY (52%)</span>\n",
       "</mark>\n",
       "’s tendency for aragonite \n",
       "<mark class=\"entity\" style=\"background: darkorange; padding: 0.45em 0.6em; margin: 0 0.25em; line-height: 1; border-radius: 0.35em;\">\n",
       "    saturation\n",
       "    <span style=\"font-size: 0.8em; font-weight: bold; line-height: 1; border-radius: 0.35em; vertical-align: middle; margin-left: 0.5rem\">ENTITY (75%)</span>\n",
       "</mark>\n",
       " state () to be at non-corrosive levels (i.e. &gt; 1) only in the upper water column during spring and summer months. This depth zone and time \n",
       "<mark class=\"entity\" style=\"background: darkorange; padding: 0.45em 0.6em; margin: 0 0.25em; line-height: 1; border-radius: 0.35em;\">\n",
       "    period\n",
       "    <span style=\"font-size: 0.8em; font-weight: bold; line-height: 1; border-radius: 0.35em; vertical-align: middle; margin-left: 0.5rem\">ENTITY (52%)</span>\n",
       "</mark>\n",
       " of reprieve can be periodically interrupted by strong northwesterly winds that drive short-lived (~1 week) episodes of high-\n",
       "<mark class=\"entity\" style=\"background: darkorange; padding: 0.45em 0.6em; margin: 0 0.25em; line-height: 1; border-radius: 0.35em;\">\n",
       "    pCO2\n",
       "    <span style=\"font-size: 0.8em; font-weight: bold; line-height: 1; border-radius: 0.35em; vertical-align: middle; margin-left: 0.5rem\">ENTITY (0%)</span>\n",
       "</mark>\n",
       ", low-pH, and low- conditions throughout the region. Interannual \n",
       "<mark class=\"entity\" style=\"background: darkorange; padding: 0.45em 0.6em; margin: 0 0.25em; line-height: 1; border-radius: 0.35em;\">\n",
       "    variability\n",
       "    <span style=\"font-size: 0.8em; font-weight: bold; line-height: 1; border-radius: 0.35em; vertical-align: middle; margin-left: 0.5rem\">ENTITY (83%)</span>\n",
       "</mark>\n",
       " in summertime conditions was evident and linked to reduced northwesterly winds and increased \n",
       "<mark class=\"entity\" style=\"background: darkorange; padding: 0.45em 0.6em; margin: 0 0.25em; line-height: 1; border-radius: 0.35em;\">\n",
       "    stratification\n",
       "    <span style=\"font-size: 0.8em; font-weight: bold; line-height: 1; border-radius: 0.35em; vertical-align: middle; margin-left: 0.5rem\">ENTITY (79%)</span>\n",
       "</mark>\n",
       ". Anthropogenic \n",
       "<mark class=\"entity\" style=\"background: darkorange; padding: 0.45em 0.6em; margin: 0 0.25em; line-height: 1; border-radius: 0.35em;\">\n",
       "    CO2\n",
       "    <span style=\"font-size: 0.8em; font-weight: bold; line-height: 1; border-radius: 0.35em; vertical-align: middle; margin-left: 0.5rem\">ENTITY (35%)</span>\n",
       "</mark>\n",
       " in NSS surface water was estimated using \n",
       "<mark class=\"entity\" style=\"background: darkorange; padding: 0.45em 0.6em; margin: 0 0.25em; line-height: 1; border-radius: 0.35em;\">\n",
       "    data\n",
       "    <span style=\"font-size: 0.8em; font-weight: bold; line-height: 1; border-radius: 0.35em; vertical-align: middle; margin-left: 0.5rem\">ENTITY (58%)</span>\n",
       "</mark>\n",
       " from 2017 combined with the global atmospheric \n",
       "<mark class=\"entity\" style=\"background: darkorange; padding: 0.45em 0.6em; margin: 0 0.25em; line-height: 1; border-radius: 0.35em;\">\n",
       "    CO2\n",
       "    <span style=\"font-size: 0.8em; font-weight: bold; line-height: 1; border-radius: 0.35em; vertical-align: middle; margin-left: 0.5rem\">ENTITY (35%)</span>\n",
       "</mark>\n",
       " forcing for the \n",
       "<mark class=\"entity\" style=\"background: darkorange; padding: 0.45em 0.6em; margin: 0 0.25em; line-height: 1; border-radius: 0.35em;\">\n",
       "    period\n",
       "    <span style=\"font-size: 0.8em; font-weight: bold; line-height: 1; border-radius: 0.35em; vertical-align: middle; margin-left: 0.5rem\">ENTITY (52%)</span>\n",
       "</mark>\n",
       " 1765 to 2100, and projected a mean \n",
       "<mark class=\"entity\" style=\"background: darkorange; padding: 0.45em 0.6em; margin: 0 0.25em; line-height: 1; border-radius: 0.35em;\">\n",
       "    value\n",
       "    <span style=\"font-size: 0.8em; font-weight: bold; line-height: 1; border-radius: 0.35em; vertical-align: middle; margin-left: 0.5rem\">ENTITY (55%)</span>\n",
       "</mark>\n",
       " of 49 ± 5 µmol kg-1 for 2018. The estimated trend in anthropogenic \n",
       "<mark class=\"entity\" style=\"background: darkorange; padding: 0.45em 0.6em; margin: 0 0.25em; line-height: 1; border-radius: 0.35em;\">\n",
       "    CO2\n",
       "    <span style=\"font-size: 0.8em; font-weight: bold; line-height: 1; border-radius: 0.35em; vertical-align: middle; margin-left: 0.5rem\">ENTITY (35%)</span>\n",
       "</mark>\n",
       " was further used to assess the \n",
       "<mark class=\"entity\" style=\"background: darkorange; padding: 0.45em 0.6em; margin: 0 0.25em; line-height: 1; border-radius: 0.35em;\">\n",
       "    evolution\n",
       "    <span style=\"font-size: 0.8em; font-weight: bold; line-height: 1; border-radius: 0.35em; vertical-align: middle; margin-left: 0.5rem\">ENTITY (76%)</span>\n",
       "</mark>\n",
       " of and pHT levels in NSS surface water, and revealed that wintertime corrosive conditions were likely absent pre-1900. The \n",
       "<mark class=\"entity\" style=\"background: darkorange; padding: 0.45em 0.6em; margin: 0 0.25em; line-height: 1; border-radius: 0.35em;\">\n",
       "    percent\n",
       "    <span style=\"font-size: 0.8em; font-weight: bold; line-height: 1; border-radius: 0.35em; vertical-align: middle; margin-left: 0.5rem\">ENTITY (41%)</span>\n",
       "</mark>\n",
       " of the \n",
       "<mark class=\"entity\" style=\"background: darkorange; padding: 0.45em 0.6em; margin: 0 0.25em; line-height: 1; border-radius: 0.35em;\">\n",
       "    year\n",
       "    <span style=\"font-size: 0.8em; font-weight: bold; line-height: 1; border-radius: 0.35em; vertical-align: middle; margin-left: 0.5rem\">ENTITY (30%)</span>\n",
       "</mark>\n",
       " spent above = 1 has dropped from ~98% in 1900 to ~60% by 2018. Over the coming decades, winter pHT and spring and summer are projected to decline to conditions below identified biological thresholds for select vulnerable \n",
       "<mark class=\"entity\" style=\"background: darkorange; padding: 0.45em 0.6em; margin: 0 0.25em; line-height: 1; border-radius: 0.35em;\">\n",
       "    species\n",
       "    <span style=\"font-size: 0.8em; font-weight: bold; line-height: 1; border-radius: 0.35em; vertical-align: middle; margin-left: 0.5rem\">ENTITY (72%)</span>\n",
       "</mark>\n",
       ".</div></span>"
      ],
      "text/plain": [
       "<IPython.core.display.HTML object>"
      ]
     },
     "metadata": {},
     "output_type": "display_data"
    }
   ],
   "source": [
    "doc = nlp(abstract)\n",
    "ents = doc.ents\n",
    "for ent in ents:\n",
    "    new_label = f\"{ent.label_} ({float(ent._.ent_score):.0%})\"\n",
    "    options[\"colors\"][new_label] = options[\"colors\"].get(ent.label_.lower(), None)\n",
    "    options[\"ents\"].append(new_label)\n",
    "    ent.label_ = new_label\n",
    "doc.ents = ents\n",
    "\n",
    "displacy.render(doc, style=\"ent\", options=options)"
   ]
  },
  {
   "cell_type": "code",
   "execution_count": null,
   "metadata": {},
   "outputs": [],
   "source": []
  }
 ],
 "metadata": {
  "kernelspec": {
   "display_name": "Python 3.7.9 ('wvenv': venv)",
   "language": "python",
   "name": "python3"
  },
  "language_info": {
   "codemirror_mode": {
    "name": "ipython",
    "version": 3
   },
   "file_extension": ".py",
   "mimetype": "text/x-python",
   "name": "python",
   "nbconvert_exporter": "python",
   "pygments_lexer": "ipython3",
   "version": "3.7.9"
  },
  "orig_nbformat": 4,
  "vscode": {
   "interpreter": {
    "hash": "ccb36032ccfd3cd9e4d7836d1d38c07c404b8fc43a76352e097996b4c439b31b"
   }
  }
 },
 "nbformat": 4,
 "nbformat_minor": 2
}
