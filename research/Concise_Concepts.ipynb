{
 "cells": [
  {
   "cell_type": "code",
   "execution_count": 1,
   "metadata": {},
   "outputs": [
    {
     "name": "stderr",
     "output_type": "stream",
     "text": [
      "d:\\Code\\ClimateScholar\\wvenv\\lib\\site-packages\\tqdm\\auto.py:22: TqdmWarning: IProgress not found. Please update jupyter and ipywidgets. See https://ipywidgets.readthedocs.io/en/stable/user_install.html\n",
      "  from .autonotebook import tqdm as notebook_tqdm\n"
     ]
    }
   ],
   "source": [
    "import spacy\n",
    "from spacy import displacy\n",
    "import concise_concepts\n",
    "import pke\n",
    "import json"
   ]
  },
  {
   "cell_type": "code",
   "execution_count": 2,
   "metadata": {},
   "outputs": [
    {
     "data": {
      "text/plain": [
       "350"
      ]
     },
     "execution_count": 2,
     "metadata": {},
     "output_type": "execute_result"
    }
   ],
   "source": [
    "abstracts = []\n",
    "root_path = \"./data/sample\"\n",
    "sample_data = [\"weather_CO2.jsonl\", \"paleoclimate.jsonl\", \"rewilding.jsonl\", \"rockfish.jsonl\", \"arctic.jsonl\", \"climate.jsonl\", \"shark_climate.jsonl\"]\n",
    "\n",
    "for data_path in sample_data:\n",
    "    with open(f'{root_path}/{data_path}', 'r') as json_file:\n",
    "        json_list = list(json_file)\n",
    "\n",
    "    result = json.loads(json_list[0])\n",
    "\n",
    "    for result_dict in result[\"data\"]:\n",
    "        abstracts.append(result_dict)\n",
    "\n",
    "len(abstracts)"
   ]
  },
  {
   "cell_type": "code",
   "execution_count": 3,
   "metadata": {},
   "outputs": [
    {
     "data": {
      "text/plain": [
       "222"
      ]
     },
     "execution_count": 3,
     "metadata": {},
     "output_type": "execute_result"
    }
   ],
   "source": [
    "data = [y for y in (x for x in abstracts) if y[\"abstract\"] is not None]\n",
    "len(data)"
   ]
  },
  {
   "cell_type": "code",
   "execution_count": 4,
   "metadata": {},
   "outputs": [],
   "source": [
    "# initialize keyphrase extraction model, here TopicRank\n",
    "extractor = pke.unsupervised.TopicRank()"
   ]
  },
  {
   "cell_type": "code",
   "execution_count": 6,
   "metadata": {},
   "outputs": [],
   "source": [
    "entities = []\n",
    "for item in data:\n",
    "    abstract = item['abstract']\n",
    "\n",
    "    if abstract is None:\n",
    "        print(\"Found a none!\")\n",
    "    else:\n",
    "        extractor.load_document(input=abstract, language='en')\n",
    "        extractor.candidate_selection()\n",
    "        extractor.candidate_weighting()\n",
    "        ents = [x[0] for x in extractor.get_n_best(n=3)]\n",
    "        for ent in ents:\n",
    "            entities.append(ent)"
   ]
  },
  {
   "cell_type": "code",
   "execution_count": 7,
   "metadata": {},
   "outputs": [],
   "source": [
    "ent_data = {\n",
    "    \"entity\": entities,\n",
    "}\n",
    "nlp = spacy.load(\"en_core_web_lg\", disable=[\"ner\"])\n",
    "options = {\"colors\": {\"entity\": \"darkorange\"}, \"ents\": [\"entity\"]}"
   ]
  },
  {
   "cell_type": "markdown",
   "metadata": {},
   "source": [
    "Shared Task: LongSumm\n",
    "LongSumm 2021: Session based automatic summarization model for scientific doc\u0002ument\n",
    "senci ying, Zheng Yan Zhao and wuhe zou\n",
    "CNLP-NITS @ LongSumm 2021: TextRank Variant for Generating Long Summaries\n",
    "Darsh Kaushik, Abdullah Faiz Ur Rahman Khilji, Utkarsh Sinha and Partha Pakray\n",
    "Unsupervised document summarization using pre-trained sentence embeddings and\n",
    "graph centrality\n",
    "Juan Ramirez-Orta and"
   ]
  },
  {
   "cell_type": "code",
   "execution_count": 8,
   "metadata": {},
   "outputs": [
    {
     "ename": "TypeError",
     "evalue": "argument of type 'Word2Vec' is not iterable",
     "output_type": "error",
     "traceback": [
      "\u001b[1;31m---------------------------------------------------------------------------\u001b[0m",
      "\u001b[1;31mTypeError\u001b[0m                                 Traceback (most recent call last)",
      "\u001b[1;32m~\\AppData\\Local\\Temp\\ipykernel_21248\\302579636.py\u001b[0m in \u001b[0;36m<module>\u001b[1;34m\u001b[0m\n\u001b[0;32m      1\u001b[0m \u001b[0mmodel_path\u001b[0m \u001b[1;33m=\u001b[0m \u001b[1;34m\"./models/word2vec_first_pass.pkl\"\u001b[0m\u001b[1;33m\u001b[0m\u001b[1;33m\u001b[0m\u001b[0m\n\u001b[0;32m      2\u001b[0m \u001b[1;33m\u001b[0m\u001b[0m\n\u001b[1;32m----> 3\u001b[1;33m \u001b[0mnlp\u001b[0m\u001b[1;33m.\u001b[0m\u001b[0madd_pipe\u001b[0m\u001b[1;33m(\u001b[0m\u001b[1;34m\"concise_concepts\"\u001b[0m\u001b[1;33m,\u001b[0m \u001b[0mconfig\u001b[0m\u001b[1;33m=\u001b[0m\u001b[1;33m{\u001b[0m\u001b[1;34m\"data\"\u001b[0m\u001b[1;33m:\u001b[0m \u001b[0ment_data\u001b[0m\u001b[1;33m,\u001b[0m \u001b[1;34m\"model_path\"\u001b[0m\u001b[1;33m:\u001b[0m \u001b[0mmodel_path\u001b[0m\u001b[1;33m,\u001b[0m \u001b[1;34m\"ent_score\"\u001b[0m\u001b[1;33m:\u001b[0m \u001b[1;32mTrue\u001b[0m\u001b[1;33m}\u001b[0m\u001b[1;33m)\u001b[0m\u001b[1;33m\u001b[0m\u001b[1;33m\u001b[0m\u001b[0m\n\u001b[0m",
      "\u001b[1;32md:\\Code\\ClimateScholar\\wvenv\\lib\\site-packages\\spacy\\language.py\u001b[0m in \u001b[0;36madd_pipe\u001b[1;34m(self, factory_name, name, before, after, first, last, source, config, raw_config, validate)\u001b[0m\n\u001b[0;32m    798\u001b[0m                 \u001b[0mconfig\u001b[0m\u001b[1;33m=\u001b[0m\u001b[0mconfig\u001b[0m\u001b[1;33m,\u001b[0m\u001b[1;33m\u001b[0m\u001b[1;33m\u001b[0m\u001b[0m\n\u001b[0;32m    799\u001b[0m                 \u001b[0mraw_config\u001b[0m\u001b[1;33m=\u001b[0m\u001b[0mraw_config\u001b[0m\u001b[1;33m,\u001b[0m\u001b[1;33m\u001b[0m\u001b[1;33m\u001b[0m\u001b[0m\n\u001b[1;32m--> 800\u001b[1;33m                 \u001b[0mvalidate\u001b[0m\u001b[1;33m=\u001b[0m\u001b[0mvalidate\u001b[0m\u001b[1;33m,\u001b[0m\u001b[1;33m\u001b[0m\u001b[1;33m\u001b[0m\u001b[0m\n\u001b[0m\u001b[0;32m    801\u001b[0m             )\n\u001b[0;32m    802\u001b[0m         \u001b[0mpipe_index\u001b[0m \u001b[1;33m=\u001b[0m \u001b[0mself\u001b[0m\u001b[1;33m.\u001b[0m\u001b[0m_get_pipe_index\u001b[0m\u001b[1;33m(\u001b[0m\u001b[0mbefore\u001b[0m\u001b[1;33m,\u001b[0m \u001b[0mafter\u001b[0m\u001b[1;33m,\u001b[0m \u001b[0mfirst\u001b[0m\u001b[1;33m,\u001b[0m \u001b[0mlast\u001b[0m\u001b[1;33m)\u001b[0m\u001b[1;33m\u001b[0m\u001b[1;33m\u001b[0m\u001b[0m\n",
      "\u001b[1;32md:\\Code\\ClimateScholar\\wvenv\\lib\\site-packages\\spacy\\language.py\u001b[0m in \u001b[0;36mcreate_pipe\u001b[1;34m(self, factory_name, name, config, raw_config, validate)\u001b[0m\n\u001b[0;32m    672\u001b[0m         \u001b[1;31m# We're calling the internal _fill here to avoid constructing the\u001b[0m\u001b[1;33m\u001b[0m\u001b[1;33m\u001b[0m\u001b[1;33m\u001b[0m\u001b[0m\n\u001b[0;32m    673\u001b[0m         \u001b[1;31m# registered functions twice\u001b[0m\u001b[1;33m\u001b[0m\u001b[1;33m\u001b[0m\u001b[1;33m\u001b[0m\u001b[0m\n\u001b[1;32m--> 674\u001b[1;33m         \u001b[0mresolved\u001b[0m \u001b[1;33m=\u001b[0m \u001b[0mregistry\u001b[0m\u001b[1;33m.\u001b[0m\u001b[0mresolve\u001b[0m\u001b[1;33m(\u001b[0m\u001b[0mcfg\u001b[0m\u001b[1;33m,\u001b[0m \u001b[0mvalidate\u001b[0m\u001b[1;33m=\u001b[0m\u001b[0mvalidate\u001b[0m\u001b[1;33m)\u001b[0m\u001b[1;33m\u001b[0m\u001b[1;33m\u001b[0m\u001b[0m\n\u001b[0m\u001b[0;32m    675\u001b[0m         \u001b[0mfilled\u001b[0m \u001b[1;33m=\u001b[0m \u001b[0mregistry\u001b[0m\u001b[1;33m.\u001b[0m\u001b[0mfill\u001b[0m\u001b[1;33m(\u001b[0m\u001b[1;33m{\u001b[0m\u001b[1;34m\"cfg\"\u001b[0m\u001b[1;33m:\u001b[0m \u001b[0mcfg\u001b[0m\u001b[1;33m[\u001b[0m\u001b[0mfactory_name\u001b[0m\u001b[1;33m]\u001b[0m\u001b[1;33m}\u001b[0m\u001b[1;33m,\u001b[0m \u001b[0mvalidate\u001b[0m\u001b[1;33m=\u001b[0m\u001b[0mvalidate\u001b[0m\u001b[1;33m)\u001b[0m\u001b[1;33m[\u001b[0m\u001b[1;34m\"cfg\"\u001b[0m\u001b[1;33m]\u001b[0m\u001b[1;33m\u001b[0m\u001b[1;33m\u001b[0m\u001b[0m\n\u001b[0;32m    676\u001b[0m         \u001b[0mfilled\u001b[0m \u001b[1;33m=\u001b[0m \u001b[0mConfig\u001b[0m\u001b[1;33m(\u001b[0m\u001b[0mfilled\u001b[0m\u001b[1;33m)\u001b[0m\u001b[1;33m\u001b[0m\u001b[1;33m\u001b[0m\u001b[0m\n",
      "\u001b[1;32md:\\Code\\ClimateScholar\\wvenv\\lib\\site-packages\\confection\\__init__.py\u001b[0m in \u001b[0;36mresolve\u001b[1;34m(cls, config, schema, overrides, validate)\u001b[0m\n\u001b[0;32m    727\u001b[0m     ) -> Dict[str, Any]:\n\u001b[0;32m    728\u001b[0m         resolved, _ = cls._make(\n\u001b[1;32m--> 729\u001b[1;33m             \u001b[0mconfig\u001b[0m\u001b[1;33m,\u001b[0m \u001b[0mschema\u001b[0m\u001b[1;33m=\u001b[0m\u001b[0mschema\u001b[0m\u001b[1;33m,\u001b[0m \u001b[0moverrides\u001b[0m\u001b[1;33m=\u001b[0m\u001b[0moverrides\u001b[0m\u001b[1;33m,\u001b[0m \u001b[0mvalidate\u001b[0m\u001b[1;33m=\u001b[0m\u001b[0mvalidate\u001b[0m\u001b[1;33m,\u001b[0m \u001b[0mresolve\u001b[0m\u001b[1;33m=\u001b[0m\u001b[1;32mTrue\u001b[0m\u001b[1;33m\u001b[0m\u001b[1;33m\u001b[0m\u001b[0m\n\u001b[0m\u001b[0;32m    730\u001b[0m         )\n\u001b[0;32m    731\u001b[0m         \u001b[1;32mreturn\u001b[0m \u001b[0mresolved\u001b[0m\u001b[1;33m\u001b[0m\u001b[1;33m\u001b[0m\u001b[0m\n",
      "\u001b[1;32md:\\Code\\ClimateScholar\\wvenv\\lib\\site-packages\\confection\\__init__.py\u001b[0m in \u001b[0;36m_make\u001b[1;34m(cls, config, schema, overrides, resolve, validate)\u001b[0m\n\u001b[0;32m    776\u001b[0m             \u001b[0mconfig\u001b[0m \u001b[1;33m=\u001b[0m \u001b[0mConfig\u001b[0m\u001b[1;33m(\u001b[0m\u001b[0morig_config\u001b[0m\u001b[1;33m)\u001b[0m\u001b[1;33m.\u001b[0m\u001b[0minterpolate\u001b[0m\u001b[1;33m(\u001b[0m\u001b[1;33m)\u001b[0m\u001b[1;33m\u001b[0m\u001b[1;33m\u001b[0m\u001b[0m\n\u001b[0;32m    777\u001b[0m         filled, _, resolved = cls._fill(\n\u001b[1;32m--> 778\u001b[1;33m             \u001b[0mconfig\u001b[0m\u001b[1;33m,\u001b[0m \u001b[0mschema\u001b[0m\u001b[1;33m,\u001b[0m \u001b[0mvalidate\u001b[0m\u001b[1;33m=\u001b[0m\u001b[0mvalidate\u001b[0m\u001b[1;33m,\u001b[0m \u001b[0moverrides\u001b[0m\u001b[1;33m=\u001b[0m\u001b[0moverrides\u001b[0m\u001b[1;33m,\u001b[0m \u001b[0mresolve\u001b[0m\u001b[1;33m=\u001b[0m\u001b[0mresolve\u001b[0m\u001b[1;33m\u001b[0m\u001b[1;33m\u001b[0m\u001b[0m\n\u001b[0m\u001b[0;32m    779\u001b[0m         )\n\u001b[0;32m    780\u001b[0m         \u001b[0mfilled\u001b[0m \u001b[1;33m=\u001b[0m \u001b[0mConfig\u001b[0m\u001b[1;33m(\u001b[0m\u001b[0mfilled\u001b[0m\u001b[1;33m,\u001b[0m \u001b[0msection_order\u001b[0m\u001b[1;33m=\u001b[0m\u001b[0msection_order\u001b[0m\u001b[1;33m)\u001b[0m\u001b[1;33m\u001b[0m\u001b[1;33m\u001b[0m\u001b[0m\n",
      "\u001b[1;32md:\\Code\\ClimateScholar\\wvenv\\lib\\site-packages\\confection\\__init__.py\u001b[0m in \u001b[0;36m_fill\u001b[1;34m(cls, config, schema, validate, resolve, parent, overrides)\u001b[0m\n\u001b[0;32m    847\u001b[0m                     \u001b[1;31m# We don't want to try/except this and raise our own error\u001b[0m\u001b[1;33m\u001b[0m\u001b[1;33m\u001b[0m\u001b[1;33m\u001b[0m\u001b[0m\n\u001b[0;32m    848\u001b[0m                     \u001b[1;31m# here, because we want the traceback if the function fails.\u001b[0m\u001b[1;33m\u001b[0m\u001b[1;33m\u001b[0m\u001b[1;33m\u001b[0m\u001b[0m\n\u001b[1;32m--> 849\u001b[1;33m                     \u001b[0mgetter_result\u001b[0m \u001b[1;33m=\u001b[0m \u001b[0mgetter\u001b[0m\u001b[1;33m(\u001b[0m\u001b[1;33m*\u001b[0m\u001b[0margs\u001b[0m\u001b[1;33m,\u001b[0m \u001b[1;33m**\u001b[0m\u001b[0mkwargs\u001b[0m\u001b[1;33m)\u001b[0m\u001b[1;33m\u001b[0m\u001b[1;33m\u001b[0m\u001b[0m\n\u001b[0m\u001b[0;32m    850\u001b[0m                 \u001b[1;32melse\u001b[0m\u001b[1;33m:\u001b[0m\u001b[1;33m\u001b[0m\u001b[1;33m\u001b[0m\u001b[0m\n\u001b[0;32m    851\u001b[0m                     \u001b[1;31m# We're not resolving and calling the function, so replace\u001b[0m\u001b[1;33m\u001b[0m\u001b[1;33m\u001b[0m\u001b[1;33m\u001b[0m\u001b[0m\n",
      "\u001b[1;32md:\\Code\\ClimateScholar\\wvenv\\lib\\site-packages\\concise_concepts\\__init__.py\u001b[0m in \u001b[0;36mmake_concise_concepts\u001b[1;34m(nlp, name, data, topn, model_path, ent_score)\u001b[0m\n\u001b[0;32m     14\u001b[0m     \u001b[0mnlp\u001b[0m\u001b[1;33m:\u001b[0m \u001b[0mLanguage\u001b[0m\u001b[1;33m,\u001b[0m \u001b[0mname\u001b[0m\u001b[1;33m:\u001b[0m \u001b[0mstr\u001b[0m\u001b[1;33m,\u001b[0m \u001b[0mdata\u001b[0m\u001b[1;33m:\u001b[0m \u001b[0mUnion\u001b[0m\u001b[1;33m[\u001b[0m\u001b[0mdict\u001b[0m\u001b[1;33m,\u001b[0m \u001b[0mlist\u001b[0m\u001b[1;33m]\u001b[0m\u001b[1;33m,\u001b[0m \u001b[0mtopn\u001b[0m\u001b[1;33m:\u001b[0m \u001b[0mlist\u001b[0m\u001b[1;33m,\u001b[0m \u001b[0mmodel_path\u001b[0m\u001b[1;33m:\u001b[0m \u001b[0mUnion\u001b[0m\u001b[1;33m[\u001b[0m\u001b[0mstr\u001b[0m\u001b[1;33m,\u001b[0m \u001b[1;32mNone\u001b[0m\u001b[1;33m]\u001b[0m\u001b[1;33m,\u001b[0m \u001b[0ment_score\u001b[0m\u001b[1;33m:\u001b[0m \u001b[0mbool\u001b[0m\u001b[1;33m\u001b[0m\u001b[1;33m\u001b[0m\u001b[0m\n\u001b[0;32m     15\u001b[0m ):\n\u001b[1;32m---> 16\u001b[1;33m     \u001b[1;32mreturn\u001b[0m \u001b[0mConceptualizer\u001b[0m\u001b[1;33m(\u001b[0m\u001b[0mnlp\u001b[0m\u001b[1;33m=\u001b[0m\u001b[0mnlp\u001b[0m\u001b[1;33m,\u001b[0m \u001b[0mname\u001b[0m\u001b[1;33m=\u001b[0m\u001b[0mname\u001b[0m\u001b[1;33m,\u001b[0m \u001b[0mdata\u001b[0m\u001b[1;33m=\u001b[0m\u001b[0mdata\u001b[0m\u001b[1;33m,\u001b[0m \u001b[0mtopn\u001b[0m\u001b[1;33m=\u001b[0m\u001b[0mtopn\u001b[0m\u001b[1;33m,\u001b[0m \u001b[0mmodel_path\u001b[0m\u001b[1;33m=\u001b[0m\u001b[0mmodel_path\u001b[0m\u001b[1;33m,\u001b[0m \u001b[0ment_score\u001b[0m\u001b[1;33m=\u001b[0m\u001b[0ment_score\u001b[0m\u001b[1;33m)\u001b[0m\u001b[1;33m\u001b[0m\u001b[1;33m\u001b[0m\u001b[0m\n\u001b[0m",
      "\u001b[1;32md:\\Code\\ClimateScholar\\wvenv\\lib\\site-packages\\concise_concepts\\conceptualizer\\Conceptualizer.py\u001b[0m in \u001b[0;36m__init__\u001b[1;34m(self, nlp, name, data, topn, model_path, ent_score)\u001b[0m\n\u001b[0;32m     27\u001b[0m         \u001b[0mself\u001b[0m\u001b[1;33m.\u001b[0m\u001b[0mtopn\u001b[0m \u001b[1;33m=\u001b[0m \u001b[0mtopn\u001b[0m\u001b[1;33m\u001b[0m\u001b[1;33m\u001b[0m\u001b[0m\n\u001b[0;32m     28\u001b[0m         \u001b[0mself\u001b[0m\u001b[1;33m.\u001b[0m\u001b[0mmodel_path\u001b[0m \u001b[1;33m=\u001b[0m \u001b[0mmodel_path\u001b[0m\u001b[1;33m\u001b[0m\u001b[1;33m\u001b[0m\u001b[0m\n\u001b[1;32m---> 29\u001b[1;33m         \u001b[0mself\u001b[0m\u001b[1;33m.\u001b[0m\u001b[0mrun\u001b[0m\u001b[1;33m(\u001b[0m\u001b[1;33m)\u001b[0m\u001b[1;33m\u001b[0m\u001b[1;33m\u001b[0m\u001b[0m\n\u001b[0m\u001b[0;32m     30\u001b[0m         \u001b[0mself\u001b[0m\u001b[1;33m.\u001b[0m\u001b[0mdata_upper\u001b[0m \u001b[1;33m=\u001b[0m \u001b[1;33m{\u001b[0m\u001b[0mk\u001b[0m\u001b[1;33m.\u001b[0m\u001b[0mupper\u001b[0m\u001b[1;33m(\u001b[0m\u001b[1;33m)\u001b[0m\u001b[1;33m:\u001b[0m \u001b[0mv\u001b[0m \u001b[1;32mfor\u001b[0m \u001b[0mk\u001b[0m\u001b[1;33m,\u001b[0m \u001b[0mv\u001b[0m \u001b[1;32min\u001b[0m \u001b[0mdata\u001b[0m\u001b[1;33m.\u001b[0m\u001b[0mitems\u001b[0m\u001b[1;33m(\u001b[0m\u001b[1;33m)\u001b[0m\u001b[1;33m}\u001b[0m\u001b[1;33m\u001b[0m\u001b[1;33m\u001b[0m\u001b[0m\n\u001b[0;32m     31\u001b[0m \u001b[1;33m\u001b[0m\u001b[0m\n",
      "\u001b[1;32md:\\Code\\ClimateScholar\\wvenv\\lib\\site-packages\\concise_concepts\\conceptualizer\\Conceptualizer.py\u001b[0m in \u001b[0;36mrun\u001b[1;34m(self)\u001b[0m\n\u001b[0;32m     33\u001b[0m         \u001b[0mself\u001b[0m\u001b[1;33m.\u001b[0m\u001b[0mdetermine_topn\u001b[0m\u001b[1;33m(\u001b[0m\u001b[1;33m)\u001b[0m\u001b[1;33m\u001b[0m\u001b[1;33m\u001b[0m\u001b[0m\n\u001b[0;32m     34\u001b[0m         \u001b[0mself\u001b[0m\u001b[1;33m.\u001b[0m\u001b[0mset_gensim_model\u001b[0m\u001b[1;33m(\u001b[0m\u001b[1;33m)\u001b[0m\u001b[1;33m\u001b[0m\u001b[1;33m\u001b[0m\u001b[0m\n\u001b[1;32m---> 35\u001b[1;33m         \u001b[0mself\u001b[0m\u001b[1;33m.\u001b[0m\u001b[0mverify_data\u001b[0m\u001b[1;33m(\u001b[0m\u001b[1;33m)\u001b[0m\u001b[1;33m\u001b[0m\u001b[1;33m\u001b[0m\u001b[0m\n\u001b[0m\u001b[0;32m     36\u001b[0m         \u001b[0mself\u001b[0m\u001b[1;33m.\u001b[0m\u001b[0mexpand_concepts\u001b[0m\u001b[1;33m(\u001b[0m\u001b[1;33m)\u001b[0m\u001b[1;33m\u001b[0m\u001b[1;33m\u001b[0m\u001b[0m\n\u001b[0;32m     37\u001b[0m         \u001b[0mself\u001b[0m\u001b[1;33m.\u001b[0m\u001b[0mverify_data\u001b[0m\u001b[1;33m(\u001b[0m\u001b[0mverbose\u001b[0m\u001b[1;33m=\u001b[0m\u001b[1;32mFalse\u001b[0m\u001b[1;33m)\u001b[0m\u001b[1;33m\u001b[0m\u001b[1;33m\u001b[0m\u001b[0m\n",
      "\u001b[1;32md:\\Code\\ClimateScholar\\wvenv\\lib\\site-packages\\concise_concepts\\conceptualizer\\Conceptualizer.py\u001b[0m in \u001b[0;36mverify_data\u001b[1;34m(self, verbose)\u001b[0m\n\u001b[0;32m    107\u001b[0m         \u001b[1;32mfor\u001b[0m \u001b[0mkey\u001b[0m\u001b[1;33m,\u001b[0m \u001b[0mvalue\u001b[0m \u001b[1;32min\u001b[0m \u001b[0mself\u001b[0m\u001b[1;33m.\u001b[0m\u001b[0mdata\u001b[0m\u001b[1;33m.\u001b[0m\u001b[0mitems\u001b[0m\u001b[1;33m(\u001b[0m\u001b[1;33m)\u001b[0m\u001b[1;33m:\u001b[0m\u001b[1;33m\u001b[0m\u001b[1;33m\u001b[0m\u001b[0m\n\u001b[0;32m    108\u001b[0m             \u001b[0mverified_values\u001b[0m \u001b[1;33m=\u001b[0m \u001b[1;33m[\u001b[0m\u001b[1;33m]\u001b[0m\u001b[1;33m\u001b[0m\u001b[1;33m\u001b[0m\u001b[0m\n\u001b[1;32m--> 109\u001b[1;33m             \u001b[1;32mif\u001b[0m \u001b[0mkey\u001b[0m\u001b[1;33m.\u001b[0m\u001b[0mreplace\u001b[0m\u001b[1;33m(\u001b[0m\u001b[1;34m\" \"\u001b[0m\u001b[1;33m,\u001b[0m \u001b[1;34m\"_\"\u001b[0m\u001b[1;33m)\u001b[0m \u001b[1;32mnot\u001b[0m \u001b[1;32min\u001b[0m \u001b[0mself\u001b[0m\u001b[1;33m.\u001b[0m\u001b[0mkv\u001b[0m\u001b[1;33m:\u001b[0m\u001b[1;33m\u001b[0m\u001b[1;33m\u001b[0m\u001b[0m\n\u001b[0m\u001b[0;32m    110\u001b[0m                 \u001b[1;32mif\u001b[0m \u001b[0mverbose\u001b[0m\u001b[1;33m:\u001b[0m\u001b[1;33m\u001b[0m\u001b[1;33m\u001b[0m\u001b[0m\n\u001b[0;32m    111\u001b[0m                     \u001b[0mlogger\u001b[0m\u001b[1;33m.\u001b[0m\u001b[0mwarning\u001b[0m\u001b[1;33m(\u001b[0m\u001b[1;34mf\"key {key} not present in word2vec model\"\u001b[0m\u001b[1;33m)\u001b[0m\u001b[1;33m\u001b[0m\u001b[1;33m\u001b[0m\u001b[0m\n",
      "\u001b[1;31mTypeError\u001b[0m: argument of type 'Word2Vec' is not iterable"
     ]
    }
   ],
   "source": [
    "model_path = \"./models/word2vec_first_pass.pkl\"\n",
    "\n",
    "nlp.add_pipe(\"concise_concepts\", config={\"data\": ent_data, \"model_path\": model_path, \"ent_score\": True})"
   ]
  },
  {
   "cell_type": "code",
   "execution_count": null,
   "metadata": {},
   "outputs": [],
   "source": [
    "ent_data"
   ]
  },
  {
   "cell_type": "code",
   "execution_count": null,
   "metadata": {},
   "outputs": [],
   "source": [
    "concise_ents = []\n",
    "for item in data:\n",
    "    abstract = item['abstract']\n",
    "\n",
    "    if abstract is None:\n",
    "        print(\"Found a none!\")\n",
    "    else:\n",
    "        doc = nlp(abstract)\n",
    "        concise_ents.append(doc.ents)\n"
   ]
  },
  {
   "cell_type": "code",
   "execution_count": 11,
   "metadata": {},
   "outputs": [],
   "source": [
    "abstract = data[0]['abstract']"
   ]
  },
  {
   "cell_type": "code",
   "execution_count": 12,
   "metadata": {},
   "outputs": [
    {
     "name": "stderr",
     "output_type": "stream",
     "text": [
      "Entity ´pCO2´ and/or label ´['co2', 'phases', 'co2', 'parameterizations', 'megacities', 'co2', 'model', 'sites', 'co2', 'density', 'evapotranspiration', 'atmosphere', 'years', 'elevated', 'things', 'internet', 'world', 'co2', 'ppmv', 'climate', 'earth', 'observations', 'network', 'reservoirs', 'weather', 'yields', 'sri', 'basmati', 'models', 'plume', 'march', 'errors', 'observations', 'microgrids', 'beijing', 'co2', 'emissions', 'prices', 'loam', 'ecosystems', 'utilization', 'data', 'standardization', 'relative', 'ebm', 'climate', 'biodiversity', 'march', 'scenarios', 'model', 'noise', 'regularity', 'risk', 'paleosols', 'nao', 'application', 'data', 'data', 'landscape', 'geosciences', 'department', 'regressors', 'map', 'mat', 'precipitation', 'models', 'changes', 'model', 'speleothems', 'glacial', 'equilibrium', 'climate', 'warm', 'dry', 'rewilding', 'invertebrates', 'microbes', 'herbivores', 'wilding', 'expansion', 'ecosystems', 'active', 'rivers', 'progress', 'framework', 'edtech', 'rewilding', 'london', 'languages', 'practices', 'cultural', 'population', 'china', 'elephants', 'captivity', 'seed', 'policy', 'success', 'components', 'systemic', 'rewilding', 'lorises', 'chapters', 'roles', 'natural', 'research', 'carrion', 'effects', 'rewilding', 'threats', 'ent', 'elephants', 'rewilding', 'nature', 'viviparity', 'abundance', 'genes', 'metabolic', 'male', 'raptor', 'attractiveness', 'sqm', 'behavior', 'rockfish', 'values', 'anxiety', 'behavioural', 'alterations', 'exposure', 'gills', 'gulf', 'chelated', 'diets', 'areas', 'yoy', 'recruitment', 'alaska', 'gulf', 'rockfishes', 'goa', 'years', 'rockfish', 'rockfish', 'rate', 'lifespan', 'rockfish', 'fish', 'livers', 'welfare', 'recovery', 'species', 'volume', 'sie', 'changes', 'clouds', 'evident', 'effects', 'decline', 'km3', 'volume', 'microplastics', 'models', 'loss', 'arctic', 'issues', 'models', 'system', 'climate', 'observations', 'climate', 'basis', 'observations', 'atmosphere', 'chemistry', 'projections', 'changes', 'assessment', 'global', 'period', 'changes', 'climate', 'years', 'species', 'cause', 'pattern', 'reversals', 'climate', 'forests', 'analysis', 'sst', 'individuals', 'knowledge', 'larger', 'places', 'carbon', 'crops', 'years', 'soc', 'climate', 'information', 'operational', 'researchers', 'sharks', 'nsw', 'atlantic', 'populations', 'distribution', 'sharks', 'populations', 'timing', 'seagrass', 'mhw', 'cluster', 'activities', 'sharks', 'species', 'sharks', 'extinction', 'clades', 'area', 'correlation', 'exports', 'mhw', 'species', 'properties', 'changes', 'abundance', 'sharks', 'forage', 'sst', 'mexico', 'influenza', 'data', 'ecosystems', 'recovery', 'males', 'females', 'stressors', 'ecosystems', 'rays', 'sharks', 'territory', 'bodies', 'chapter', 'species', 'seagrasses', 'sharks', 'rays']´ not found in vector model. Nothing to compare to, so setting ent._.ent_score to 0.\n",
      "Entity ´pCO2´ and/or label ´['co2', 'phases', 'co2', 'parameterizations', 'megacities', 'co2', 'model', 'sites', 'co2', 'density', 'evapotranspiration', 'atmosphere', 'years', 'elevated', 'things', 'internet', 'world', 'co2', 'ppmv', 'climate', 'earth', 'observations', 'network', 'reservoirs', 'weather', 'yields', 'sri', 'basmati', 'models', 'plume', 'march', 'errors', 'observations', 'microgrids', 'beijing', 'co2', 'emissions', 'prices', 'loam', 'ecosystems', 'utilization', 'data', 'standardization', 'relative', 'ebm', 'climate', 'biodiversity', 'march', 'scenarios', 'model', 'noise', 'regularity', 'risk', 'paleosols', 'nao', 'application', 'data', 'data', 'landscape', 'geosciences', 'department', 'regressors', 'map', 'mat', 'precipitation', 'models', 'changes', 'model', 'speleothems', 'glacial', 'equilibrium', 'climate', 'warm', 'dry', 'rewilding', 'invertebrates', 'microbes', 'herbivores', 'wilding', 'expansion', 'ecosystems', 'active', 'rivers', 'progress', 'framework', 'edtech', 'rewilding', 'london', 'languages', 'practices', 'cultural', 'population', 'china', 'elephants', 'captivity', 'seed', 'policy', 'success', 'components', 'systemic', 'rewilding', 'lorises', 'chapters', 'roles', 'natural', 'research', 'carrion', 'effects', 'rewilding', 'threats', 'ent', 'elephants', 'rewilding', 'nature', 'viviparity', 'abundance', 'genes', 'metabolic', 'male', 'raptor', 'attractiveness', 'sqm', 'behavior', 'rockfish', 'values', 'anxiety', 'behavioural', 'alterations', 'exposure', 'gills', 'gulf', 'chelated', 'diets', 'areas', 'yoy', 'recruitment', 'alaska', 'gulf', 'rockfishes', 'goa', 'years', 'rockfish', 'rockfish', 'rate', 'lifespan', 'rockfish', 'fish', 'livers', 'welfare', 'recovery', 'species', 'volume', 'sie', 'changes', 'clouds', 'evident', 'effects', 'decline', 'km3', 'volume', 'microplastics', 'models', 'loss', 'arctic', 'issues', 'models', 'system', 'climate', 'observations', 'climate', 'basis', 'observations', 'atmosphere', 'chemistry', 'projections', 'changes', 'assessment', 'global', 'period', 'changes', 'climate', 'years', 'species', 'cause', 'pattern', 'reversals', 'climate', 'forests', 'analysis', 'sst', 'individuals', 'knowledge', 'larger', 'places', 'carbon', 'crops', 'years', 'soc', 'climate', 'information', 'operational', 'researchers', 'sharks', 'nsw', 'atlantic', 'populations', 'distribution', 'sharks', 'populations', 'timing', 'seagrass', 'mhw', 'cluster', 'activities', 'sharks', 'species', 'sharks', 'extinction', 'clades', 'area', 'correlation', 'exports', 'mhw', 'species', 'properties', 'changes', 'abundance', 'sharks', 'forage', 'sst', 'mexico', 'influenza', 'data', 'ecosystems', 'recovery', 'males', 'females', 'stressors', 'ecosystems', 'rays', 'sharks', 'territory', 'bodies', 'chapter', 'species', 'seagrasses', 'sharks', 'rays']´ not found in vector model. Nothing to compare to, so setting ent._.ent_score to 0.\n",
      "Entity ´TCO2´ and/or label ´['co2', 'phases', 'co2', 'parameterizations', 'megacities', 'co2', 'model', 'sites', 'co2', 'density', 'evapotranspiration', 'atmosphere', 'years', 'elevated', 'things', 'internet', 'world', 'co2', 'ppmv', 'climate', 'earth', 'observations', 'network', 'reservoirs', 'weather', 'yields', 'sri', 'basmati', 'models', 'plume', 'march', 'errors', 'observations', 'microgrids', 'beijing', 'co2', 'emissions', 'prices', 'loam', 'ecosystems', 'utilization', 'data', 'standardization', 'relative', 'ebm', 'climate', 'biodiversity', 'march', 'scenarios', 'model', 'noise', 'regularity', 'risk', 'paleosols', 'nao', 'application', 'data', 'data', 'landscape', 'geosciences', 'department', 'regressors', 'map', 'mat', 'precipitation', 'models', 'changes', 'model', 'speleothems', 'glacial', 'equilibrium', 'climate', 'warm', 'dry', 'rewilding', 'invertebrates', 'microbes', 'herbivores', 'wilding', 'expansion', 'ecosystems', 'active', 'rivers', 'progress', 'framework', 'edtech', 'rewilding', 'london', 'languages', 'practices', 'cultural', 'population', 'china', 'elephants', 'captivity', 'seed', 'policy', 'success', 'components', 'systemic', 'rewilding', 'lorises', 'chapters', 'roles', 'natural', 'research', 'carrion', 'effects', 'rewilding', 'threats', 'ent', 'elephants', 'rewilding', 'nature', 'viviparity', 'abundance', 'genes', 'metabolic', 'male', 'raptor', 'attractiveness', 'sqm', 'behavior', 'rockfish', 'values', 'anxiety', 'behavioural', 'alterations', 'exposure', 'gills', 'gulf', 'chelated', 'diets', 'areas', 'yoy', 'recruitment', 'alaska', 'gulf', 'rockfishes', 'goa', 'years', 'rockfish', 'rockfish', 'rate', 'lifespan', 'rockfish', 'fish', 'livers', 'welfare', 'recovery', 'species', 'volume', 'sie', 'changes', 'clouds', 'evident', 'effects', 'decline', 'km3', 'volume', 'microplastics', 'models', 'loss', 'arctic', 'issues', 'models', 'system', 'climate', 'observations', 'climate', 'basis', 'observations', 'atmosphere', 'chemistry', 'projections', 'changes', 'assessment', 'global', 'period', 'changes', 'climate', 'years', 'species', 'cause', 'pattern', 'reversals', 'climate', 'forests', 'analysis', 'sst', 'individuals', 'knowledge', 'larger', 'places', 'carbon', 'crops', 'years', 'soc', 'climate', 'information', 'operational', 'researchers', 'sharks', 'nsw', 'atlantic', 'populations', 'distribution', 'sharks', 'populations', 'timing', 'seagrass', 'mhw', 'cluster', 'activities', 'sharks', 'species', 'sharks', 'extinction', 'clades', 'area', 'correlation', 'exports', 'mhw', 'species', 'properties', 'changes', 'abundance', 'sharks', 'forage', 'sst', 'mexico', 'influenza', 'data', 'ecosystems', 'recovery', 'males', 'females', 'stressors', 'ecosystems', 'rays', 'sharks', 'territory', 'bodies', 'chapter', 'species', 'seagrasses', 'sharks', 'rays']´ not found in vector model. Nothing to compare to, so setting ent._.ent_score to 0.\n",
      "Entity ´pCO2´ and/or label ´['co2', 'phases', 'co2', 'parameterizations', 'megacities', 'co2', 'model', 'sites', 'co2', 'density', 'evapotranspiration', 'atmosphere', 'years', 'elevated', 'things', 'internet', 'world', 'co2', 'ppmv', 'climate', 'earth', 'observations', 'network', 'reservoirs', 'weather', 'yields', 'sri', 'basmati', 'models', 'plume', 'march', 'errors', 'observations', 'microgrids', 'beijing', 'co2', 'emissions', 'prices', 'loam', 'ecosystems', 'utilization', 'data', 'standardization', 'relative', 'ebm', 'climate', 'biodiversity', 'march', 'scenarios', 'model', 'noise', 'regularity', 'risk', 'paleosols', 'nao', 'application', 'data', 'data', 'landscape', 'geosciences', 'department', 'regressors', 'map', 'mat', 'precipitation', 'models', 'changes', 'model', 'speleothems', 'glacial', 'equilibrium', 'climate', 'warm', 'dry', 'rewilding', 'invertebrates', 'microbes', 'herbivores', 'wilding', 'expansion', 'ecosystems', 'active', 'rivers', 'progress', 'framework', 'edtech', 'rewilding', 'london', 'languages', 'practices', 'cultural', 'population', 'china', 'elephants', 'captivity', 'seed', 'policy', 'success', 'components', 'systemic', 'rewilding', 'lorises', 'chapters', 'roles', 'natural', 'research', 'carrion', 'effects', 'rewilding', 'threats', 'ent', 'elephants', 'rewilding', 'nature', 'viviparity', 'abundance', 'genes', 'metabolic', 'male', 'raptor', 'attractiveness', 'sqm', 'behavior', 'rockfish', 'values', 'anxiety', 'behavioural', 'alterations', 'exposure', 'gills', 'gulf', 'chelated', 'diets', 'areas', 'yoy', 'recruitment', 'alaska', 'gulf', 'rockfishes', 'goa', 'years', 'rockfish', 'rockfish', 'rate', 'lifespan', 'rockfish', 'fish', 'livers', 'welfare', 'recovery', 'species', 'volume', 'sie', 'changes', 'clouds', 'evident', 'effects', 'decline', 'km3', 'volume', 'microplastics', 'models', 'loss', 'arctic', 'issues', 'models', 'system', 'climate', 'observations', 'climate', 'basis', 'observations', 'atmosphere', 'chemistry', 'projections', 'changes', 'assessment', 'global', 'period', 'changes', 'climate', 'years', 'species', 'cause', 'pattern', 'reversals', 'climate', 'forests', 'analysis', 'sst', 'individuals', 'knowledge', 'larger', 'places', 'carbon', 'crops', 'years', 'soc', 'climate', 'information', 'operational', 'researchers', 'sharks', 'nsw', 'atlantic', 'populations', 'distribution', 'sharks', 'populations', 'timing', 'seagrass', 'mhw', 'cluster', 'activities', 'sharks', 'species', 'sharks', 'extinction', 'clades', 'area', 'correlation', 'exports', 'mhw', 'species', 'properties', 'changes', 'abundance', 'sharks', 'forage', 'sst', 'mexico', 'influenza', 'data', 'ecosystems', 'recovery', 'males', 'females', 'stressors', 'ecosystems', 'rays', 'sharks', 'territory', 'bodies', 'chapter', 'species', 'seagrasses', 'sharks', 'rays']´ not found in vector model. Nothing to compare to, so setting ent._.ent_score to 0.\n"
     ]
    },
    {
     "data": {
      "text/html": [
       "<span class=\"tex2jax_ignore\"><div class=\"entities\" style=\"line-height: 2.5; direction: ltr\">Marine \n",
       "<mark class=\"entity\" style=\"background: darkorange; padding: 0.45em 0.6em; margin: 0 0.25em; line-height: 1; border-radius: 0.35em;\">\n",
       "    carbon\n",
       "    <span style=\"font-size: 0.8em; font-weight: bold; line-height: 1; border-radius: 0.35em; vertical-align: middle; margin-left: 0.5rem\">ENTITY (53%)</span>\n",
       "</mark>\n",
       " dioxide (\n",
       "<mark class=\"entity\" style=\"background: darkorange; padding: 0.45em 0.6em; margin: 0 0.25em; line-height: 1; border-radius: 0.35em;\">\n",
       "    CO2\n",
       "    <span style=\"font-size: 0.8em; font-weight: bold; line-height: 1; border-radius: 0.35em; vertical-align: middle; margin-left: 0.5rem\">ENTITY (35%)</span>\n",
       "</mark>\n",
       ") \n",
       "<mark class=\"entity\" style=\"background: darkorange; padding: 0.45em 0.6em; margin: 0 0.25em; line-height: 1; border-radius: 0.35em;\">\n",
       "    system\n",
       "    <span style=\"font-size: 0.8em; font-weight: bold; line-height: 1; border-radius: 0.35em; vertical-align: middle; margin-left: 0.5rem\">ENTITY (62%)</span>\n",
       "</mark>\n",
       " \n",
       "<mark class=\"entity\" style=\"background: darkorange; padding: 0.45em 0.6em; margin: 0 0.25em; line-height: 1; border-radius: 0.35em;\">\n",
       "    data\n",
       "    <span style=\"font-size: 0.8em; font-weight: bold; line-height: 1; border-radius: 0.35em; vertical-align: middle; margin-left: 0.5rem\">ENTITY (58%)</span>\n",
       "</mark>\n",
       " has been collected from December 2014 to June 2018 in the northern Salish Sea (NSS; British Columbia, Canada) and consisted of continuous \n",
       "<mark class=\"entity\" style=\"background: darkorange; padding: 0.45em 0.6em; margin: 0 0.25em; line-height: 1; border-radius: 0.35em;\">\n",
       "    measurements\n",
       "    <span style=\"font-size: 0.8em; font-weight: bold; line-height: 1; border-radius: 0.35em; vertical-align: middle; margin-left: 0.5rem\">ENTITY (79%)</span>\n",
       "</mark>\n",
       " at two \n",
       "<mark class=\"entity\" style=\"background: darkorange; padding: 0.45em 0.6em; margin: 0 0.25em; line-height: 1; border-radius: 0.35em;\">\n",
       "    sites\n",
       "    <span style=\"font-size: 0.8em; font-weight: bold; line-height: 1; border-radius: 0.35em; vertical-align: middle; margin-left: 0.5rem\">ENTITY (58%)</span>\n",
       "</mark>\n",
       " as well as spatially- and seasonally-distributed discrete seawater samples. The \n",
       "<mark class=\"entity\" style=\"background: darkorange; padding: 0.45em 0.6em; margin: 0 0.25em; line-height: 1; border-radius: 0.35em;\">\n",
       "    array\n",
       "    <span style=\"font-size: 0.8em; font-weight: bold; line-height: 1; border-radius: 0.35em; vertical-align: middle; margin-left: 0.5rem\">ENTITY (34%)</span>\n",
       "</mark>\n",
       " of \n",
       "<mark class=\"entity\" style=\"background: darkorange; padding: 0.45em 0.6em; margin: 0 0.25em; line-height: 1; border-radius: 0.35em;\">\n",
       "    CO2\n",
       "    <span style=\"font-size: 0.8em; font-weight: bold; line-height: 1; border-radius: 0.35em; vertical-align: middle; margin-left: 0.5rem\">ENTITY (35%)</span>\n",
       "</mark>\n",
       " observing \n",
       "<mark class=\"entity\" style=\"background: darkorange; padding: 0.45em 0.6em; margin: 0 0.25em; line-height: 1; border-radius: 0.35em;\">\n",
       "    activities\n",
       "    <span style=\"font-size: 0.8em; font-weight: bold; line-height: 1; border-radius: 0.35em; vertical-align: middle; margin-left: 0.5rem\">ENTITY (71%)</span>\n",
       "</mark>\n",
       " included high-\n",
       "<mark class=\"entity\" style=\"background: darkorange; padding: 0.45em 0.6em; margin: 0 0.25em; line-height: 1; border-radius: 0.35em;\">\n",
       "    resolution\n",
       "    <span style=\"font-size: 0.8em; font-weight: bold; line-height: 1; border-radius: 0.35em; vertical-align: middle; margin-left: 0.5rem\">ENTITY (66%)</span>\n",
       "</mark>\n",
       " \n",
       "<mark class=\"entity\" style=\"background: darkorange; padding: 0.45em 0.6em; margin: 0 0.25em; line-height: 1; border-radius: 0.35em;\">\n",
       "    CO2\n",
       "    <span style=\"font-size: 0.8em; font-weight: bold; line-height: 1; border-radius: 0.35em; vertical-align: middle; margin-left: 0.5rem\">ENTITY (35%)</span>\n",
       "</mark>\n",
       " partial pressure (\n",
       "<mark class=\"entity\" style=\"background: darkorange; padding: 0.45em 0.6em; margin: 0 0.25em; line-height: 1; border-radius: 0.35em;\">\n",
       "    pCO2\n",
       "    <span style=\"font-size: 0.8em; font-weight: bold; line-height: 1; border-radius: 0.35em; vertical-align: middle; margin-left: 0.5rem\">ENTITY (0%)</span>\n",
       "</mark>\n",
       ") and pHT (total scale) \n",
       "<mark class=\"entity\" style=\"background: darkorange; padding: 0.45em 0.6em; margin: 0 0.25em; line-height: 1; border-radius: 0.35em;\">\n",
       "    measurements\n",
       "    <span style=\"font-size: 0.8em; font-weight: bold; line-height: 1; border-radius: 0.35em; vertical-align: middle; margin-left: 0.5rem\">ENTITY (79%)</span>\n",
       "</mark>\n",
       " made at the Hakai Institute’s Quadra Island Field \n",
       "<mark class=\"entity\" style=\"background: darkorange; padding: 0.45em 0.6em; margin: 0 0.25em; line-height: 1; border-radius: 0.35em;\">\n",
       "    Station\n",
       "    <span style=\"font-size: 0.8em; font-weight: bold; line-height: 1; border-radius: 0.35em; vertical-align: middle; margin-left: 0.5rem\">ENTITY (44%)</span>\n",
       "</mark>\n",
       " (QIFS) and from an \n",
       "<mark class=\"entity\" style=\"background: darkorange; padding: 0.45em 0.6em; margin: 0 0.25em; line-height: 1; border-radius: 0.35em;\">\n",
       "    Environment\n",
       "    <span style=\"font-size: 0.8em; font-weight: bold; line-height: 1; border-radius: 0.35em; vertical-align: middle; margin-left: 0.5rem\">ENTITY (62%)</span>\n",
       "</mark>\n",
       " Canada \n",
       "<mark class=\"entity\" style=\"background: darkorange; padding: 0.45em 0.6em; margin: 0 0.25em; line-height: 1; border-radius: 0.35em;\">\n",
       "    weather\n",
       "    <span style=\"font-size: 0.8em; font-weight: bold; line-height: 1; border-radius: 0.35em; vertical-align: middle; margin-left: 0.5rem\">ENTITY (59%)</span>\n",
       "</mark>\n",
       " buoy, respectively, as well as discrete seawater \n",
       "<mark class=\"entity\" style=\"background: darkorange; padding: 0.45em 0.6em; margin: 0 0.25em; line-height: 1; border-radius: 0.35em;\">\n",
       "    measurements\n",
       "    <span style=\"font-size: 0.8em; font-weight: bold; line-height: 1; border-radius: 0.35em; vertical-align: middle; margin-left: 0.5rem\">ENTITY (79%)</span>\n",
       "</mark>\n",
       " of \n",
       "<mark class=\"entity\" style=\"background: darkorange; padding: 0.45em 0.6em; margin: 0 0.25em; line-height: 1; border-radius: 0.35em;\">\n",
       "    pCO2\n",
       "    <span style=\"font-size: 0.8em; font-weight: bold; line-height: 1; border-radius: 0.35em; vertical-align: middle; margin-left: 0.5rem\">ENTITY (0%)</span>\n",
       "</mark>\n",
       " and total dissolved inorganic \n",
       "<mark class=\"entity\" style=\"background: darkorange; padding: 0.45em 0.6em; margin: 0 0.25em; line-height: 1; border-radius: 0.35em;\">\n",
       "    carbon\n",
       "    <span style=\"font-size: 0.8em; font-weight: bold; line-height: 1; border-radius: 0.35em; vertical-align: middle; margin-left: 0.5rem\">ENTITY (53%)</span>\n",
       "</mark>\n",
       " (\n",
       "<mark class=\"entity\" style=\"background: darkorange; padding: 0.45em 0.6em; margin: 0 0.25em; line-height: 1; border-radius: 0.35em;\">\n",
       "    TCO2\n",
       "    <span style=\"font-size: 0.8em; font-weight: bold; line-height: 1; border-radius: 0.35em; vertical-align: middle; margin-left: 0.5rem\">ENTITY (0%)</span>\n",
       "</mark>\n",
       ") obtained during a number of field campaigns. A \n",
       "<mark class=\"entity\" style=\"background: darkorange; padding: 0.45em 0.6em; margin: 0 0.25em; line-height: 1; border-radius: 0.35em;\">\n",
       "    relationship\n",
       "    <span style=\"font-size: 0.8em; font-weight: bold; line-height: 1; border-radius: 0.35em; vertical-align: middle; margin-left: 0.5rem\">ENTITY (65%)</span>\n",
       "</mark>\n",
       " between NSS alkalinity and \n",
       "<mark class=\"entity\" style=\"background: darkorange; padding: 0.45em 0.6em; margin: 0 0.25em; line-height: 1; border-radius: 0.35em;\">\n",
       "    salinity\n",
       "    <span style=\"font-size: 0.8em; font-weight: bold; line-height: 1; border-radius: 0.35em; vertical-align: middle; margin-left: 0.5rem\">ENTITY (60%)</span>\n",
       "</mark>\n",
       " was developed with the discrete datasets and used with the continuous \n",
       "<mark class=\"entity\" style=\"background: darkorange; padding: 0.45em 0.6em; margin: 0 0.25em; line-height: 1; border-radius: 0.35em;\">\n",
       "    measurements\n",
       "    <span style=\"font-size: 0.8em; font-weight: bold; line-height: 1; border-radius: 0.35em; vertical-align: middle; margin-left: 0.5rem\">ENTITY (79%)</span>\n",
       "</mark>\n",
       " to highly resolve the marine \n",
       "<mark class=\"entity\" style=\"background: darkorange; padding: 0.45em 0.6em; margin: 0 0.25em; line-height: 1; border-radius: 0.35em;\">\n",
       "    CO2\n",
       "    <span style=\"font-size: 0.8em; font-weight: bold; line-height: 1; border-radius: 0.35em; vertical-align: middle; margin-left: 0.5rem\">ENTITY (35%)</span>\n",
       "</mark>\n",
       " \n",
       "<mark class=\"entity\" style=\"background: darkorange; padding: 0.45em 0.6em; margin: 0 0.25em; line-height: 1; border-radius: 0.35em;\">\n",
       "    system\n",
       "    <span style=\"font-size: 0.8em; font-weight: bold; line-height: 1; border-radius: 0.35em; vertical-align: middle; margin-left: 0.5rem\">ENTITY (62%)</span>\n",
       "</mark>\n",
       ". Collectively, these datasets provided insights into the seasonality in this historically under-sampled region and detail the \n",
       "<mark class=\"entity\" style=\"background: darkorange; padding: 0.45em 0.6em; margin: 0 0.25em; line-height: 1; border-radius: 0.35em;\">\n",
       "    area\n",
       "    <span style=\"font-size: 0.8em; font-weight: bold; line-height: 1; border-radius: 0.35em; vertical-align: middle; margin-left: 0.5rem\">ENTITY (52%)</span>\n",
       "</mark>\n",
       "’s tendency for aragonite \n",
       "<mark class=\"entity\" style=\"background: darkorange; padding: 0.45em 0.6em; margin: 0 0.25em; line-height: 1; border-radius: 0.35em;\">\n",
       "    saturation\n",
       "    <span style=\"font-size: 0.8em; font-weight: bold; line-height: 1; border-radius: 0.35em; vertical-align: middle; margin-left: 0.5rem\">ENTITY (75%)</span>\n",
       "</mark>\n",
       " state () to be at non-corrosive levels (i.e. &gt; 1) only in the upper water column during spring and summer months. This depth zone and time \n",
       "<mark class=\"entity\" style=\"background: darkorange; padding: 0.45em 0.6em; margin: 0 0.25em; line-height: 1; border-radius: 0.35em;\">\n",
       "    period\n",
       "    <span style=\"font-size: 0.8em; font-weight: bold; line-height: 1; border-radius: 0.35em; vertical-align: middle; margin-left: 0.5rem\">ENTITY (52%)</span>\n",
       "</mark>\n",
       " of reprieve can be periodically interrupted by strong northwesterly winds that drive short-lived (~1 week) episodes of high-\n",
       "<mark class=\"entity\" style=\"background: darkorange; padding: 0.45em 0.6em; margin: 0 0.25em; line-height: 1; border-radius: 0.35em;\">\n",
       "    pCO2\n",
       "    <span style=\"font-size: 0.8em; font-weight: bold; line-height: 1; border-radius: 0.35em; vertical-align: middle; margin-left: 0.5rem\">ENTITY (0%)</span>\n",
       "</mark>\n",
       ", low-pH, and low- conditions throughout the region. Interannual \n",
       "<mark class=\"entity\" style=\"background: darkorange; padding: 0.45em 0.6em; margin: 0 0.25em; line-height: 1; border-radius: 0.35em;\">\n",
       "    variability\n",
       "    <span style=\"font-size: 0.8em; font-weight: bold; line-height: 1; border-radius: 0.35em; vertical-align: middle; margin-left: 0.5rem\">ENTITY (83%)</span>\n",
       "</mark>\n",
       " in summertime conditions was evident and linked to reduced northwesterly winds and increased \n",
       "<mark class=\"entity\" style=\"background: darkorange; padding: 0.45em 0.6em; margin: 0 0.25em; line-height: 1; border-radius: 0.35em;\">\n",
       "    stratification\n",
       "    <span style=\"font-size: 0.8em; font-weight: bold; line-height: 1; border-radius: 0.35em; vertical-align: middle; margin-left: 0.5rem\">ENTITY (79%)</span>\n",
       "</mark>\n",
       ". Anthropogenic \n",
       "<mark class=\"entity\" style=\"background: darkorange; padding: 0.45em 0.6em; margin: 0 0.25em; line-height: 1; border-radius: 0.35em;\">\n",
       "    CO2\n",
       "    <span style=\"font-size: 0.8em; font-weight: bold; line-height: 1; border-radius: 0.35em; vertical-align: middle; margin-left: 0.5rem\">ENTITY (35%)</span>\n",
       "</mark>\n",
       " in NSS surface water was estimated using \n",
       "<mark class=\"entity\" style=\"background: darkorange; padding: 0.45em 0.6em; margin: 0 0.25em; line-height: 1; border-radius: 0.35em;\">\n",
       "    data\n",
       "    <span style=\"font-size: 0.8em; font-weight: bold; line-height: 1; border-radius: 0.35em; vertical-align: middle; margin-left: 0.5rem\">ENTITY (58%)</span>\n",
       "</mark>\n",
       " from 2017 combined with the global atmospheric \n",
       "<mark class=\"entity\" style=\"background: darkorange; padding: 0.45em 0.6em; margin: 0 0.25em; line-height: 1; border-radius: 0.35em;\">\n",
       "    CO2\n",
       "    <span style=\"font-size: 0.8em; font-weight: bold; line-height: 1; border-radius: 0.35em; vertical-align: middle; margin-left: 0.5rem\">ENTITY (35%)</span>\n",
       "</mark>\n",
       " forcing for the \n",
       "<mark class=\"entity\" style=\"background: darkorange; padding: 0.45em 0.6em; margin: 0 0.25em; line-height: 1; border-radius: 0.35em;\">\n",
       "    period\n",
       "    <span style=\"font-size: 0.8em; font-weight: bold; line-height: 1; border-radius: 0.35em; vertical-align: middle; margin-left: 0.5rem\">ENTITY (52%)</span>\n",
       "</mark>\n",
       " 1765 to 2100, and projected a mean \n",
       "<mark class=\"entity\" style=\"background: darkorange; padding: 0.45em 0.6em; margin: 0 0.25em; line-height: 1; border-radius: 0.35em;\">\n",
       "    value\n",
       "    <span style=\"font-size: 0.8em; font-weight: bold; line-height: 1; border-radius: 0.35em; vertical-align: middle; margin-left: 0.5rem\">ENTITY (55%)</span>\n",
       "</mark>\n",
       " of 49 ± 5 µmol kg-1 for 2018. The estimated trend in anthropogenic \n",
       "<mark class=\"entity\" style=\"background: darkorange; padding: 0.45em 0.6em; margin: 0 0.25em; line-height: 1; border-radius: 0.35em;\">\n",
       "    CO2\n",
       "    <span style=\"font-size: 0.8em; font-weight: bold; line-height: 1; border-radius: 0.35em; vertical-align: middle; margin-left: 0.5rem\">ENTITY (35%)</span>\n",
       "</mark>\n",
       " was further used to assess the \n",
       "<mark class=\"entity\" style=\"background: darkorange; padding: 0.45em 0.6em; margin: 0 0.25em; line-height: 1; border-radius: 0.35em;\">\n",
       "    evolution\n",
       "    <span style=\"font-size: 0.8em; font-weight: bold; line-height: 1; border-radius: 0.35em; vertical-align: middle; margin-left: 0.5rem\">ENTITY (76%)</span>\n",
       "</mark>\n",
       " of and pHT levels in NSS surface water, and revealed that wintertime corrosive conditions were likely absent pre-1900. The \n",
       "<mark class=\"entity\" style=\"background: darkorange; padding: 0.45em 0.6em; margin: 0 0.25em; line-height: 1; border-radius: 0.35em;\">\n",
       "    percent\n",
       "    <span style=\"font-size: 0.8em; font-weight: bold; line-height: 1; border-radius: 0.35em; vertical-align: middle; margin-left: 0.5rem\">ENTITY (41%)</span>\n",
       "</mark>\n",
       " of the \n",
       "<mark class=\"entity\" style=\"background: darkorange; padding: 0.45em 0.6em; margin: 0 0.25em; line-height: 1; border-radius: 0.35em;\">\n",
       "    year\n",
       "    <span style=\"font-size: 0.8em; font-weight: bold; line-height: 1; border-radius: 0.35em; vertical-align: middle; margin-left: 0.5rem\">ENTITY (30%)</span>\n",
       "</mark>\n",
       " spent above = 1 has dropped from ~98% in 1900 to ~60% by 2018. Over the coming decades, winter pHT and spring and summer are projected to decline to conditions below identified biological thresholds for select vulnerable \n",
       "<mark class=\"entity\" style=\"background: darkorange; padding: 0.45em 0.6em; margin: 0 0.25em; line-height: 1; border-radius: 0.35em;\">\n",
       "    species\n",
       "    <span style=\"font-size: 0.8em; font-weight: bold; line-height: 1; border-radius: 0.35em; vertical-align: middle; margin-left: 0.5rem\">ENTITY (72%)</span>\n",
       "</mark>\n",
       ".</div></span>"
      ],
      "text/plain": [
       "<IPython.core.display.HTML object>"
      ]
     },
     "metadata": {},
     "output_type": "display_data"
    }
   ],
   "source": [
    "doc = nlp(abstract)\n",
    "ents = doc.ents\n",
    "for ent in ents:\n",
    "    new_label = f\"{ent.label_} ({float(ent._.ent_score):.0%})\"\n",
    "    options[\"colors\"][new_label] = options[\"colors\"].get(ent.label_.lower(), None)\n",
    "    options[\"ents\"].append(new_label)\n",
    "    ent.label_ = new_label\n",
    "doc.ents = ents\n",
    "\n",
    "displacy.render(doc, style=\"ent\", options=options)"
   ]
  },
  {
   "cell_type": "code",
   "execution_count": null,
   "metadata": {},
   "outputs": [],
   "source": []
  }
 ],
 "metadata": {
  "kernelspec": {
   "display_name": "Python 3.7.9 ('wvenv': venv)",
   "language": "python",
   "name": "python3"
  },
  "language_info": {
   "codemirror_mode": {
    "name": "ipython",
    "version": 3
   },
   "file_extension": ".py",
   "mimetype": "text/x-python",
   "name": "python",
   "nbconvert_exporter": "python",
   "pygments_lexer": "ipython3",
   "version": "3.7.9"
  },
  "orig_nbformat": 4,
  "vscode": {
   "interpreter": {
    "hash": "ccb36032ccfd3cd9e4d7836d1d38c07c404b8fc43a76352e097996b4c439b31b"
   }
  }
 },
 "nbformat": 4,
 "nbformat_minor": 2
}
