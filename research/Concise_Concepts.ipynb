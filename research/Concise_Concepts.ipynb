{
 "cells": [
  {
   "cell_type": "code",
   "execution_count": 1,
   "metadata": {},
   "outputs": [
    {
     "name": "stdout",
     "output_type": "stream",
     "text": [
      "Collecting concise-concepts\n",
      "  Downloading concise_concepts-0.5.4-py3-none-any.whl (9.7 kB)\n",
      "Collecting gensim<5,>=4\n",
      "  Downloading gensim-4.2.0-cp37-cp37m-win_amd64.whl (24.0 MB)\n",
      "Requirement already satisfied: spacy<4,>=3 in d:\\code\\climatescholar\\wvenv\\lib\\site-packages (from concise-concepts) (3.4.1)\n",
      "Requirement already satisfied: smart-open>=1.8.1 in d:\\code\\climatescholar\\wvenv\\lib\\site-packages (from gensim<5,>=4->concise-concepts) (5.2.1)\n",
      "Requirement already satisfied: scipy>=0.18.1 in d:\\code\\climatescholar\\wvenv\\lib\\site-packages (from gensim<5,>=4->concise-concepts) (1.7.3)\n",
      "Requirement already satisfied: numpy>=1.17.0 in d:\\code\\climatescholar\\wvenv\\lib\\site-packages (from gensim<5,>=4->concise-concepts) (1.21.6)\n",
      "Collecting Cython==0.29.28\n",
      "  Using cached Cython-0.29.28-py2.py3-none-any.whl (983 kB)\n",
      "Requirement already satisfied: spacy-loggers<2.0.0,>=1.0.0 in d:\\code\\climatescholar\\wvenv\\lib\\site-packages (from spacy<4,>=3->concise-concepts) (1.0.3)\n",
      "Requirement already satisfied: srsly<3.0.0,>=2.4.3 in d:\\code\\climatescholar\\wvenv\\lib\\site-packages (from spacy<4,>=3->concise-concepts) (2.4.4)\n",
      "Requirement already satisfied: setuptools in d:\\code\\climatescholar\\wvenv\\lib\\site-packages (from spacy<4,>=3->concise-concepts) (47.1.0)\n",
      "Requirement already satisfied: wasabi<1.1.0,>=0.9.1 in d:\\code\\climatescholar\\wvenv\\lib\\site-packages (from spacy<4,>=3->concise-concepts) (0.10.1)\n",
      "Requirement already satisfied: spacy-legacy<3.1.0,>=3.0.9 in d:\\code\\climatescholar\\wvenv\\lib\\site-packages (from spacy<4,>=3->concise-concepts) (3.0.10)\n",
      "Requirement already satisfied: typer<0.5.0,>=0.3.0 in d:\\code\\climatescholar\\wvenv\\lib\\site-packages (from spacy<4,>=3->concise-concepts) (0.4.2)\n",
      "Requirement already satisfied: thinc<8.2.0,>=8.1.0 in d:\\code\\climatescholar\\wvenv\\lib\\site-packages (from spacy<4,>=3->concise-concepts) (8.1.1)\n",
      "Requirement already satisfied: murmurhash<1.1.0,>=0.28.0 in d:\\code\\climatescholar\\wvenv\\lib\\site-packages (from spacy<4,>=3->concise-concepts) (1.0.8)\n",
      "Requirement already satisfied: jinja2 in d:\\code\\climatescholar\\wvenv\\lib\\site-packages (from spacy<4,>=3->concise-concepts) (3.1.2)\n",
      "Requirement already satisfied: pathy>=0.3.5 in d:\\code\\climatescholar\\wvenv\\lib\\site-packages (from spacy<4,>=3->concise-concepts) (0.6.2)\n",
      "Requirement already satisfied: requests<3.0.0,>=2.13.0 in d:\\code\\climatescholar\\wvenv\\lib\\site-packages (from spacy<4,>=3->concise-concepts) (2.28.1)\n",
      "Requirement already satisfied: packaging>=20.0 in d:\\code\\climatescholar\\wvenv\\lib\\site-packages (from spacy<4,>=3->concise-concepts) (21.3)\n",
      "Requirement already satisfied: typing-extensions<4.2.0,>=3.7.4; python_version < \"3.8\" in d:\\code\\climatescholar\\wvenv\\lib\\site-packages (from spacy<4,>=3->concise-concepts) (4.1.1)\n",
      "Requirement already satisfied: preshed<3.1.0,>=3.0.2 in d:\\code\\climatescholar\\wvenv\\lib\\site-packages (from spacy<4,>=3->concise-concepts) (3.0.7)\n",
      "Requirement already satisfied: catalogue<2.1.0,>=2.0.6 in d:\\code\\climatescholar\\wvenv\\lib\\site-packages (from spacy<4,>=3->concise-concepts) (2.0.8)\n",
      "Requirement already satisfied: tqdm<5.0.0,>=4.38.0 in d:\\code\\climatescholar\\wvenv\\lib\\site-packages (from spacy<4,>=3->concise-concepts) (4.64.1)\n",
      "Requirement already satisfied: langcodes<4.0.0,>=3.2.0 in d:\\code\\climatescholar\\wvenv\\lib\\site-packages (from spacy<4,>=3->concise-concepts) (3.3.0)\n",
      "Requirement already satisfied: cymem<2.1.0,>=2.0.2 in d:\\code\\climatescholar\\wvenv\\lib\\site-packages (from spacy<4,>=3->concise-concepts) (2.0.6)\n",
      "Requirement already satisfied: pydantic!=1.8,!=1.8.1,<1.10.0,>=1.7.4 in d:\\code\\climatescholar\\wvenv\\lib\\site-packages (from spacy<4,>=3->concise-concepts) (1.9.2)\n",
      "Requirement already satisfied: click<9.0.0,>=7.1.1 in d:\\code\\climatescholar\\wvenv\\lib\\site-packages (from typer<0.5.0,>=0.3.0->spacy<4,>=3->concise-concepts) (8.1.3)\n",
      "Requirement already satisfied: blis<0.10.0,>=0.7.8 in d:\\code\\climatescholar\\wvenv\\lib\\site-packages (from thinc<8.2.0,>=8.1.0->spacy<4,>=3->concise-concepts) (0.9.1)\n",
      "Requirement already satisfied: confection<1.0.0,>=0.0.1 in d:\\code\\climatescholar\\wvenv\\lib\\site-packages (from thinc<8.2.0,>=8.1.0->spacy<4,>=3->concise-concepts) (0.0.1)\n",
      "Requirement already satisfied: MarkupSafe>=2.0 in d:\\code\\climatescholar\\wvenv\\lib\\site-packages (from jinja2->spacy<4,>=3->concise-concepts) (2.1.1)\n",
      "Requirement already satisfied: charset-normalizer<3,>=2 in d:\\code\\climatescholar\\wvenv\\lib\\site-packages (from requests<3.0.0,>=2.13.0->spacy<4,>=3->concise-concepts) (2.1.1)\n",
      "Requirement already satisfied: urllib3<1.27,>=1.21.1 in d:\\code\\climatescholar\\wvenv\\lib\\site-packages (from requests<3.0.0,>=2.13.0->spacy<4,>=3->concise-concepts) (1.26.12)\n",
      "Requirement already satisfied: idna<4,>=2.5 in d:\\code\\climatescholar\\wvenv\\lib\\site-packages (from requests<3.0.0,>=2.13.0->spacy<4,>=3->concise-concepts) (3.4)\n",
      "Requirement already satisfied: certifi>=2017.4.17 in d:\\code\\climatescholar\\wvenv\\lib\\site-packages (from requests<3.0.0,>=2.13.0->spacy<4,>=3->concise-concepts) (2022.9.14)\n",
      "Requirement already satisfied: pyparsing!=3.0.5,>=2.0.2 in d:\\code\\climatescholar\\wvenv\\lib\\site-packages (from packaging>=20.0->spacy<4,>=3->concise-concepts) (3.0.9)\n",
      "Requirement already satisfied: zipp>=0.5; python_version < \"3.8\" in d:\\code\\climatescholar\\wvenv\\lib\\site-packages (from catalogue<2.1.0,>=2.0.6->spacy<4,>=3->concise-concepts) (3.8.1)\n",
      "Requirement already satisfied: colorama; platform_system == \"Windows\" in d:\\code\\climatescholar\\wvenv\\lib\\site-packages (from tqdm<5.0.0,>=4.38.0->spacy<4,>=3->concise-concepts) (0.4.5)\n",
      "Requirement already satisfied: importlib-metadata; python_version < \"3.8\" in d:\\code\\climatescholar\\wvenv\\lib\\site-packages (from click<9.0.0,>=7.1.1->typer<0.5.0,>=0.3.0->spacy<4,>=3->concise-concepts) (4.12.0)\n",
      "Installing collected packages: Cython, gensim, concise-concepts\n",
      "  Attempting uninstall: Cython\n",
      "    Found existing installation: Cython 0.29.32\n",
      "    Uninstalling Cython-0.29.32:\n",
      "      Successfully uninstalled Cython-0.29.32\n",
      "Successfully installed Cython-0.29.28 concise-concepts-0.5.4 gensim-4.2.0\n",
      "Note: you may need to restart the kernel to use updated packages.\n"
     ]
    },
    {
     "name": "stderr",
     "output_type": "stream",
     "text": [
      "WARNING: You are using pip version 20.1.1; however, version 22.2.2 is available.\n",
      "You should consider upgrading via the 'd:\\Code\\ClimateScholar\\wvenv\\Scripts\\python.exe -m pip install --upgrade pip' command.\n"
     ]
    }
   ],
   "source": [
    "%pip install concise-concepts"
   ]
  },
  {
   "cell_type": "code",
   "execution_count": null,
   "metadata": {},
   "outputs": [],
   "source": [
    "import spacy\n",
    "from spacy import displacy\n",
    "import concise_concepts"
   ]
  },
  {
   "cell_type": "code",
   "execution_count": null,
   "metadata": {},
   "outputs": [],
   "source": [
    "data = {\n",
    "    \"fruit\": [\"apple\", \"pear\", \"orange\"],\n",
    "    \"vegetable\": [\"broccoli\", \"spinach\", \"tomato\"],\n",
    "    \"meat\": [\"beef\", \"pork\", \"fish\", \"lamb\"]\n",
    "}\n",
    "\n",
    "text = \"\"\"\n",
    "    Heat the oil in a large pan and add the Onion, celery and carrots.\n",
    "    Then, cook over a medium–low heat for 10 minutes, or until softened.\n",
    "    Add the courgette, garlic, red peppers and oregano and cook for 2–3 minutes.\n",
    "    Later, add some oranges and chickens. \"\"\"\n",
    "\n",
    "nlp = spacy.load(\"en_core_web_lg\", disable=[\"ner\"])\n",
    "# ent_score for entity condifence scoring\n",
    "nlp.add_pipe(\"concise_concepts\", config={\"data\": data, \"ent_score\": True})\n",
    "doc = nlp(text)\n",
    "\n",
    "options = {\"colors\": {\"fruit\": \"darkorange\", \"vegetable\": \"limegreen\", \"meat\": \"salmon\"},\n",
    "\"ents\": [\"fruit\", \"vegetable\", \"meat\"]}\n",
    "\n",
    "ents = doc.ents\n",
    "for ent in ents:\n",
    "    new_label = f\"{ent.label_} ({float(ent._.ent_score):.0%})\"\n",
    "    options[\"colors\"][new_label] = options[\"colors\"].get(ent.label_.lower(), None)\n",
    "    options[\"ents\"].append(new_label)\n",
    "    ent.label_ = new_label\n",
    "doc.ents = ents\n",
    "\n",
    "displacy.render(doc, style=\"ent\", options=options)"
   ]
  }
 ],
 "metadata": {
  "kernelspec": {
   "display_name": "Python 3.7.9 ('wvenv': venv)",
   "language": "python",
   "name": "python3"
  },
  "language_info": {
   "codemirror_mode": {
    "name": "ipython",
    "version": 3
   },
   "file_extension": ".py",
   "mimetype": "text/x-python",
   "name": "python",
   "nbconvert_exporter": "python",
   "pygments_lexer": "ipython3",
   "version": "3.7.9"
  },
  "orig_nbformat": 4,
  "vscode": {
   "interpreter": {
    "hash": "ccb36032ccfd3cd9e4d7836d1d38c07c404b8fc43a76352e097996b4c439b31b"
   }
  }
 },
 "nbformat": 4,
 "nbformat_minor": 2
}
