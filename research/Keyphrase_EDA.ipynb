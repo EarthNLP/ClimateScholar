{
 "cells": [
  {
   "cell_type": "code",
   "execution_count": null,
   "metadata": {},
   "outputs": [],
   "source": [
    "%pip install git+https://github.com/boudinfl/pke.git"
   ]
  },
  {
   "cell_type": "code",
   "execution_count": null,
   "metadata": {},
   "outputs": [],
   "source": [
    "%pip install spacy"
   ]
  },
  {
   "cell_type": "code",
   "execution_count": null,
   "metadata": {},
   "outputs": [],
   "source": [
    "!python -m spacy download en_core_web_sm"
   ]
  },
  {
   "cell_type": "code",
   "execution_count": 1,
   "metadata": {},
   "outputs": [],
   "source": [
    "import pke\n",
    "import json\n",
    "import spacy"
   ]
  },
  {
   "cell_type": "code",
   "execution_count": 2,
   "metadata": {},
   "outputs": [],
   "source": [
    "with open('./data/sample/rockfish.jsonl', 'r') as json_file:\n",
    "    json_list = list(json_file)"
   ]
  },
  {
   "cell_type": "code",
   "execution_count": 3,
   "metadata": {},
   "outputs": [
    {
     "data": {
      "text/plain": [
       "'The black rockfish (Sebastes schlegelii) is a teleost in which eggs are fertilized internally and retained in the maternal reproductive system, where they undergo development until live birth (viviparity). In the present study, we report a chromosome‐level black rockfish genome assembly. High‐throughput transcriptome analysis (RNA‐seq and ATAC‐seq) coupled with in situ hybridization (ISH) and immunofluorescence reveal several candidate genes for maternal preparation, sperm storage and release, and hatching. We propose that zona pellucida (ZP) proteins retain sperm at the oocyte envelope, while genes in two distinct astacin metalloproteinase subfamilies serve to release sperm from the ZP and free the embryo from chorion at prehatching stage. We present a model of black rockfish reproduction, and propose that the rockfish ovarian wall has a similar function to the uterus of mammals. Together, these genomic data reveal unprecedented insights into the evolution of an unusual teleost life history strategy, and provide a sound foundation for studying viviparity in nonmammalian vertebrates and an invaluable resource for rockfish ecological and evolutionary research.'"
      ]
     },
     "execution_count": 3,
     "metadata": {},
     "output_type": "execute_result"
    }
   ],
   "source": [
    "result = json.loads(json_list[0])\n",
    "result[\"data\"][0]['abstract']"
   ]
  },
  {
   "cell_type": "code",
   "execution_count": 4,
   "metadata": {},
   "outputs": [],
   "source": [
    "abstracts = []\n",
    "\n",
    "for result_dict in result[\"data\"]:\n",
    "    abstracts.append(result_dict['abstract'])"
   ]
  },
  {
   "cell_type": "code",
   "execution_count": 5,
   "metadata": {},
   "outputs": [
    {
     "data": {
      "text/plain": [
       "50"
      ]
     },
     "execution_count": 5,
     "metadata": {},
     "output_type": "execute_result"
    }
   ],
   "source": [
    "len(abstracts)"
   ]
  },
  {
   "cell_type": "code",
   "execution_count": 6,
   "metadata": {},
   "outputs": [
    {
     "name": "stdout",
     "output_type": "stream",
     "text": [
      "The black rockfish (Sebastes schlegelii) is a teleost in which eggs are fertilized internally and retained in the maternal reproductive system, where they undergo development until live birth (viviparity). In the present study, we report a chromosome‐level black rockfish genome assembly. High‐throughput transcriptome analysis (RNA‐seq and ATAC‐seq) coupled with in situ hybridization (ISH) and immunofluorescence reveal several candidate genes for maternal preparation, sperm storage and release, and hatching. We propose that zona pellucida (ZP) proteins retain sperm at the oocyte envelope, while genes in two distinct astacin metalloproteinase subfamilies serve to release sperm from the ZP and free the embryo from chorion at prehatching stage. We present a model of black rockfish reproduction, and propose that the rockfish ovarian wall has a similar function to the uterus of mammals. Together, these genomic data reveal unprecedented insights into the evolution of an unusual teleost life history strategy, and provide a sound foundation for studying viviparity in nonmammalian vertebrates and an invaluable resource for rockfish ecological and evolutionary research.\n",
      "Elucidating connections between ocean climate variability and change and recruitment of juvenile fishes to adult populations is critical for understanding variability in stock–recruit dynamics. Recruitment to adult rockfish populations in the California Current Ecosystem (CCE) is highly variable, leading to short- and long-term changes in abundance, productivity, forage availability, and potential fisheries yield. We used regional ocean model output, oceanographic data, and a 34-year time series of pelagic juvenile rockfish to investigate the interaction between changes in CCE source waters, as reflected by physical water mass properties, and recruitment variability. Specifically, variability of “spiciness” on upper water isopycnals explains a substantial fraction of the variation in pelagic juvenile rockfish abundance. High rockfish abundances correspond to cooler, fresher waters with higher dissolved oxygen (i.e., “minty”) conditions, indicative of Pacific subarctic water. By contrast, years of low rockfish abundance are associated with warmer, more saline, and more oxygen-deficient (i.e., “spicy”) conditions, reflecting waters of subtropical or equatorial origin. Transport and source waters in the CCE are key factors determining density-independent processes and subsequent recruitment to adult populations.\n",
      "Black rockfish (Sebastes schlegelii) is a teleost species where eggs are fertilized internally and retained in the maternal reproductive system, where they undergo development until live birth (termed viviparity). In the present study, we report a chromosome-level black rockfish genome assembly. High-throughput transcriptome analysis (RNA-seq and ATAC-seq), coupled with in situ hybridization (ISH) and immunofluorescence, identify several candidate genes for maternal preparation, sperm storage and release, and hatching. We propose that zona pellucida (ZP) genes retain sperm at the oocyte envelope, while genes in two distinct astacin metalloproteinase subfamilies serve to release sperm from the ZP and free the embryo from chorion at pre-hatching stage. Finally, we present a model of black rockfish reproduction, and propose that the rockfish ovarian wall has a similar function to uterus of mammals. Taken together, these genomic data reveal unprecedented insights into the evolution of an unusual teleost life history strategy, and provide a sound foundation for studying viviparity in non-mammalian vertebrates and an invaluable resource for rockfish ecology and evolution research.\n",
      "Acute change in water temperature causes heavy economic losses in the aquaculture industry. The present study investigated the metabolic and molecular effects of acute thermal stress on black rockfish (Sebastes schlegelii). Gas chromatography time-of-flight mass spectrometry (GC-TOF-MS)-based metabolomics was used to investigate the global metabolic response of black rockfish at a high water temperature (27°C), low water temperature (5°C) and normal water temperature (16°C). Metabolites involved in energy metabolism and basic amino acids were significantly increased upon acute exposure to 27°C (P < 0.05), and no change in metabolite levels occurred in the low water temperature group. However, certain fatty acid levels were elevated after cold stress (P < 0.05), and this effect was not observed in the 27°C group, suggesting that acute high and low temperature exposures caused different physiological responses. Using quantitative real-time PCR, we analyzed the expression of ubiquitin (ub), hypoxia-inducible factor (hif), lactate dehydrogenase (ldh), and acetyl-CoA carboxylase (acac). Higher expression levels of ub, hif, and ldh (P < 0.05) were observed in the high water temperature group, but no changes in these expression levels occurred in the low water temperature group. Our findings provide a potential metabolic profile for black rockfish when exposed to acute temperature stress and provide some insights into host metabolic and molecular responses to thermal stress.\n",
      "Abstract Little is known about intraspecific variation within the deacon rockfish (Sebastes diaconus), a recently described species found in the northeast Pacific Ocean. We investigated population structure among fish sampled from two nearshore reefs (Siletz Reef and Seal Rock) and one offshore site (Stonewall Bank) within a <50‐km2 area off the Oregon coast. Fish from the three sample sites exhibited small but statistically significant differences based on genetic variation at >15,000 neutral loci, whether analyzed independently or classified into nearshore and offshore groups. Male and females were readily distinguished using genetic data and 92 outlier loci were associated with sex, potentially indicating differential selection between males and females. Morphometric results indicated that there was significant secondary sexual dimorphism in otolith shape, but further sampling is required to disentangle potential confounding influence of age. This study is the first step toward understanding intraspecific variation within the deacon rockfish and the potential management implications. Since differentiation among the three sample sites was small, we consider the results to be suggestive of a single stock. However, future studies should evaluate how the stock is affected by differences in sex, age, and gene flow between the nearshore and offshore environments.\n",
      "None\n",
      "Found a none!\n",
      "The mammalian target of rapamycin (mTOR) is an evolutionarily highly conserved atypical serine/threonine protein kinase, which regulates cell growth, proliferation, apoptosis, autophagy, and metabolism. As a regulatory protein, Raptor is awfully important for the stability and function of mTOR complex 1 (mTORC1). However, the studies about how Raptor/mTORC1 participates in and regulates immune response in lower vertebrates are still limited. In this study, we investigated the regulation of immune response by the Raptor/mTORC1 signaling pathway in rockfish Sebastes schlegelii. Sebastes schlegelii Raptor (Ss-Raptor) is a highly conserved protein during the evolution, in both primary and tertiary structure. Ss-Raptor mRNA was widely distributed in various tissues of rockfish and has a relative higher expression in spleen and blood. After infected by Micrococcus luteus or Listonella anguillarum, mRNA expression of Ss-Raptor rapidly increased within 48 h. Once Raptor/mTORC1 signaling was blocked by rapamycin, expression of the pro-inflammatory cytokines IL-1β and IL-8 was severely impaired, suggesting potential regulatory role of Raptor/mTORC1 signaling in the innate immune response of rockfish. In addition, Raptor/mTORC1 pathway participated in lymphocyte activation of rockfish through promoting 4EBP1 and S6 phosphorylation. Inhibition of Raptor/mTORC1 signaling crippled the lymphocyte expansion during primary adaptive immune response, manifesting by the decrease of lymphoid organ weight and lymphocyte numbers. More importantly, inhibition of Raptor/mTORC1 signaling impaired the lymphocyte mediated cytotoxic response, and made the fish more vulnerable to the bacterial infection. Together, our results suggested that Raptor and its tightly regulated mTORC1 signaling acts as modulatory center to regulate both innate and lymphocyte-mediated adaptive immune response during bacterial infection. This research has shed new light on regulatory mechanism of teleost immune response, and provide helpful evidences to understand the evolution of immune system.\n",
      "Ocean systems, and the culturally and commercially important fishes that inhabit them, face growing threats. Increasingly, unconventional data sources are being used to inform fisheries research and management for data-poor species. \n",
      "Listed as a species of special concern in Canada, yelloweye rockfish (Sebastes ruberrimus) are vulnerable to exploitation, and have historical and cultural value to Indigenous people. In this study, Indigenous fishers of British Columbia, Canada, were interviewed and asked about observed changes to the body sizes (length) and abundance of this species over the last ~60 years, and the factors driving these changes. Their current and historical estimates of size and abundance were compared with current biological survey data. \n",
      "Forty-two semi-directed interviews were carried out and 89% of respondents observed a decrease in yelloweye rockfish body sizes since the 1980s. The median historical (1950s–1980s) length was 84 cm, compared with the median modern (2010–2015) length of 46 cm. All but one respondent reported substantial decrease in yelloweye rockfish abundance since their earliest fishing experiences (1950s to1980s, depending on participant's age), with a third suggesting the change was most evident in the early 2000s, followed by the 1980s (21%) and 1990s (17%). \n",
      "Sizes of modern yelloweye rockfish estimated by participants resembled estimates derived from ecological data recorded concurrently at the study region. \n",
      "This study illustrates a repeatable method for using traditional and local knowledge to extend baselines for data-poor species, and highlights the value of integrating Indigenous knowledge into fisheries research and management.\n",
      "ABSTRACT The attractiveness of various protein sources of 16 feed ingredients was determined in juvenile rockfish (Sebastes schlegeli) by using reinforced acrylic tank composed of three equally divided rectangular attracting chambers and an acclimatization chamber. Thirty fish were held in the acclimatization chamber at a time and tournament comparison of feed ingredients was applied to evaluate attractiveness. Jack mackerel (JM) (40.0%), sardine (SM) (33.3%), Pollack (PM) (40.0%), shrimp (SHM) (36.7%), mussel meal (40.0%) and oyster (43.3%) meals achieved the highest feeding attractiveness to rockfish in the 1st through 6th preliminary test, respectively. JM (40.0%), SHM (36.7%), squid meal (SQM) (33.3%), SM (40.3%), PM (40.0%) and PM (36.7%) achieved the highest feeding attractiveness to fish in the 7th through 12th preliminary test, respectively. Among the top five feed ingredients showing high attractiveness to rockfish, JM achieved higher attractiveness than PM and SHM in the 1st trial. In the 2nd trial, attractiveness of JM to rockfish was higher than SM and SQM. SM achieved higher attractiveness to rockfish than SQM, but not different from PM throughout the 30-min observation in the 3rd trial. The strongest feeding attractant response of rockfish was observed in JM, followed by SM, SQM, PM, and SHM, in order among various feed ingredients.\n",
      "None\n",
      "Found a none!\n",
      "In the California Current ecosystem, global climate change is predicted to trigger large-scale changes in ocean chemistry within this century. Ocean acidification—which occurs when increased levels of atmospheric CO2 dissolve into the ocean—is one of the biggest potential threats to marine life. In a coastal upwelling system, we compared the effects of chronic exposure to low pH (elevated pCO2) at four treatment levels (i.e., pCO2 = ambient [500], moderate [750], high [1900], and extreme [2800 μatm]) on behavior, physiology, and patterns of gene expression in white muscle tissue of juvenile rockfish (genus Sebastes), integrating responses from the transcriptome to the whole organism level. Experiments were conducted simultaneously on two closely related species that both inhabit kelp forests, yet differ in early life history traits, to compare high-CO2 tolerance among species. Our findings indicate that these congeners express different sensitivities to elevated CO2 levels. Copper rockfish (S. caurinus) exhibited changes in behavioral lateralization, reduced critical swimming speed, depressed aerobic scope, changes in metabolic enzyme activity, and increases in the expression of transcription factors and regulatory genes at high pCO2 exposure. Blue rockfish (S. mystinus), in contrast, showed no significant changes in behavior, swimming physiology, or aerobic capacity, but did exhibit significant changes in the expression of muscle structural genes as a function of pCO2, indicating acclimatization potential. The capacity of long-lived, late to mature, commercially important fish to acclimatize and adapt to changing ocean chemistry over the next 50–100 years is likely dependent on species-specific physiological tolerances.\n",
      "Rockfish (Sebastes spp.) are a common marine fish in nearshore and continental shelf environments in the North Pacific Ocean. They are frequently identified in coastal archaeological sites in western North America; however, the morphological similarity of rockfish species limits conventional zooarchaeological identifications to the genus level. This study applies ancient DNA analysis to 96 archaeological rockfish specimens from four sites on separate islands in an archipelago on western Vancouver Island, British Columbia, Canada. Two of the archaeological sites are located within a marine protected area specifically designed to facilitate the recovery of inshore rockfish populations; two sites are located outside this boundary and remain subject to considerable fishing pressure. Using mitochondrial 16S and control region DNA sequences, we identify at least twelve different rockfish species utilized during the past 2,500 years. Identification of rockfish at closely spaced and contemporaneously occupied sites confirms that a variety of Sebastes species were consistently exploited at each site, with more exposed areas having a higher number of species present. Identification results indicate that four of the twelve species did not occur within the conservation area boundary and, instead, were found in sites where commercial and recreational fishing continues to be permitted. This study demonstrates that ancient DNA identifications of archaeological assemblages can complement and expand perspective on modern day fisheries conservation and management in this National Park Reserve and First Nations ancestral territory.\n",
      "None\n",
      "Found a none!\n",
      "An 8‐week feeding trial was designed to evaluate the potential of yellow mealworm (Tenebrio molitor) as a locally available nutrient‐rich feedstuff for juvenile rockfish (Sebastes schlegeli). Experimental diets containing elevated levels of mealworm meal (WM) supplemented with synthetic methionine were formulated to be isonitrogenous, isolipidic and isoenergetic to a WM‐free fishmeal (FM) based control diet (designated as WM0, WM8, WM16, WM24 and WM32, respectively). To determine the necessity of dietary methionine supplementation at the highest inclusion of WM, a diet was prepared to contain 32% WM without methionine supplementation (WM32‐AA). Triplicate groups of rockfish juveniles (Mean ± S.E.; 3.11 ± 0.01 g) were fed one of the experimental diets to apparent satiation twice daily for 8 weeks. Fish growth performance in terms of weight gain and specific growth rate increased with increasing dietary inclusion of WM from 0 to 16% and then tended to decrease with further increase in dietary WM levels to 32%. Protein retention (PR) values followed the same trend as growth rates with the highest values found in fish offered WM16 diet. Although fish fed WM32‐AA diet showed significantly lower growth rate and PR values compared to those fed WM16 diet, their performance was still comparable to that of the WM‐free control group. Plasma triglyceride level was negatively affected by dietary WM inclusion and the lowest values were observed in the WM32‐AA group. Whole‐body and fillet proximate and essential amino acid compositions were not altered by dietary treatment and these values were comparable to those of the WM0 group. These findings suggested that WM might prove to be a promising alternative to FM in practical diets for juvenile rockfish and could be used at an inclusion level of up to 32% without having any adverse consequences for the health and performance of the fish. Although the diet containing 32% WM seemed to support a performance similar to that of the control diet, the recommended dietary inclusion level was no more than 16% of the diet dry matter.\n",
      "None\n",
      "Found a none!\n",
      "The average surface pH of the ocean is dropping at a rapid rate due to the dissolution of anthropogenic CO2, raising concerns for marine life. Additionally, some coastal areas periodically experience upwelling of CO2-enriched water with reduced pH. Previous research has demonstrated ocean acidification (OA)-induced changes in behavioural and sensory systems including olfaction, which is due to altered function of neural gamma-aminobutyric acid type A (GABAA) receptors. Here, we used a camera-based tracking software system to examine whether OA-dependent changes in GABAA receptors affect anxiety in juvenile Californian rockfish (Sebastes diploproa). Anxiety was estimated using behavioural tests that measure light/dark preference (scototaxis) and proximity to an object. After one week in OA conditions projected for the next century in the California shore (1125 ± 100 µatm, pH 7.75), anxiety was significantly increased relative to controls (483 ± 40 µatm CO2, pH 8.1). The GABAA-receptor agonist muscimol, but not the antagonist gabazine, caused a significant increase in anxiety consistent with altered Cl− flux in OA-exposed fish. OA-exposed fish remained more anxious even after 7 days back in control seawater; however, they resumed their normal behaviour by day 12. These results show that OA could severely alter rockfish behaviour; however, this effect is reversible.\n",
      "The present study showed short-term elevations in cellular metabolism, alterations in behavior and susceptibility to predation in juvenile rockfish after acute acclimation to CO2-acidification and hypoxic conditions. Physiological and behavioral alterations were restored after 3 weeks suggesting that rockfish possess mechanisms to defend rapid changes in PCO2 and oxygen conditions.\n",
      "None\n",
      "Found a none!\n",
      "None\n",
      "Found a none!\n",
      "Stable nitrogen and carbon isotope ratios of fish tissues, in combination with stomach content analysis, provide insights into how energy flows through marine food webs. Using these techniques, we investigated the diets and trophic niches of four important fish species of the Yellow Sea: the Spotty-bellied Greenling Hexagrammos agrammus, Fat Greenling H. otakii, Korean Rockfish Sebastes schlegelii, and Japanese Seaperch Lateolabrax japonicus. The stomach content analysis revealed that Spotty-bellied Greenlings mainly fed on crabs and fish; Fat Greenlings mainly preyed on fish, crabs, and shrimps; Korean Rockfish primarily consumed fish and shrimps; and Japanese Seaperch mainly fed on fish. Korean Rockfish had the highest dietary breadth index among the four fish species. Dietary composition of the four species did not overlap significantly, as indicated by Schoener's index. Prey category composition varied across fish species and differed between species pairs (except Korean Rockfish and Japanese Seaperch), as suggested by permutational ANOVA tests. The stable isotope analysis suggested that Japanese Seaperch had significantly higher C-13 and N-15 and had a significantly different centroid position, both of which indicated a higher trophic position. The corrected standard ellipse area on the N-15-C-13 (parts per thousand) biplot varied in size among species and significantly overlapped in the three rockfishes, with the largest overlap area observed between Fat Greenlings and Korean Rockfish. The results, in general, suggested that the three rockfish species, especially Korean Rockfish and Fat Greenlings, had similar trophic niches, but they were partitioned by prey resources according to the stomach content composition. Our study provides novel insights into the dietary niches and trophic dynamics of these four exploited species, which could help to improve ecosystem-based fisheries management in the Yellow Sea.\n",
      "This study was conducted to assess toxic effects of dietary lead (Pb) exposure on Korean Rockfish Sebastes schlegelii. Juvenile rockfish were used to evaluate the oxidative stress, neurotoxicity, and metallothionein (MT) gene expression after dietary exposure to lead (as Pb2+; 0, 30, 60, 120 and 240 mg/kg). Superoxide dismutase (SOD) activity, a measure of oxidative stress, was substantially elevated in the livers and gills of fish given dietary Pb greater than 60 mg/kg. Glutathione S-transferase (GST) activity in the liver and gill was significantly increased by dietary Pb > 60 mg/kg. A significant decrease in glutathione (GSH) level was observed in fish liver after exposure to dietary Pb > 30 mg/kg and in the gill after treatment with dietary Pb > 120 mg/kg. Acecyltholinesterase (AChE) was noticeably decreased in the brain by dietary Pb > 120 mg/kg and in the muscle by dietary Pb > 60 mg/kg. Metallothionein gene expression in the liver was stimulated significantly by the Pb exposure. Because dietary Pb exposure had a toxic effect on antioxidant responses, a neurotransmitter, and a specific immune expression in rockfish, the results of this study can be used to determine potential useful markers of Pb toxicity. Received June 11, 2016; accepted March 10, 2017.\n",
      "None\n",
      "Found a none!\n",
      "Gulf of Alaska rockfish have historically been assessed on a biennial schedule to coincide with the availability of new trawl survey data (odd years). In 2017, the Alaska Fisheries Science Center (AFSC) participated in a stock assessment prioritization process. It was recommended that the Gulf of Alaska (GOA) shortraker rockfish remain on a biennial stock assessment schedule with a full stock assessment produced in odd years and no stock assessment produced in even years.\n",
      "None\n",
      "Found a none!\n",
      "To predict the occurrence of cannibalism in the culture of larval black rockfish, Sebastes schlegelii, we developed a regression model based on morphometric measurements. First, 156 black rockfish were measured to obtain a theoretical model, that is LT ₚᵣₑy = 0.624 LT cₐₙₙᵢbₐₗ + 0.835. Then, 202 trials of paired fish, together with 31 pairs of cannibalistic fish, were used to revise this model, and the practical model was constructed: LT ₚᵣₑy = 0.522 LT cₐₙₙᵢbₐₗ + 4.908 (R² = 0.99). According to this equation, the threshold of size ratio was deduced, that is 1.30–1.69, which could be used to grade black rockfish by size and remove potential cannibals.\n",
      "None\n",
      "Found a none!\n",
      "None\n",
      "Found a none!\n",
      "None\n",
      "Found a none!\n",
      "The present experiment was conducted to evaluate the effects of trace mineral (Cu, Zn, Mn and Fe) premixes from inorganic and chelated (chelated to 2-hydroxy-4-methylthiobutanoic acid or hydroxy analog of methionine; Mintrex™, Novus International Inc., St. Charles, MO, USA) sources, in rockfish, (Sebastes schlegeli). fed diets containing mineral inhibitor phytic acid. Seven isonitrogenous (46% crude protein/CP) and isocaloric (16.63 KJ available energy per g diet) semi-purified diets comprising of a Basal control and diets supplemented either with the inorganic (I) or chelated premix (M) at three different levels of 0.75 (I0.75/M0.75), 1.5 (I1.5/M1.5) and 3 (I3/M3) g kg−1 diets were formulated. Twenty-four fish averaging individual wet body weight of 9 ± 0.2 g (Mean ± SD) were fed one of the experimental diets in quadratic group for 16 weeks. Average weight gain (WG) of fish fed M3 was significantly higher than that of fish fed Basal control and I1.5 diets (P < 0.05). Whereas, data for the liver and whole body trace mineral contents showed a higher Cu and Zn saturation among fish fed M3 and M1.5 diets (P < 0.05). Furthermore, hepatic Cu-Zn super oxide dismutase (Cu-Zn SOD) activity was recorded to be highest for fish fed M3 diet. Whereas, hepatic thiobarbituric acid-reactive substance (TBARS) value was lowest in fish fed M3 diet (P < 0.05). Challenge test with E. tarda showed an improved disease resistance among the fish fed different levels of trace mineral premixes. Therefore, these results demonstrated a higher efficiency of chelated compared to inorganic source of trace mineral premixes in marine rockfish.\n",
      "None\n",
      "Found a none!\n",
      "Compliance with spatial fishing regulations (e.g., marine protected areas, fishing closures) is one of the most important, yet rarely measured, determinants of ecological recovery. We used aerial observations of recreational fishing events from creel surveys before, during, and after 77 Rockfish Conservation Areas (RCAs) were established in British Columbia, Canada. There was no evidence of a change in fishing effort in 83% of the RCAs, and effort in five RCAs increased after establishment. Fishing effort in open areas adjacent to the RCAs declined with time and was higher than effort in the RCAs in all 3 years. Next, we used compliance data for 105 RCAs around Vancouver Island to model the drivers of compliance. Compliance was related to the level of fishing effort around the RCA, the size and perimeter-to-area ratio of RCAs, proximity to fishing lodges, and the level of enforcement. Noncompliance in RCAs may be hampering their effectiveness and impeding rockfish recovery. Education and enforcement efforts to reduce fishing effort inside protected areas are critical to the recovery of depleted fish stocks.\n",
      "Recruitment and connectivity are important criteria for designing effective marine protected areas, as coastal fish populations must be sustained by settling juveniles. However, patterns of recruitment are difficult to observe, and adults and juveniles may occupy distinct habitats. We examined patterns of adult black rockfish Sebastes melanops abundance with respect to habitat and spatiotemporal variability in recruitment of young-of-the-year (YOY) to determine how these variables influence population density in and around a rockfish conservation area (RCA). For most year classes, there was no relationship between the density of YOY and the density of 1 yr olds or the density of adults, and instead habitat variables such as topological complexity and the amount of rocky substrate predicted adult black rockfish abundance. For 1 year class of moderate abundance at the YOY stage but high abundance at the 1 yr old stage, a significant relationship between 1 yr olds and subsequent adults was observed. We surmise that overwinter survival of YOY fish may be an important determinant for year-class strength in black rockfish. Although a companion study found low recruitment of YOY inside the RCA, our data indicate that the density of many species of rockfish was higher inside the RCA. These results highlight how the density of adults can be determined by post-recruitment processes such as movement into suitable habitat and mortality, rather than by recruitment of YOY, and have implications for the design of marine reserve networks.\n",
      "AbstractReproductive parameters are critical components of stock assessment models that directly influence estimates of the stock biomass of mature females and significantly impact the determination of catch levels for many federally managed fish species. There are few data available concerning the reproductive biology of deepwater rockfish species in the Gulf of Alaska, which are suspected to have complex life histories that include viviparity, increasing productivity with age, abortive maturity, and spawning omission. The objective of this study was to examine the reproductive biology of female Shortraker Rockfish Sebastes borealis, Rougheye Rockfish S. aleutianus, and Blackspotted Rockfish S. melanostictus within the Gulf of Alaska. The reproductive development stage was examined for samples collected opportunistically throughout the year from a variety of scientific platforms and charter vessels in 2008–2014. Rougheye Rockfish and Shortraker Rockfish were found to be seasonal synchronous spawners, wit...\n",
      "Differences in oceanographic conditions over short distances can dramatically affect the distribution of marine organisms over small spatial scales. In southern California, oceanographic conditions vary widely from east to west as the offshore region is impacted by cool, southern flowing California Current water, while the inshore is typically warmer and more productive. We investigated how patterns of distribution and abundance of larval, genetically identified rockfishes related to environmental conditions off southern California, the world’s center of rockfish Sebastes spp. species diversity. The rockfish assemblage was dominated by small and short-lived species not typically targeted by recreational or commercial fishing (i.e. shortbelly S. jordani and squarespot S. hopkinsi rockfishes), but also contained moderate abundances of a few larger, targeted species (bank S. rufus and bocaccio S. paucispinis rockfishes). Spawning locations of many species were affected by environmental variability, as abundances of young (0 to 2 d old), targeted larvae were mainly found offshore in the cool, low primary production waters that also were relatively shallow and contained hard substrate. In contrast, untargeted species were more widespread and correlated positively only with hard substrate. Hotspots of species richness and targeted species were high within a large managed region, the Cowcod Conservation Area, indicating that it is effectively protecting important rockfish spawning habitat. This research highlights the need to account for environmental variation in habitat and assemblage structure when conducting marine spatial planning.\n",
      "None\n",
      "Found a none!\n",
      "Rockfish are assessed on a biennial stock assessment schedule to coincide with the availability of new survey data. For Gulf of Alaska (GOA) rockfish in off-cycle (even) years, we typically present an executive summary to recommend harvest levels for the next two years. However, last year during an oncycle (odd) year, we presented an executive summary similar to an off-cycle year for GOA rougheye and blackspotted (RE/BS) rockfish due to the 2013 government shutdown and extensive data updates that were needed. The GOA Plan Team (November 2013) subsequently recommended a full stock assessment be presented in 2014. We, therefore, present a full stock assessment document with updated assessment and projection model results to recommend harvest levels for the next two years.\n",
      "Nearshore marine habitats provide critical nursery grounds for juvenile fish, but their functional role requires the consideration of the impacts of spatial connectivity. This thesis examines nursery function in seagrass habitats through a marine landscape (“seascape”) lens, focusing on the spatial interactions between habitats, and their effects on population and trophic dynamics associated with nursery function to rockfish (Sebastes spp.). In the temperate Pacific Ocean, rockfish depend on nearshore habitats after an open-ocean, pelagic larval period. I investigate the role of two important spatial attributes, habitat adjacency and complexity, on rockfish recruitment to seagrass meadows, and the provision of subsidies to rockfish food webs. To test for these effects, underwater visual surveys and collections of young-of-the-year (YOY) copper rockfish recruitment (summer 2015) were compared across adjacent seagrass, kelp forest, and sand habitats within a nearshore seascape on the Central Coast of British Columbia. Recruitment was positively influenced by the structural complexity of seagrass and adjacency to kelp forest sites, however a negative interaction between seagrass complexity and kelp forest adjacency suggests that predation modifies copper rockfish recruitment densities. In addition, using isotopes to determine the basal contributions to rockfish food webs, kelp-derived nutrients were on average 47% ± 0.4 of YOY copper rockfish diets, which was 3x and 67x greater than the contribution of autochthonous seagrass production (seagrass epiphyte and seagrass blades, respectively). YOY copper rockfish diets in seagrass adjacent to sand habitats had the greatest amounts of kelp-derived nutrients and harpacticoid copepods, and concurrently had lower body condition compared to rockfish in the seagrass kelp edges and interior, feeding predominantly on seagrass epiphytes and calanoid copepods. This thesis provides further evidence that temperate seagrasses are nurseries for rockfish and that spatial elements of seascapes, including connectivity via habitat adjacency and variability in habitat structure, alter the recruitment and diets of rockfish in seagrass habitats. These seascape nursery effects are important considerations for marine planning, especially given the global decline of nearshore habitats.\n",
      "None\n",
      "Found a none!\n",
      "This study was conducted to investigate the effects of different taurine levels on the conjugated bile acid composition and growth of juvenile rockfish. Five taurine level diets were made by the supplementation of taurine (0%, 0.5%, 1.0%, 1.5% and 2.0%) to a basal diet. Fish meal washed with 70% ethanol to exclude taurine was used for the sole protein source. Feeding experiments were accomplished at 15°C using juvenile fish (initial BW: 13.5 g). Fish were fed the experimental diets for 4 months. At the end of experiments, fish were weighed and stored at −80°C for analysis of free amino acids and conjugated bile acids contents. \n",
      " \n",
      " \n",
      " \n",
      "The growth performance and feed efficiency of Korean rockfish were improved by taurine supplementation in the experimental diets. The taurine contents of the whole body increased with the increase in the taurine supplementation. The primary conjugated bile acids in gall bladder were taurocholic acid (83.5–165.6 mg mL−1) and taurochenodeoxycholic acid (6.3–20.0 mg mL−1). Total bile acids increased with increases in dietary taurine. Taurocholic acid content was more than 95% of the total conjugated bile acids. This indicates that taurine is the sole amino acid to make conjugated bile acid in Korean rockfish. Dietary taurine levels improved the conjugated bile acid composition in juvenile Korean rockfish.\n",
      "None\n",
      "Found a none!\n",
      "None\n",
      "Found a none!\n",
      "None\n",
      "Found a none!\n",
      "None\n",
      "Found a none!\n",
      "None\n",
      "Found a none!\n",
      "The mitochondrial theory of ageing proposes that the cumulative effect of biochemical damage in mitochondria causes mitochondrial mutations and plays a key role in ageing. Numerous studies have applied comparative approaches to test one of the predictions of the theory: That the rate of mitochondrial mutations is negatively correlated with longevity. Comparative studies face three challenges in detecting correlates of mutation rate: Covariation of mutation rates between species due to ancestry, covariation between life-history traits, and difficulty obtaining accurate estimates of mutation rate. We address these challenges using a novel Poisson regression method to examine the link between mutation rate and lifespan in rockfish (Sebastes). This method has better performance than traditional sister-species comparisons when sister species are too recently diverged to give reliable estimates of mutation rate. Rockfish are an ideal model system: They have long life spans with indeterminate growth and little evidence of senescence, which minimizes the confounding tradeoffs between lifespan and fecundity. We show that lifespan in rockfish is negatively correlated to rate of mitochondrial mutation, but not the rate of nuclear mutation. The life history of rockfish allows us to conclude that this relationship is unlikely to be driven by the tradeoffs between longevity and fecundity, or by the frequency of DNA replications in the germline. Instead, the relationship is compatible with the hypothesis that mutation rates are reduced by selection in long-lived taxa to reduce the chance of mitochondrial damage over its lifespan, consistent with the mitochondrial theory of ageing.\n",
      "Juvenile Korean Rockfish Sebastes schlegelii (length, 13.6 ± 1.4 cm [mean ± SD]; weight, 53.6 ± 4.2 g) were fed twice daily with diets containing varying levels of ascorbic acid (0, 50, 100, 200, and 400 mg/kg) for 4 weeks. Significant increases in daily weight and length occurred in fish fed more than 50 mg/kg ascorbic acid. The lysozyme activity of fish fed diets containing ascorbic acid was considerably increased in rockfish plasma at 400 mg/kg ascorbic acid and in kidney at over 50 mg/kg ascorbic acid. Total plasma immunoglobulin M (IgM) levels were markedly elevated in fish fed 400 mg/kg ascorbic acid. The results suggest that dietary ascorbic acid supplementation in juvenile rockfish can induce a significant increase in growth and in immunological features such as lysozyme activity and plasma IgM levels.\n",
      "Melano‐macrophage aggregates, collections of specialized cells of the innate immune system of fish, are considered a general biomarker for contaminant toxicity. To elucidate further the relationship between macrophage aggregates and metals exposure, yelloweye rockfish (Sebastes ruberrimus), a long‐lived species, were sampled from the east and west coasts of Prince of Wales Island, Alaska. Metals concentrations in livers (inorganic Hg, methyl mercury, Se, Ni, Cd, Cu, Zn) and spleens (inorganic Hg and methyl mercury) were determined, as well as their correlations with melano‐macrophage aggregate area. Sections of liver tissue were analyzed by laser ablation‐inductively coupled plasma–mass spectrometry to determine how metals were spatially distributed between hepatocytes and macrophage aggregates. The concentration of inorganic Hg in whole tissue was the best predictor of macrophage area in yelloweye livers and spleens. Macrophage aggregates had higher relative concentrations than most metals compared with the surrounding hepatocytes. However, not all metals were accumulated to the same degree, as evidenced by differences in the ratios of metals in macrophages compared with hepatocytes. Laser ablation data were corroborated with the results of X‐ray synchrotron fluorescence imaging of a yelloweye liver section. Hepatic macrophage aggregates in yelloweye rockfish may play an important role in the detoxification and storage of Hg and other metals. Environ Toxicol Chem 2015;34:1918–1925. © 2015 SETAC\n",
      "Executive Summary The demersal shelf rockfish (DSR) complex (yelloweye, quillback, copper, rosethorn, China, canary, and tiger rockfish) is assessed on a triennial cycle, with a full stock assessment typically conducted every third year. Historically, the stock assessment was based on relative abundance estimates from a manned submersible (Delta) and transitioned to a remote operated vehicle (ROV) in 2012. The recommended acceptable biological catch (ABC) and overfishing level (OFL) for this year’s assessment are based on the most recent ROV density estimates of yelloweye rockfish in each management area using the methodology described in Brylinsky et al. (2009). The results of a preliminary statistical age-structured assessment model (ASA) that incorporates submersible, and ROV yelloweye rockfish density estimates, commercial, sport, and subsistence fishery data, and International Pacific Halibut Commission (IPHC) survey data are not presented this year due to personnel changes. The ASA will be presented in full in 2020; updates to the assessment inputs are for the status quo methodology are presented here.\n",
      "Over thirty five species of rockfish are found along Canada’s Pacific coast, some of which have been considered for listing under Canada’s Species at Risk Act. We estimate Canadians’ welfare for recovery of a representative Pacific rockfish species using referendum-style stated preference methods administered to a sample of the Canadian public via an internet panel. Hypothetical recovery programs were presented as options to a baseline of current management measures. The programs resulted in varying long term outcomes distinguished by species’ future population projections. An increase in household taxes for a fixed ten year period was employed as the proposed payment mechanism. The econometric analysis found positive and significant welfare measures for all management programs, as well as sensitivity to scope. Willingness to pay ranged from $48 - $180 per year per household depending on the recovery program valued. Welfare measures were found to differ significantly between those who believed their responses to be consequential and those who did not. The former provided measures that were significantly higher than the latter. We conclude with a discussion of the findings in relation to recent literature on consequentiality and incentive compatibility of stated preference questions.\n",
      "Optimum dietary protein and lipid levels for juvenile rockfish were determined. Eight hundred and ten juvenile fish averaging 3.22 g were randomly chosen and distributed into 27 flow-through tanks of 50 L (30 fish per tank). Nine experimental diets were prepared according to a 3 × 3 factorial experimental design: three crude protein levels (45%, 50% and 55%) × three crude lipid levels (11%, 15% and 19%). Crude protein and crude lipid levels increased at the expense of dextrin and cellulose in the experimental diets. Survival of fish was not affected by either dietary protein or lipid level. Weight gain of fish was affected by dietary protein level, but not by dietary lipid level. Weight gain of fish fed the 50P-15L (50% protein and 15% lipid) diet was higher than that of fish fed the 45% protein diets regardless of lipid level, but not different from that of fish fed the 50P-11L (50% protein and 11% lipid), 50P-19L (50% protein and 19% lipid), 55P-11L (55% protein and 11% lipid), 55P-15L (55% protein and 15% lipid) and 55P-19L (55% protein and 19% lipid) diets. Feed consumption of fish was affected by dietary protein level, but not by dietary lipid levels. Feed efficiency ratio (FER) of fish was affected by dietary protein level, but not by dietary lipid level. Protein efficiency ratio (PER) of fish was affected by dietary protein level, but not by dietary lipid level. Nitrogen retention efficiency (NRE) of fish fed the 45P-19L diet was higher than that of fish fed the 45P-11L, 50P-11L, 50P-15L, 50P-19L, 55P-11L, 55P-15L and 55P-19L diets, but not different from that of fish fed the 45P-15L diet. Moisture, crude protein and crude lipid contents of fish was affected by dietary protein and/or lipid level. Plasma triglyceride of fish was affected by dietary lipid level, but not by dietary protein level. In conclusion, optimum protein and lipid levels for growth and feed utilization (PER and NRE) for juvenile rockfish were 50% and 15%, and 45% and 19%, respectively, and the optimum dietary protein-to-energy ratio of 27.4 and 23.9 mg protein kJ−1.\n"
     ]
    }
   ],
   "source": [
    "# initialize keyphrase extraction model, here TopicRank\n",
    "extractor = pke.unsupervised.TopicRank()\n",
    "\n",
    "keyphrases = []\n",
    "\n",
    "for abstract in abstracts:\n",
    "    if abstract is None:\n",
    "        print(\"Found a none!\")\n",
    "    else:\n",
    "        extractor.load_document(input=abstract, language='en')\n",
    "        extractor.candidate_selection()\n",
    "        extractor.candidate_weighting()\n",
    "        keyphrases.append(extractor.get_n_best(n=5))"
   ]
  },
  {
   "cell_type": "code",
   "execution_count": null,
   "metadata": {},
   "outputs": [],
   "source": [
    "keyphrases"
   ]
  },
  {
   "cell_type": "code",
   "execution_count": null,
   "metadata": {},
   "outputs": [],
   "source": []
  }
 ],
 "metadata": {
  "kernelspec": {
   "display_name": "Python 3.7.9 ('wvenv': venv)",
   "language": "python",
   "name": "python3"
  },
  "language_info": {
   "codemirror_mode": {
    "name": "ipython",
    "version": 3
   },
   "file_extension": ".py",
   "mimetype": "text/x-python",
   "name": "python",
   "nbconvert_exporter": "python",
   "pygments_lexer": "ipython3",
   "version": "3.7.9"
  },
  "orig_nbformat": 4,
  "vscode": {
   "interpreter": {
    "hash": "b8a7a022a398fe7ab656254858ec798715e001191ee562638943cfed84055ab8"
   }
  }
 },
 "nbformat": 4,
 "nbformat_minor": 2
}
