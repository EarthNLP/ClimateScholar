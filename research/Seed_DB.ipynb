{
 "cells": [
  {
   "cell_type": "code",
   "execution_count": null,
   "metadata": {},
   "outputs": [],
   "source": [
    "%pip install neo4j"
   ]
  },
  {
   "cell_type": "code",
   "execution_count": 1,
   "metadata": {},
   "outputs": [
    {
     "name": "stderr",
     "output_type": "stream",
     "text": [
      "d:\\code\\ClimateScholar\\wvenv\\lib\\site-packages\\tqdm\\auto.py:22: TqdmWarning: IProgress not found. Please update jupyter and ipywidgets. See https://ipywidgets.readthedocs.io/en/stable/user_install.html\n",
      "  from .autonotebook import tqdm as notebook_tqdm\n"
     ]
    }
   ],
   "source": [
    "from neo4j import GraphDatabase\n",
    "import pke\n",
    "import json\n",
    "import spacy\n",
    "from sklearn.feature_extraction.text import CountVectorizer\n",
    "from bertopic import BERTopic\n",
    "import os\n",
    "import pickle"
   ]
  },
  {
   "cell_type": "markdown",
   "metadata": {},
   "source": [
    "### Node Types\n",
    "#### Paper Node\n",
    "- Title\n",
    "- paperId\n",
    "- Full Abstract\n",
    "#### Entity Node\n",
    "- entity_name\n",
    "#### Author Node\n",
    "- authorId\n",
    "- Name\n",
    "#### Sentence Node\n",
    "- Sentence text\n",
    "\n",
    "### Topic Node\n",
    "- name\n",
    "\n",
    "### Edge Types\n",
    "- (Sentence)-[:PREVIOUS_SENTENCE]->Sentence\n",
    "- (Sentence)-[:NEXT_SENTENCE]->Sentence\n",
    "- (Paper)-[:AUTHORED]->Author\n",
    "- (Paper)-[:HAS_KEYWORD]->Keyphrase\n",
    "- (Keyphrase)-[:RELATION]->Keyphrase\n",
    "- (Paper)-[:IN_TOPIC]->Topic"
   ]
  },
  {
   "cell_type": "code",
   "execution_count": 2,
   "metadata": {},
   "outputs": [],
   "source": [
    "def savePickle(data, save_path) -> None:\n",
    "    try:\n",
    "        with open(save_path, \"wb\") as f:\n",
    "            pickle.dump(data, f)\n",
    "    except Exception as e:\n",
    "        raise Exception(f\"Error: {e} with trying to save pickle at: {save_path}\")\n",
    "\n",
    "\n",
    "def loadPickle(load_path) -> None:\n",
    "    try:\n",
    "        with open(load_path, \"rb\") as f:\n",
    "            return pickle.load(f)\n",
    "    except Exception as e:\n",
    "        raise Exception(f\"Error: {e} with trying to load pickle at: {load_path}\")\n"
   ]
  },
  {
   "cell_type": "code",
   "execution_count": 3,
   "metadata": {},
   "outputs": [
    {
     "data": {
      "text/plain": [
       "350"
      ]
     },
     "execution_count": 3,
     "metadata": {},
     "output_type": "execute_result"
    }
   ],
   "source": [
    "abstracts = []\n",
    "root_path = \"./data/sample\"\n",
    "sample_data = [\"weather_CO2.jsonl\", \"paleoclimate.jsonl\", \"rewilding.jsonl\", \"rockfish.jsonl\", \"arctic.jsonl\", \"climate.jsonl\", \"shark_climate.jsonl\"]\n",
    "\n",
    "for data_path in sample_data:\n",
    "    with open(f'{root_path}/{data_path}', 'r') as json_file:\n",
    "        json_list = list(json_file)\n",
    "\n",
    "    result = json.loads(json_list[0])\n",
    "\n",
    "    for result_dict in result[\"data\"]:\n",
    "        abstracts.append(result_dict)\n",
    "\n",
    "len(abstracts)"
   ]
  },
  {
   "cell_type": "code",
   "execution_count": 4,
   "metadata": {},
   "outputs": [
    {
     "data": {
      "text/plain": [
       "222"
      ]
     },
     "execution_count": 4,
     "metadata": {},
     "output_type": "execute_result"
    }
   ],
   "source": [
    "data = [y for y in (x for x in abstracts) if y[\"abstract\"] is not None]\n",
    "len(data)"
   ]
  },
  {
   "cell_type": "code",
   "execution_count": 5,
   "metadata": {},
   "outputs": [
    {
     "name": "stderr",
     "output_type": "stream",
     "text": [
      "Batches: 100%|██████████| 7/7 [00:09<00:00,  1.32s/it]\n",
      "2022-09-20 12:12:53,370 - BERTopic - Transformed documents to Embeddings\n",
      "2022-09-20 12:13:01,493 - BERTopic - Reduced dimensionality\n",
      "2022-09-20 12:13:01,515 - BERTopic - Clustered reduced embeddings\n"
     ]
    }
   ],
   "source": [
    "# we add this to remove stopwords\n",
    "vectorizer_model = CountVectorizer(ngram_range=(1, 2), stop_words=\"english\")\n",
    "\n",
    "model = BERTopic(\n",
    "    vectorizer_model=vectorizer_model,\n",
    "    language='english', calculate_probabilities=True,\n",
    "    verbose=True\n",
    ")\n",
    "topics, probs = model.fit_transform([x['abstract'] for x in data])"
   ]
  },
  {
   "cell_type": "code",
   "execution_count": 6,
   "metadata": {},
   "outputs": [],
   "source": [
    "# initialize keyphrase extraction model, here TopicRank\n",
    "extractor = pke.unsupervised.TopicRank()"
   ]
  },
  {
   "cell_type": "code",
   "execution_count": 18,
   "metadata": {},
   "outputs": [],
   "source": [
    "for item, topicId in zip(data, topics):\n",
    "    item['topic'] = '_'.join([x[0] for x in model.get_topic(topicId)])\n",
    "\n",
    "    abstract = item['abstract']\n",
    "    entities = []\n",
    "\n",
    "    if abstract is None:\n",
    "        print(\"Found a none!\")\n",
    "    else:\n",
    "        extractor.load_document(input=abstract, language='en')\n",
    "        extractor.candidate_selection()\n",
    "        extractor.candidate_weighting()\n",
    "        item['ents'] = [x[0] for x in extractor.get_n_best(n=3)]"
   ]
  },
  {
   "cell_type": "code",
   "execution_count": 20,
   "metadata": {},
   "outputs": [],
   "source": [
    "savePickle(data, './data/checkpoint.pkl')"
   ]
  },
  {
   "cell_type": "code",
   "execution_count": 19,
   "metadata": {},
   "outputs": [
    {
     "data": {
      "text/plain": [
       "{'paperId': '1a8013583dd77f9dd4cc7d54fad50312c7685143',\n",
       " 'title': 'Marine CO2 Patterns in the Northern Salish Sea',\n",
       " 'abstract': 'Marine carbon dioxide (CO2) system data has been collected from December 2014 to June 2018 in the northern Salish Sea (NSS; British Columbia, Canada) and consisted of continuous measurements at two sites as well as spatially- and seasonally-distributed discrete seawater samples. The array of CO2 observing activities included high-resolution CO2 partial pressure (pCO2) and pHT (total scale) measurements made at the Hakai Institute’s Quadra Island Field Station (QIFS) and from an Environment Canada weather buoy, respectively, as well as discrete seawater measurements of pCO2 and total dissolved inorganic carbon (TCO2) obtained during a number of field campaigns. A relationship between NSS alkalinity and salinity was developed with the discrete datasets and used with the continuous measurements to highly resolve the marine CO2 system. Collectively, these datasets provided insights into the seasonality in this historically under-sampled region and detail the area’s tendency for aragonite saturation state () to be at non-corrosive levels (i.e. > 1) only in the upper water column during spring and summer months. This depth zone and time period of reprieve can be periodically interrupted by strong northwesterly winds that drive short-lived (~1 week) episodes of high-pCO2, low-pH, and low- conditions throughout the region. Interannual variability in summertime conditions was evident and linked to reduced northwesterly winds and increased stratification. Anthropogenic CO2 in NSS surface water was estimated using data from 2017 combined with the global atmospheric CO2 forcing for the period 1765 to 2100, and projected a mean value of 49 ± 5 µmol kg-1 for 2018. The estimated trend in anthropogenic CO2 was further used to assess the evolution of and pHT levels in NSS surface water, and revealed that wintertime corrosive conditions were likely absent pre-1900. The percent of the year spent above = 1 has dropped from ~98% in 1900 to ~60% by 2018. Over the coming decades, winter pHT and spring and summer are projected to decline to conditions below identified biological thresholds for select vulnerable species.',\n",
       " 'authors': [{'authorId': '2286722', 'name': 'Wiley Evans'},\n",
       "  {'authorId': '49905993', 'name': 'Katie Pocock'},\n",
       "  {'authorId': '145330296', 'name': 'A. Hare'},\n",
       "  {'authorId': '66879097', 'name': 'C. Weekes'},\n",
       "  {'authorId': '47424881', 'name': 'B. Hales'},\n",
       "  {'authorId': '47628081', 'name': 'J. Jackson'},\n",
       "  {'authorId': '1405341753', 'name': 'H. Gurney-Smith'},\n",
       "  {'authorId': '31684196', 'name': 'J. Mathis'},\n",
       "  {'authorId': '5596303', 'name': 'S. Alin'},\n",
       "  {'authorId': '4710955', 'name': 'R. Feely'}],\n",
       " 'topic': 'climate_co2_ice_arctic_data_model_atmospheric_global_sea_weather',\n",
       " 'ents': ['co2', 'nss', 'low- conditions']}"
      ]
     },
     "execution_count": 19,
     "metadata": {},
     "output_type": "execute_result"
    }
   ],
   "source": [
    "data[0]"
   ]
  },
  {
   "cell_type": "code",
   "execution_count": 21,
   "metadata": {},
   "outputs": [
    {
     "data": {
      "text/plain": [
       "{'paperId': '39eecef1392d65f97de6d7d541025d05240a1306',\n",
       " 'title': 'The impact of acute thermal stress on the metabolome of the black rockfish (Sebastes schlegelii)',\n",
       " 'abstract': 'Acute change in water temperature causes heavy economic losses in the aquaculture industry. The present study investigated the metabolic and molecular effects of acute thermal stress on black rockfish (Sebastes schlegelii). Gas chromatography time-of-flight mass spectrometry (GC-TOF-MS)-based metabolomics was used to investigate the global metabolic response of black rockfish at a high water temperature (27°C), low water temperature (5°C) and normal water temperature (16°C). Metabolites involved in energy metabolism and basic amino acids were significantly increased upon acute exposure to 27°C (P < 0.05), and no change in metabolite levels occurred in the low water temperature group. However, certain fatty acid levels were elevated after cold stress (P < 0.05), and this effect was not observed in the 27°C group, suggesting that acute high and low temperature exposures caused different physiological responses. Using quantitative real-time PCR, we analyzed the expression of ubiquitin (ub), hypoxia-inducible factor (hif), lactate dehydrogenase (ldh), and acetyl-CoA carboxylase (acac). Higher expression levels of ub, hif, and ldh (P < 0.05) were observed in the high water temperature group, but no changes in these expression levels occurred in the low water temperature group. Our findings provide a potential metabolic profile for black rockfish when exposed to acute temperature stress and provide some insights into host metabolic and molecular responses to thermal stress.',\n",
       " 'authors': [{'authorId': '2110310452', 'name': 'Min Song'},\n",
       "  {'authorId': '2109950207', 'name': 'Ji Zhao'},\n",
       "  {'authorId': '89160802', 'name': 'H. Wen'},\n",
       "  {'authorId': '115621856', 'name': 'Yun Li'},\n",
       "  {'authorId': '2109094873', 'name': 'Ji-Fang Li'},\n",
       "  {'authorId': '2111917852', 'name': 'Lan Li'},\n",
       "  {'authorId': '145968884', 'name': 'Y. Tao'}],\n",
       " 'topic': 'rockfish_fish_dietary_protein_species_sebastes_fed_diets_levels_rockfish sebastes',\n",
       " 'ents': ['water temperature', 'metabolic', 'acute thermal stress']}"
      ]
     },
     "execution_count": 21,
     "metadata": {},
     "output_type": "execute_result"
    }
   ],
   "source": [
    "data[100]"
   ]
  },
  {
   "cell_type": "code",
   "execution_count": 22,
   "metadata": {},
   "outputs": [],
   "source": [
    "uri = \"bolt://localhost:7687\"\n",
    "driver = GraphDatabase.driver(uri, auth=(\"neo4j\", \"hackathon\"))"
   ]
  },
  {
   "cell_type": "code",
   "execution_count": 26,
   "metadata": {},
   "outputs": [],
   "source": [
    "def create_paper_node(tx, paperId: str, title: str, abstract: str) -> None:\n",
    "    tx.run(\"CREATE (a:Paper {paperId: $paperId, title: $title, abstract: $abstract})\", paperId=paperId, title=title, abstract=abstract)\n",
    "\n",
    "def create_entity_node(tx, entity_name: str) -> None:\n",
    "    tx.run(\"CREATE (a:Entity {entity_name: $entity_name})\", entity_name=entity_name)\n",
    "\n",
    "def create_topic_node(tx, topic_name: str) -> None:\n",
    "    tx.run(\"CREATE (a:Topic {topic_name: $topic_name})\", topic_name=topic_name)\n",
    "\n",
    "def create_author_node(tx, authorId: str, author_name: str) -> None:\n",
    "    tx.run(\"CREATE (a:Author {authorId: $authorId, author_name: $author_name})\", authorId=authorId, author_name=author_name)"
   ]
  },
  {
   "cell_type": "code",
   "execution_count": 29,
   "metadata": {},
   "outputs": [],
   "source": [
    "def create_authored_relationship(tx, paperId, authorId):\n",
    "    tx.run(\"MATCH (a:Author) WHERE a.authorId = $authorId \"\n",
    "            \"MATCH (b:Paper) WHERE b.paperId = $paperId \"\n",
    "            \"CREATE (a)-[:AUTHORED]->(b)\",\n",
    "           authorId=authorId, paperId=paperId)\n",
    "\n",
    "def create_entity_relationship(tx, paperId, entity_name):\n",
    "    tx.run(\"MATCH (a:Entity) WHERE a.entity_name = $entity_name \"\n",
    "            \"MATCH (b:Paper) WHERE b.paperId = $paperId \"\n",
    "            \"CREATE (b)-[:HAS_KEYWORD]->(a)\",\n",
    "           entity_name=entity_name, paperId=paperId)\n",
    "\n",
    "def create_in_topic_relationship(tx, paperId, topic_name):\n",
    "    tx.run(\"MATCH (topic:Topic) WHERE topic.topic_name = $topic_name \"\n",
    "            \"MATCH (paper:Paper) WHERE paper.paperId = $paperId \"\n",
    "            \"CREATE (paper)-[:IN_TOPIC]->(topic)\",\n",
    "           topic_name=topic_name, paperId=paperId)"
   ]
  },
  {
   "cell_type": "code",
   "execution_count": 30,
   "metadata": {},
   "outputs": [],
   "source": [
    "seen_authors = set()\n",
    "seen_ents = set()\n",
    "seen_topics = set()\n",
    "\n",
    "with driver.session() as session:\n",
    "    for item in data:\n",
    "        # Create the core paper node\n",
    "        session.execute_write(create_paper_node, item['paperId'], item['title'], item['abstract'])\n",
    "\n",
    "        if item['topic'] not in seen_topics:\n",
    "            seen_topics.add(item['topic'])\n",
    "            session.execute_write(create_topic_node, item['topic'])\n",
    "        \n",
    "        session.execute_write(create_in_topic_relationship, item['paperId'], item['topic'])\n",
    "\n",
    "        # Create the entity nodes\n",
    "        for ent in item['ents']:\n",
    "            if ent not in seen_ents:\n",
    "                seen_ents.add(ent)\n",
    "                session.execute_write(create_entity_node, ent)\n",
    "\n",
    "            session.execute_write(create_entity_relationship, item['paperId'], ent)\n",
    "\n",
    "        # Create the author nodes and relationships\n",
    "        for author in item['authors']:\n",
    "            if author['authorId'] not in seen_authors:\n",
    "                seen_authors.add(author['authorId'])\n",
    "                session.execute_write(create_author_node, author['authorId'], author['name'])\n",
    "\n",
    "            session.execute_write(create_authored_relationship, item['paperId'], author['authorId'])\n",
    "\n",
    "\n",
    "driver.close()"
   ]
  },
  {
   "cell_type": "code",
   "execution_count": null,
   "metadata": {},
   "outputs": [],
   "source": []
  }
 ],
 "metadata": {
  "kernelspec": {
   "display_name": "Python 3.7.9 ('wvenv': venv)",
   "language": "python",
   "name": "python3"
  },
  "language_info": {
   "codemirror_mode": {
    "name": "ipython",
    "version": 3
   },
   "file_extension": ".py",
   "mimetype": "text/x-python",
   "name": "python",
   "nbconvert_exporter": "python",
   "pygments_lexer": "ipython3",
   "version": "3.7.9"
  },
  "orig_nbformat": 4,
  "vscode": {
   "interpreter": {
    "hash": "b8a7a022a398fe7ab656254858ec798715e001191ee562638943cfed84055ab8"
   }
  }
 },
 "nbformat": 4,
 "nbformat_minor": 2
}
