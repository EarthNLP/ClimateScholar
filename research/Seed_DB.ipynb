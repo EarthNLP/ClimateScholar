{
 "cells": [
  {
   "cell_type": "code",
   "execution_count": 1,
   "metadata": {},
   "outputs": [
    {
     "name": "stderr",
     "output_type": "stream",
     "text": [
      "d:\\code\\climatescholar\\venv\\lib\\site-packages\\tqdm\\auto.py:22: TqdmWarning: IProgress not found. Please update jupyter and ipywidgets. See https://ipywidgets.readthedocs.io/en/stable/user_install.html\n",
      "  from .autonotebook import tqdm as notebook_tqdm\n"
     ]
    }
   ],
   "source": [
    "from neo4j import GraphDatabase\n",
    "import json\n",
    "import spacy\n",
    "from sklearn.feature_extraction.text import CountVectorizer\n",
    "from bertopic import BERTopic\n",
    "import pickle\n",
    "from keybert import KeyBERT\n",
    "from sentence_transformers import SentenceTransformer"
   ]
  },
  {
   "cell_type": "code",
   "execution_count": 2,
   "metadata": {},
   "outputs": [],
   "source": [
    "# %%capture\n",
    "# %pip install --upgrade joblib==1.1.0"
   ]
  },
  {
   "cell_type": "code",
   "execution_count": 3,
   "metadata": {},
   "outputs": [],
   "source": [
    "def savePickle(data, save_path) -> None:\n",
    "    try:\n",
    "        with open(save_path, \"wb\") as f:\n",
    "            pickle.dump(data, f)\n",
    "    except Exception as e:\n",
    "        raise Exception(f\"Error: {e} with trying to save pickle at: {save_path}\")\n",
    "\n",
    "\n",
    "def loadPickle(load_path) -> None:\n",
    "    try:\n",
    "        with open(load_path, \"rb\") as f:\n",
    "            return pickle.load(f)\n",
    "    except Exception as e:\n",
    "        raise Exception(f\"Error: {e} with trying to load pickle at: {load_path}\")\n"
   ]
  },
  {
   "cell_type": "code",
   "execution_count": 4,
   "metadata": {},
   "outputs": [
    {
     "data": {
      "text/plain": [
       "350"
      ]
     },
     "execution_count": 4,
     "metadata": {},
     "output_type": "execute_result"
    }
   ],
   "source": [
    "abstracts = []\n",
    "root_path = \"./data/sample\"\n",
    "sample_data = [\"weather_CO2.jsonl\", \"paleoclimate.jsonl\", \"rewilding.jsonl\", \"rockfish.jsonl\", \"arctic.jsonl\", \"climate.jsonl\", \"shark_climate.jsonl\"]\n",
    "\n",
    "for data_path in sample_data:\n",
    "    with open(f'{root_path}/{data_path}', 'r') as json_file:\n",
    "        json_list = list(json_file)\n",
    "\n",
    "    result = json.loads(json_list[0])\n",
    "\n",
    "    for result_dict in result[\"data\"]:\n",
    "        abstracts.append(result_dict)\n",
    "\n",
    "len(abstracts)"
   ]
  },
  {
   "cell_type": "code",
   "execution_count": 5,
   "metadata": {},
   "outputs": [
    {
     "data": {
      "text/plain": [
       "222"
      ]
     },
     "execution_count": 5,
     "metadata": {},
     "output_type": "execute_result"
    }
   ],
   "source": [
    "data = [y for y in (x for x in abstracts) if y[\"abstract\"] is not None]\n",
    "len(data)"
   ]
  },
  {
   "cell_type": "code",
   "execution_count": 6,
   "metadata": {},
   "outputs": [
    {
     "name": "stderr",
     "output_type": "stream",
     "text": [
      "Batches: 100%|██████████| 7/7 [01:45<00:00, 15.07s/it]\n",
      "2023-03-27 18:30:59,827 - BERTopic - Transformed documents to Embeddings\n",
      "2023-03-27 18:31:07,855 - BERTopic - Reduced dimensionality\n",
      "2023-03-27 18:31:08,060 - BERTopic - Clustered reduced embeddings\n"
     ]
    }
   ],
   "source": [
    "# we add this to remove stopwords\n",
    "vectorizer_model = CountVectorizer(ngram_range=(1, 2), stop_words=\"english\")\n",
    "abstract_encoder = SentenceTransformer(\"sentence-transformers/allenai-specter\")\n",
    "\n",
    "topic_model = BERTopic(\n",
    "    embedding_model=abstract_encoder,\n",
    "    vectorizer_model=vectorizer_model,\n",
    "    language='english', \n",
    "    calculate_probabilities=True,\n",
    "    verbose=True\n",
    ")\n",
    "\n",
    "topics, probs = topic_model.fit_transform([x['abstract'].replace(\"\\n\", \" \").rstrip() for x in data])"
   ]
  },
  {
   "cell_type": "code",
   "execution_count": 7,
   "metadata": {},
   "outputs": [],
   "source": [
    "topic_model.save(\"models/climate_scholar_specter\")"
   ]
  },
  {
   "cell_type": "code",
   "execution_count": 8,
   "metadata": {},
   "outputs": [],
   "source": [
    "nlp = spacy.load(\"en_core_web_md\")\n",
    "kw_extractor = KeyBERT(model=abstract_encoder)"
   ]
  },
  {
   "cell_type": "code",
   "execution_count": 9,
   "metadata": {},
   "outputs": [],
   "source": [
    "topic_ent_dict = {}\n",
    "# This loop is the main processing loop\n",
    "for item, topicId in zip(data, topics):\n",
    "    topicNormalized = '_'.join([x[0] for x in topic_model.get_topic(topicId)])\n",
    "    item['topic'] = topicNormalized\n",
    "\n",
    "    abstract = item['abstract'].replace(\"\\n\", \" \").rstrip()\n",
    "    entities = []\n",
    "\n",
    "    if abstract is not None:\n",
    "        # Extract keywords\n",
    "        keywords = kw_extractor.extract_keywords(abstract, keyphrase_ngram_range=(1, 2), stop_words='english',use_maxsum=True, nr_candidates=20, top_n=3,  use_mmr=True, diversity=0.5)\n",
    "        item['keywords'] = [x[0].lower() for x in keywords]\n",
    "\n",
    "        try:\n",
    "            topic_ent_dict[topicNormalized].extend(item['keywords'])\n",
    "        except KeyError:\n",
    "            topic_ent_dict[topicNormalized] = item['keywords']\n",
    "        \n",
    "        item['embeddings'] = abstract_encoder.encode(abstract).tolist()\n",
    "\n",
    "        # We could map a paper to multiple topics using sentences!\n",
    "        # TODO: Unsure if we're actually going to do anything regarding sentences. Might be adding too much noise\n",
    "        # Process with spaCy\n",
    "        # doc = nlp(item['abstract'])\n",
    "        # item['sentences'] = [sent.text for sent in doc.sents]"
   ]
  },
  {
   "cell_type": "code",
   "execution_count": 10,
   "metadata": {},
   "outputs": [],
   "source": [
    "savePickle(topic_ent_dict, './data/topic_ent_dict_checkpoint.pkl')"
   ]
  },
  {
   "cell_type": "markdown",
   "metadata": {},
   "source": [
    "# Creating the graph"
   ]
  },
  {
   "cell_type": "code",
   "execution_count": 31,
   "metadata": {},
   "outputs": [],
   "source": [
    "uri = \"bolt://localhost:7687\"\n",
    "driver = GraphDatabase.driver(uri, auth=(\"neo4j\", \"hackathon\"))"
   ]
  },
  {
   "attachments": {},
   "cell_type": "markdown",
   "metadata": {},
   "source": [
    "## Cypher "
   ]
  },
  {
   "attachments": {},
   "cell_type": "markdown",
   "metadata": {},
   "source": [
    "### Node Creation queries\n"
   ]
  },
  {
   "cell_type": "code",
   "execution_count": 21,
   "metadata": {},
   "outputs": [],
   "source": [
    "# def create_paper_node(tx, paperId: str, title: str, abstract: str, embedding) -> None:\n",
    "#     tx.run(\"CREATE (a:Paper {paperId: $paperId, title: $title, abstract: $abstract, embedding: $embedding})\", paperId=paperId, title=title, abstract=abstract, embedding=embedding)\n",
    "\n",
    "def create_paper_node(tx, paperId: str, title: str, abstract: str) -> None:\n",
    "     tx.run(\"CREATE (a:Paper {paperId: $paperId, title: $title, abstract: $abstract})\", paperId=paperId, title=title, abstract=abstract)\n",
    "\n",
    "def create_keyword_node(tx, entity_name: str,) -> None:\n",
    "    tx.run(\"CREATE (a:Keyword {entity_name: $entity_name})\", entity_name=entity_name)\n",
    "\n",
    "def create_topic_node(tx, topic_name: str) -> None:\n",
    "    tx.run(\"CREATE (a:Topic {topic_name: $topic_name})\", topic_name=topic_name)\n",
    "    \n",
    "def create_sentence_node(tx, paperId: str, sentence_id: str, sentence_txt: str) -> None:\n",
    "    tx.run(\"CREATE (s:Sentence {paperId: $paperId, sentence_id: $sentence_id, sentence_txt: $sentence_txt})\", paperId=paperId, sentence_id=sentence_id, sentence_txt=sentence_txt)\n",
    "\n",
    "def create_author_node(tx, authorId: str, author_name: str) -> None:\n",
    "    tx.run(\"CREATE (a:Author {authorId: $authorId, author_name: $author_name})\", authorId=authorId, author_name=author_name)"
   ]
  },
  {
   "attachments": {},
   "cell_type": "markdown",
   "metadata": {},
   "source": [
    "### Keyword Relationships\n",
    "\n",
    "TODO: Lets start switching over to using Keyword instead of Entity. More user friendly imo"
   ]
  },
  {
   "cell_type": "code",
   "execution_count": 22,
   "metadata": {},
   "outputs": [],
   "source": [
    "def create_paper_has_keyword_relationship(tx, paperId, entity_name):\n",
    "    tx.run(\"MATCH (kw:Keyword) WHERE kw.entity_name = $entity_name \"\n",
    "            \"MATCH (paper:Paper) WHERE paper.paperId = $paperId \"\n",
    "            \"CREATE (paper)-[:HAS_KEYWORD]->(kw)\",\n",
    "           entity_name=entity_name, paperId=paperId)\n",
    "\n",
    "def create_keyword_in_paper_relationship(tx, paperId, entity_name):\n",
    "    tx.run(\"MATCH (kw:Keyword) WHERE kw.entity_name = $entity_name \"\n",
    "            \"MATCH (paper:Paper) WHERE paper.paperId = $paperId \"\n",
    "            \"CREATE (kw)-[:IN_PAPER]->(paper)\",\n",
    "           entity_name=entity_name, paperId=paperId)\n",
    "\n",
    "def create_keyword_cooccurence_relationship(tx, entity_name1, entity_name2):\n",
    "    tx.run(\"MATCH (kw1:Keyword) WHERE kw1.entity_name = $entity_name1 \"\n",
    "            \"MATCH (kw2:Keyword) WHERE kw2.entity_name = $entity_name2 \"\n",
    "            \"CREATE (kw1)-[:COOCCURS_WITH]->(kw2)\"\n",
    "            \"CREATE (kw2)-[:COOCCURS_WITH]->(kw1)\",\n",
    "           entity_name1=entity_name1, entity_name2=entity_name2)"
   ]
  },
  {
   "attachments": {},
   "cell_type": "markdown",
   "metadata": {},
   "source": [
    "### Topic Relationships"
   ]
  },
  {
   "cell_type": "code",
   "execution_count": 23,
   "metadata": {},
   "outputs": [],
   "source": [
    "def create_paper_in_topic_relationship(tx, paperId, topic_name):\n",
    "    tx.run(\"MATCH (topic:Topic) WHERE topic.topic_name = $topic_name \"\n",
    "            \"MATCH (paper:Paper) WHERE paper.paperId = $paperId \"\n",
    "            \"CREATE (paper)-[:IN_TOPIC]->(topic)\",\n",
    "           topic_name=topic_name, paperId=paperId)\n",
    "\n",
    "def create_topic_has_paper_relationship(tx, paperId, topic_name):\n",
    "    tx.run(\"MATCH (topic:Topic) WHERE topic.topic_name = $topic_name \"\n",
    "            \"MATCH (paper:Paper) WHERE paper.paperId = $paperId \"\n",
    "            \"CREATE (topic)-[:HAS_PAPER]->(paper)\",\n",
    "           topic_name=topic_name, paperId=paperId)\n",
    "\n",
    "def create_keyword_in_topic_relationship(tx, entity_name, topic_name):\n",
    "    tx.run(\"MATCH (topic:Topic) WHERE topic.topic_name = $topic_name \"\n",
    "            \"MATCH (kw:Keyword) WHERE kw.entity_name = $entity_name \"\n",
    "            \"CREATE (kw)-[:IN_TOPIC]->(topic)\",\n",
    "           topic_name=topic_name, entity_name=entity_name)\n",
    "\n",
    "def create_topic_has_keyword_relationship(tx, entity_name, topic_name):\n",
    "    tx.run(\"MATCH (topic:Topic) WHERE topic.topic_name = $topic_name \"\n",
    "            \"MATCH (kw:Keyword) WHERE kw.entity_name = $entity_name \"\n",
    "            \"CREATE (topic)-[:HAS_KEYWORD]->(kw)\",\n",
    "           topic_name=topic_name, entity_name=entity_name)"
   ]
  },
  {
   "attachments": {},
   "cell_type": "markdown",
   "metadata": {},
   "source": [
    "### Sentence Relationships"
   ]
  },
  {
   "cell_type": "code",
   "execution_count": 24,
   "metadata": {},
   "outputs": [],
   "source": [
    "def create_paper_has_sentence_relationship(tx, sentence_id, paperId):\n",
    "    tx.run(\"MATCH (s:Sentence) WHERE s.sentence_id = $sentence_id \"\n",
    "            \"MATCH (p:Paper) WHERE p.paperId = $paperId \"\n",
    "            \"CREATE (p)-[:HAS_SENTENCE]->(s)\",\n",
    "           sentence_id=sentence_id, paperId=paperId)\n",
    "\n",
    "def create_sentence_in_paper_relationship(tx, sentence_id, paperId):\n",
    "    tx.run(\"MATCH (s:Sentence) WHERE s.sentence_id = $sentence_id \"\n",
    "            \"MATCH (p:Paper) WHERE p.paperId = $paperId \"\n",
    "            \"CREATE (s)-[:IN_PAPER]->(p)\",\n",
    "           sentence_id=sentence_id, paperId=paperId)\n",
    "\n",
    "def create_semantic_sentence_relationship(tx, sentence_id1, sentence_id2, score):\n",
    "    tx.run(\"MATCH (s1:Sentence) WHERE s1.sentence_id = $sentence_id1 \"\n",
    "            \"MATCH (s2:Sentence) WHERE s2.sentence_id = $sentence_id2 \"\n",
    "            \"CREATE (s1)-[:SIMILAR {score: $score}]->(s2)\",\n",
    "           sentence_id1=sentence_id1, sentence_id2=sentence_id2, score=score)\n",
    "\n",
    "def create_keyword_in_sentence_relationship(tx, entity_name, sentence_id):\n",
    "    tx.run(\"MATCH (sent:Sentence) WHERE s.sentence_id = $sentence_id \"\n",
    "            \"MATCH (kw:Keyword) WHERE kw.entity_name = $entity_name \"\n",
    "            \"CREATE (kw)-[:IN_SENTENCE]->(sent)\",\n",
    "           sentence_id=sentence_id, entity_name=entity_name)\n",
    "\n",
    "def create_sentence_has_keyword_relationship(tx, entity_name, sentence_id):\n",
    "    tx.run(\"MATCH (sent:Sentence) WHERE s.sentence_id = $sentence_id \"\n",
    "            \"MATCH (kw:Keyword) WHERE kw.entity_name = $entity_name \"\n",
    "            \"CREATE (sent)-[:HAS_KEYWORD]->(kw)\",\n",
    "           sentence_id=sentence_id, entity_name=entity_name)"
   ]
  },
  {
   "cell_type": "code",
   "execution_count": 25,
   "metadata": {},
   "outputs": [],
   "source": [
    "def create_authored_relationship(tx, paperId, authorId):\n",
    "    tx.run(\"MATCH (a:Author) WHERE a.authorId = $authorId \"\n",
    "            \"MATCH (b:Paper) WHERE b.paperId = $paperId \"\n",
    "            \"CREATE (a)-[:AUTHORED]->(b)\"\n",
    "            \"CREATE (b)-[:AUTHORED]->(a)\",\n",
    "           authorId=authorId, paperId=paperId)"
   ]
  },
  {
   "attachments": {},
   "cell_type": "markdown",
   "metadata": {},
   "source": [
    "## Populating the graph (from scratch)\n",
    "Run this code only during local development or if youre recreating a graph from scratch. Not meant to touch the production graph."
   ]
  },
  {
   "cell_type": "code",
   "execution_count": 32,
   "metadata": {},
   "outputs": [],
   "source": [
    "def get_sentence_id(paperId: str, count: int) -> str:\n",
    "    f\"{paperId}-{count}\""
   ]
  },
  {
   "cell_type": "code",
   "execution_count": 33,
   "metadata": {},
   "outputs": [],
   "source": [
    "seen_authors = set()\n",
    "seen_keywords = set()\n",
    "seen_topics = set()\n",
    "seen_key_topic_pairs = {}\n",
    "seen_keyword_paper_pairs = {}\n",
    "\n",
    "with driver.session() as session:\n",
    "    for item in data:\n",
    "        # Create the core paper node\n",
    "        # session.execute_write(create_paper_node, item['paperId'], item['title'], item['abstract'], item['embeddings'])\n",
    "        session.execute_write(create_paper_node, item['paperId'], item['title'], item['abstract'])\n",
    "\n",
    "\n",
    "        if item['topic'] not in seen_topics:\n",
    "            seen_topics.add(item['topic'])\n",
    "            session.execute_write(create_topic_node, item['topic'])\n",
    "        \n",
    "        session.execute_write(create_paper_in_topic_relationship, item['paperId'], item['topic'])\n",
    "        session.execute_write(create_topic_has_paper_relationship, item['paperId'], item['topic'])\n",
    "\n",
    "        # Create the entity nodes\n",
    "        for ent in item['keywords']:\n",
    "            if ent not in seen_keywords:\n",
    "                #print(f\"Creating keyword node for {ent}\")\n",
    "                seen_keywords.add(ent)\n",
    "                session.execute_write(create_keyword_node, ent)\n",
    "                \n",
    "                \n",
    "            if ent not in seen_key_topic_pairs or item['topic'] not in seen_key_topic_pairs[ent]:\n",
    "                session.execute_write(create_keyword_in_topic_relationship, ent, item['topic'])\n",
    "                session.execute_write(create_topic_has_keyword_relationship, ent, item['topic'])\n",
    "                if ent not in seen_key_topic_pairs:\n",
    "                    seen_key_topic_pairs[ent] = set()\n",
    "                seen_key_topic_pairs[ent].add(item['topic'])\n",
    "\n",
    "            if ent not in seen_keyword_paper_pairs or item['paperId'] not in seen_keyword_paper_pairs[ent]:\n",
    "                session.execute_write(create_paper_has_keyword_relationship, item['paperId'], ent)\n",
    "                session.execute_write(create_keyword_in_paper_relationship, item['paperId'], ent)\n",
    "                if ent not in seen_keyword_paper_pairs:\n",
    "                    seen_keyword_paper_pairs[ent] = set()\n",
    "                seen_keyword_paper_pairs[ent].add(item['paperId'])\n",
    "\n",
    "        # Create the keyword co-occurence relationships\n",
    "        # for ent in item['keywords']:\n",
    "        #     for ent2 in item['keywords']:\n",
    "        #         if ent != ent2:\n",
    "        #             session.execute_write(create_keyword_cooccurence_relationship, ent, ent2)\n",
    "\n",
    "        # Create the author nodes and relationships\n",
    "        for author in item['authors']:\n",
    "            if author['authorId'] not in seen_authors:\n",
    "                seen_authors.add(author['authorId'])\n",
    "                session.execute_write(create_author_node, author['authorId'], author['name'])\n",
    "\n",
    "            session.execute_write(create_authored_relationship, item['paperId'], author['authorId'])\n",
    "\n",
    "driver.close()"
   ]
  },
  {
   "cell_type": "code",
   "execution_count": null,
   "metadata": {},
   "outputs": [],
   "source": []
  }
 ],
 "metadata": {
  "kernelspec": {
   "display_name": "venv",
   "language": "python",
   "name": "python3"
  },
  "language_info": {
   "codemirror_mode": {
    "name": "ipython",
    "version": 3
   },
   "file_extension": ".py",
   "mimetype": "text/x-python",
   "name": "python",
   "nbconvert_exporter": "python",
   "pygments_lexer": "ipython3",
   "version": "3.8.8"
  },
  "orig_nbformat": 4,
  "vscode": {
   "interpreter": {
    "hash": "e1eabbc9a406c53db59c49ebe6f40286eabb20418c59c68041ab7ce3464042c4"
   }
  }
 },
 "nbformat": 4,
 "nbformat_minor": 2
}
